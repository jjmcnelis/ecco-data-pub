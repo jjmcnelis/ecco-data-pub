{
 "cells": [
  {
   "cell_type": "markdown",
   "metadata": {},
   "source": [
    "# ecco podaac nc adjustments\n",
    "\n",
    "There's a function in `podaac.py` that'll modify the xarray dataset just before it's output."
   ]
  },
  {
   "cell_type": "code",
   "execution_count": 1,
   "metadata": {},
   "outputs": [
    {
     "data": {
      "text/plain": [
       "['ATM_SURFACE_TEMP_HUM_WIND_PRES_day_mean_1992-01-01_ECCO_V4r4_latlon_0p50deg.nc',\n",
       " 'datasets.csv',\n",
       " 'ecco_podaac.py',\n",
       " 'keywords.json',\n",
       " '__pycache__',\n",
       " 'README.ipynb',\n",
       " 'README.md']"
      ]
     },
     "execution_count": 1,
     "metadata": {},
     "output_type": "execute_result"
    }
   ],
   "source": [
    "files=!ls\n",
    "files"
   ]
  },
  {
   "cell_type": "code",
   "execution_count": 2,
   "metadata": {},
   "outputs": [
    {
     "data": {
      "text/plain": [
       "'ATM_SURFACE_TEMP_HUM_WIND_PRES_day_mean_1992-01-01_ECCO_V4r4_latlon_0p50deg.nc'"
      ]
     },
     "execution_count": 2,
     "metadata": {},
     "output_type": "execute_result"
    }
   ],
   "source": [
    "f = files[0]\n",
    "f"
   ]
  },
  {
   "cell_type": "markdown",
   "metadata": {},
   "source": [
    "## example output"
   ]
  },
  {
   "cell_type": "code",
   "execution_count": 3,
   "metadata": {},
   "outputs": [
    {
     "name": "stdout",
     "output_type": "stream",
     "text": [
      "<xarray.Dataset>\r\n",
      "Dimensions:         (latitude: 360, longitude: 720, nv: 2, time: 1)\r\n",
      "Coordinates:\r\n",
      "  * time            (time) datetime64[ns] 1992-01-01T12:00:00\r\n",
      "  * latitude        (latitude) float32 -89.75 -89.25 -88.75 ... 89.25 89.75\r\n",
      "  * longitude       (longitude) float32 -179.75 -179.25 ... 179.25 179.75\r\n",
      "    time_step       (time) timedelta64[ns] ...\r\n",
      "    latitude_bnds   (latitude, nv) float32 ...\r\n",
      "    longitude_bnds  (longitude, nv) float32 ...\r\n",
      "    time_bnds       (time, nv) datetime64[ns] ...\r\n",
      "Dimensions without coordinates: nv\r\n",
      "Data variables:\r\n",
      "    EXFatemp        (time, latitude, longitude) float32 ...\r\n",
      "    EXFaqh          (time, latitude, longitude) float32 ...\r\n",
      "    EXFewind        (time, latitude, longitude) float32 ...\r\n",
      "    EXFnwind        (time, latitude, longitude) float32 ...\r\n",
      "    EXFwspee        (time, latitude, longitude) float32 ...\r\n",
      "    EXFpress        (time, latitude, longitude) float32 ...\r\n",
      "Attributes:\r\n",
      "    acknowledgement:              This research was carried out by the Jet Pr...\r\n",
      "    author:                       Ian Fenty and Ou Wang\r\n",
      "    cdm_data_type:                Grid\r\n",
      "    comment:                      These fields are provided on a regular lat-...\r\n",
      "    conventions:                  CF-1.8, ACDD-1.3\r\n",
      "    creator_email:                ecco-group@mit.edu\r\n",
      "    creator_institution:          NASA Jet Propulsion Laboratory (JPL)\r\n",
      "    creator_name:                 ECCO Consortium\r\n",
      "    creator_type:                 group\r\n",
      "    creator_url:                  https://ecco.jpl.nasa.gov\r\n",
      "    date_created:                 2020-09-02T09:13:10\r\n",
      "    date_issued:                  2020-09-02T09:13:10\r\n",
      "    date_metadata_modified:       2020-09-02T09:13:10\r\n",
      "    date_modified:                2020-09-02T09:13:10\r\n",
      "    geospatial_lat_max:           90.0\r\n",
      "    geospatial_lat_min:           -90.0\r\n",
      "    geospatial_lat_resolution:    0.5\r\n",
      "    geospatial_lat_units:         degrees_north\r\n",
      "    geospatial_lon_max:           180.0\r\n",
      "    geospatial_lon_min:           -180.0\r\n",
      "    geospatial_lon_resolution:    0.5\r\n",
      "    geospatial_lon_units:         degrees_east\r\n",
      "    history:                      Inaugural release of an ECCO \"Central Estim...\r\n",
      "    id:                           10.5067/ECG5D-ATM44\r\n",
      "    institution:                  NASA Jet Propulsion Laboratory (JPL)\r\n",
      "    instrument_vocabulary:        GCMD instrument keywords\r\n",
      "    keywords:                     EARTH SCIENCE > OCEANS > OCEAN TEMPERATURE ...\r\n",
      "    keywords_vocabulary:          NASA Global Change Master Directory (GCMD) ...\r\n",
      "    license:                      Public Domain\r\n",
      "    naming_authority:             gov.nasa.jpl\r\n",
      "    platform:                     ERS-1/2, TOPEX/Poseidon, GFO, ENVISAT, Jaso...\r\n",
      "    platform_vocabulary:          GCMD platform keywords\r\n",
      "    processing_level:             L4\r\n",
      "    product_name:                 ATM_SURFACE_TEMP_HUM_WIND_PRES_day_mean_199...\r\n",
      "    product_time_coverage_end:    2017-12-31T12:00:00\r\n",
      "    product_time_coverage_start:  1992-01-01T12:00:00\r\n",
      "    product_version:              Version 4, Release 4\r\n",
      "    program:                      NASA Physical Oceanography, Cryosphere, Mod...\r\n",
      "    project:                      Estimating the Circulation and Climate of t...\r\n",
      "    publisher_email:              podaac@podaac.jpl.nasa.gov\r\n",
      "    publisher_name:               Physical Oceanography Distributed Active Ar...\r\n",
      "    publisher_type:               institution\r\n",
      "    publisher_url:                https://podaac.jpl.nasa.gov\r\n",
      "    references:                   ECCO Consortium, Fukumori, I., Wang, O., Fe...\r\n",
      "    standard_name_vocabulary:     NetCDF Climate and Forecast (CF) Metadata C...\r\n",
      "    summary:                      This dataset provides daily average atmosph...\r\n",
      "    time_coverage_duration:       P1D\r\n",
      "    time_coverage_end:            1992-01-02T00:00:00\r\n",
      "    time_coverage_resolution:     P1D\r\n",
      "    time_coverage_start:          1992-01-01T00:00:00\r\n",
      "    title:                        ECCO Atmosphere Surface Temperature, Humidi...\r\n",
      "    geospatial_bounds_crs:        EPSG:4326\r\n",
      "    metadata_link:                https://cmr.earthdata.nasa.gov/search/colle...\r\n",
      "    publisher_institution:        PO.DAAC\r\n"
     ]
    }
   ],
   "source": [
    "!python ecco_podaac.py $f"
   ]
  },
  {
   "cell_type": "markdown",
   "metadata": {},
   "source": [
    "## more like ecco procedure"
   ]
  },
  {
   "cell_type": "code",
   "execution_count": 4,
   "metadata": {},
   "outputs": [
    {
     "name": "stdout",
     "output_type": "stream",
     "text": [
      "<xarray.Dataset>\n",
      "Dimensions:         (latitude: 360, longitude: 720, nv: 2, time: 1)\n",
      "Coordinates:\n",
      "  * time            (time) datetime64[ns] 1992-01-01T12:00:00\n",
      "  * latitude        (latitude) float32 -89.75 -89.25 -88.75 ... 89.25 89.75\n",
      "  * longitude       (longitude) float32 -179.75 -179.25 ... 179.25 179.75\n",
      "    time_step       (time) timedelta64[ns] ...\n",
      "    latitude_bnds   (latitude, nv) float32 ...\n",
      "    longitude_bnds  (longitude, nv) float32 ...\n",
      "    time_bnds       (time, nv) datetime64[ns] ...\n",
      "Dimensions without coordinates: nv\n",
      "Data variables:\n",
      "    EXFatemp        (time, latitude, longitude) float32 ...\n",
      "    EXFaqh          (time, latitude, longitude) float32 ...\n",
      "    EXFewind        (time, latitude, longitude) float32 ...\n",
      "    EXFnwind        (time, latitude, longitude) float32 ...\n",
      "    EXFwspee        (time, latitude, longitude) float32 ...\n",
      "    EXFpress        (time, latitude, longitude) float32 ...\n",
      "Attributes:\n",
      "    acknowledgement:              This research was carried out by the Jet Pr...\n",
      "    author:                       Ian Fenty and Ou Wang\n",
      "    cdm_data_type:                Grid\n",
      "    comment:                      These fields are provided on a regular lat-...\n",
      "    conventions:                  CF-1.8, ACDD-1.3\n",
      "    creator_email:                ecco-group@mit.edu\n",
      "    creator_institution:          NASA Jet Propulsion Laboratory (JPL)\n",
      "    creator_name:                 ECCO Consortium\n",
      "    creator_type:                 group\n",
      "    creator_url:                  https://ecco.jpl.nasa.gov\n",
      "    date_created:                 2020-09-02T09:13:11\n",
      "    date_issued:                  2020-09-02T09:13:11\n",
      "    date_metadata_modified:       2020-09-02T09:13:11\n",
      "    date_modified:                2020-09-02T09:13:11\n",
      "    geospatial_lat_max:           90.0\n",
      "    geospatial_lat_min:           -90.0\n",
      "    geospatial_lat_resolution:    0.5\n",
      "    geospatial_lat_units:         degrees_north\n",
      "    geospatial_lon_max:           180.0\n",
      "    geospatial_lon_min:           -180.0\n",
      "    geospatial_lon_resolution:    0.5\n",
      "    geospatial_lon_units:         degrees_east\n",
      "    history:                      Inaugural release of an ECCO \"Central Estim...\n",
      "    id:                           10.5067/ECG5D-ATM44\n",
      "    institution:                  NASA Jet Propulsion Laboratory (JPL)\n",
      "    instrument_vocabulary:        GCMD instrument keywords\n",
      "    keywords:                     EARTH SCIENCE > OCEANS > OCEAN TEMPERATURE ...\n",
      "    keywords_vocabulary:          NASA Global Change Master Directory (GCMD) ...\n",
      "    license:                      Public Domain\n",
      "    naming_authority:             gov.nasa.jpl\n",
      "    platform:                     ERS-1/2, TOPEX/Poseidon, GFO, ENVISAT, Jaso...\n",
      "    platform_vocabulary:          GCMD platform keywords\n",
      "    processing_level:             L4\n",
      "    product_name:                 ATM_SURFACE_TEMP_HUM_WIND_PRES_day_mean_199...\n",
      "    product_time_coverage_end:    2017-12-31T12:00:00\n",
      "    product_time_coverage_start:  1992-01-01T12:00:00\n",
      "    product_version:              Version 4, Release 4\n",
      "    program:                      NASA Physical Oceanography, Cryosphere, Mod...\n",
      "    project:                      Estimating the Circulation and Climate of t...\n",
      "    publisher_email:              podaac@podaac.jpl.nasa.gov\n",
      "    publisher_name:               Physical Oceanography Distributed Active Ar...\n",
      "    publisher_type:               institution\n",
      "    publisher_url:                https://podaac.jpl.nasa.gov\n",
      "    references:                   ECCO Consortium, Fukumori, I., Wang, O., Fe...\n",
      "    standard_name_vocabulary:     NetCDF Climate and Forecast (CF) Metadata C...\n",
      "    summary:                      This dataset provides daily average atmosph...\n",
      "    time_coverage_duration:       P1D\n",
      "    time_coverage_end:            1992-01-02T00:00:00\n",
      "    time_coverage_resolution:     P1D\n",
      "    time_coverage_start:          1992-01-01T00:00:00\n",
      "    title:                        ECCO Atmosphere Surface Temperature, Humidi...\n",
      "    geospatial_bounds_crs:        EPSG:4326\n",
      "    metadata_link:                https://cmr.earthdata.nasa.gov/search/colle...\n",
      "    publisher_institution:        PO.DAAC\n"
     ]
    }
   ],
   "source": [
    "from ecco_podaac import apply_some_metadata_modifiers\n",
    "import xarray as xr\n",
    "\n",
    "# Get a function to apply to the xr Dataset just before write to netCDF.\n",
    "func = apply_some_metadata_modifiers(f)\n",
    "\n",
    "# Here I open a test file for the example and apply the func.\n",
    "with xr.open_dataset(f) as ds:\n",
    "    print(func(ds))\n",
    "    \n",
    "    # Then you write out the file."
   ]
  },
  {
   "cell_type": "code",
   "execution_count": null,
   "metadata": {},
   "outputs": [],
   "source": []
  }
 ],
 "metadata": {
  "kernelspec": {
   "display_name": "Python 3",
   "language": "python",
   "name": "python3"
  },
  "language_info": {
   "codemirror_mode": {
    "name": "ipython",
    "version": 3
   },
   "file_extension": ".py",
   "mimetype": "text/x-python",
   "name": "python",
   "nbconvert_exporter": "python",
   "pygments_lexer": "ipython3",
   "version": "3.7.8"
  },
  "toc": {
   "base_numbering": 1,
   "nav_menu": {},
   "number_sections": true,
   "sideBar": true,
   "skip_h1_title": true,
   "title_cell": "Table of Contents",
   "title_sidebar": "Contents",
   "toc_cell": false,
   "toc_position": {},
   "toc_section_display": true,
   "toc_window_display": true
  }
 },
 "nbformat": 4,
 "nbformat_minor": 4
}
