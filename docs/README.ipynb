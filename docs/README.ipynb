{
 "cells": [
  {
   "cell_type": "markdown",
   "metadata": {},
   "source": [
    "# ecco-data-pub\n",
    "\n",
    "*( this saves from [docs/README.ipynb](README.ipynb). )*"
   ]
  },
  {
   "cell_type": "code",
   "execution_count": 1,
   "metadata": {
    "ExecuteTime": {
     "end_time": "2020-08-06T10:54:42.597045Z",
     "start_time": "2020-08-06T10:54:42.593259Z"
    },
    "hide_input": false,
    "init_cell": true
   },
   "outputs": [
    {
     "name": "stdout",
     "output_type": "stream",
     "text": [
      "LAST RUN: 2020-08-06 06:54:42\n"
     ]
    }
   ],
   "source": [
    "from json import load\n",
    "from os import chdir, listdir\n",
    "from pandas import read_csv\n",
    "from datetime import datetime\n",
    "print(\"LAST RUN:\", datetime.now().strftime(\"%Y-%m-%d %H:%M:%S\"))"
   ]
  },
  {
   "cell_type": "code",
   "execution_count": 2,
   "metadata": {
    "ExecuteTime": {
     "end_time": "2020-08-06T10:54:42.610129Z",
     "start_time": "2020-08-06T10:54:42.600200Z"
    },
    "hide_input": true,
    "init_cell": true
   },
   "outputs": [
    {
     "data": {
      "text/plain": [
       "['metadata/README.md',\n",
       " 'metadata/datasets.csv',\n",
       " 'metadata/platforms-instruments.json',\n",
       " 'metadata/ummc',\n",
       " 'metadata/ummvar',\n",
       " 'metadata/variables.csv']"
      ]
     },
     "execution_count": 2,
     "metadata": {},
     "output_type": "execute_result"
    }
   ],
   "source": [
    "list(sorted([f\"metadata/{f}\" for f in listdir(\"../metadata\") if not f.startswith(\".\")]))"
   ]
  },
  {
   "cell_type": "markdown",
   "metadata": {
    "hide_input": false
   },
   "source": [
    "comma delimited table matching concept-ids to DMAS fields:"
   ]
  },
  {
   "cell_type": "code",
   "execution_count": 3,
   "metadata": {
    "ExecuteTime": {
     "end_time": "2020-08-06T10:54:42.630375Z",
     "start_time": "2020-08-06T10:54:42.613381Z"
    },
    "hide_input": true,
    "init_cell": true
   },
   "outputs": [
    {
     "data": {
      "text/html": [
       "<div>\n",
       "<style scoped>\n",
       "    .dataframe tbody tr th:only-of-type {\n",
       "        vertical-align: middle;\n",
       "    }\n",
       "\n",
       "    .dataframe tbody tr th {\n",
       "        vertical-align: top;\n",
       "    }\n",
       "\n",
       "    .dataframe thead th {\n",
       "        text-align: right;\n",
       "    }\n",
       "</style>\n",
       "<table border=\"1\" class=\"dataframe\">\n",
       "  <thead>\n",
       "    <tr style=\"text-align: right;\">\n",
       "      <th></th>\n",
       "      <th>concept-id</th>\n",
       "      <th>DATASET.SHORT_NAME</th>\n",
       "    </tr>\n",
       "  </thead>\n",
       "  <tbody>\n",
       "    <tr>\n",
       "      <th>0</th>\n",
       "      <td>C1236799831-POCLOUD</td>\n",
       "      <td>ECCO_L4_FRESH_FLUX_05DEG_DAILY_V4R4</td>\n",
       "    </tr>\n",
       "    <tr>\n",
       "      <th>1</th>\n",
       "      <td>C1236807469-POCLOUD</td>\n",
       "      <td>ECCO_L4_FRESH_FLUX_05DEG_MONTHLY_V4R4</td>\n",
       "    </tr>\n",
       "    <tr>\n",
       "      <th>2</th>\n",
       "      <td>C1236807470-POCLOUD</td>\n",
       "      <td>ECCO_L4_FRESH_FLUX_LLC0090GRID_SNAPSHOT_V4R4</td>\n",
       "    </tr>\n",
       "    <tr>\n",
       "      <th>3</th>\n",
       "      <td>C1236807471-POCLOUD</td>\n",
       "      <td>ECCO_L4_FRESH_FLUX_LLC0090GRID_DAILY_V4R4</td>\n",
       "    </tr>\n",
       "    <tr>\n",
       "      <th>4</th>\n",
       "      <td>C1236807472-POCLOUD</td>\n",
       "      <td>ECCO_L4_FRESH_FLUX_LLC0090GRID_MONTHLY_V4R4</td>\n",
       "    </tr>\n",
       "    <tr>\n",
       "      <th>...</th>\n",
       "      <td>...</td>\n",
       "      <td>...</td>\n",
       "    </tr>\n",
       "    <tr>\n",
       "      <th>60</th>\n",
       "      <td>C1236807528-POCLOUD</td>\n",
       "      <td>ECCO_L4_GMSL_05DEG_DAILY_V4R4</td>\n",
       "    </tr>\n",
       "    <tr>\n",
       "      <th>61</th>\n",
       "      <td>C1236807529-POCLOUD</td>\n",
       "      <td>ECCO_L4_GMSL_05DEG_MONTHLY_V4R4</td>\n",
       "    </tr>\n",
       "    <tr>\n",
       "      <th>62</th>\n",
       "      <td>C1236807530-POCLOUD</td>\n",
       "      <td>ECCO_L4_GMSL_LLC0090GRID_SNAPSHOT_V4R4</td>\n",
       "    </tr>\n",
       "    <tr>\n",
       "      <th>63</th>\n",
       "      <td>C1236807531-POCLOUD</td>\n",
       "      <td>ECCO_L4_GMSL_LLC0090GRID_DAILY_V4R4</td>\n",
       "    </tr>\n",
       "    <tr>\n",
       "      <th>64</th>\n",
       "      <td>C1236807532-POCLOUD</td>\n",
       "      <td>ECCO_L4_GMSL_LLC0090GRID_MONTHLY_V4R4</td>\n",
       "    </tr>\n",
       "  </tbody>\n",
       "</table>\n",
       "<p>65 rows × 2 columns</p>\n",
       "</div>"
      ],
      "text/plain": [
       "             concept-id                            DATASET.SHORT_NAME\n",
       "0   C1236799831-POCLOUD           ECCO_L4_FRESH_FLUX_05DEG_DAILY_V4R4\n",
       "1   C1236807469-POCLOUD         ECCO_L4_FRESH_FLUX_05DEG_MONTHLY_V4R4\n",
       "2   C1236807470-POCLOUD  ECCO_L4_FRESH_FLUX_LLC0090GRID_SNAPSHOT_V4R4\n",
       "3   C1236807471-POCLOUD     ECCO_L4_FRESH_FLUX_LLC0090GRID_DAILY_V4R4\n",
       "4   C1236807472-POCLOUD   ECCO_L4_FRESH_FLUX_LLC0090GRID_MONTHLY_V4R4\n",
       "..                  ...                                           ...\n",
       "60  C1236807528-POCLOUD                 ECCO_L4_GMSL_05DEG_DAILY_V4R4\n",
       "61  C1236807529-POCLOUD               ECCO_L4_GMSL_05DEG_MONTHLY_V4R4\n",
       "62  C1236807530-POCLOUD        ECCO_L4_GMSL_LLC0090GRID_SNAPSHOT_V4R4\n",
       "63  C1236807531-POCLOUD           ECCO_L4_GMSL_LLC0090GRID_DAILY_V4R4\n",
       "64  C1236807532-POCLOUD         ECCO_L4_GMSL_LLC0090GRID_MONTHLY_V4R4\n",
       "\n",
       "[65 rows x 2 columns]"
      ]
     },
     "execution_count": 3,
     "metadata": {},
     "output_type": "execute_result"
    }
   ],
   "source": [
    "read_csv('../metadata/datasets.csv')[['concept-id', 'DATASET.SHORT_NAME']]"
   ]
  },
  {
   "cell_type": "markdown",
   "metadata": {
    "ExecuteTime": {
     "end_time": "2020-08-06T09:24:35.259862Z",
     "start_time": "2020-08-06T09:24:35.256945Z"
    }
   },
   "source": [
    "GCMD platforms/instruments short codes reference:"
   ]
  },
  {
   "cell_type": "code",
   "execution_count": 4,
   "metadata": {
    "ExecuteTime": {
     "end_time": "2020-08-06T10:54:42.640140Z",
     "start_time": "2020-08-06T10:54:42.633700Z"
    },
    "hide_input": true,
    "init_cell": true
   },
   "outputs": [
    {
     "data": {
      "text/plain": [
       "['ERS-1',\n",
       " 'ERS-2',\n",
       " 'TOPEX/POSEIDON',\n",
       " 'JASON-1',\n",
       " 'OSTM/JASON-2',\n",
       " 'JASON-3',\n",
       " 'CRYOSAT-2',\n",
       " 'SARAL',\n",
       " 'ENVISAT',\n",
       " 'GRACE',\n",
       " 'GRACE-FO',\n",
       " 'Aquarius_SAC-D',\n",
       " 'METOP-A',\n",
       " 'METOP-B',\n",
       " 'NOAA-19',\n",
       " 'NOAA-20',\n",
       " 'NOAA POES',\n",
       " 'DMSP 5D-2/F10',\n",
       " 'DMSP 5D-2/F11',\n",
       " 'DMSP 5D-2/F13',\n",
       " 'DMSP 5D-2/F14',\n",
       " 'DMSP 5D-2/F15',\n",
       " 'DMSP 5D-2/F16',\n",
       " 'DMSP 5D-3/F17',\n",
       " 'DMSP 5D-3/F18',\n",
       " 'MOORINGS',\n",
       " 'BUOYS',\n",
       " 'SEAGLIDER',\n",
       " 'MODELS']"
      ]
     },
     "metadata": {},
     "output_type": "display_data"
    }
   ],
   "source": [
    "with open(\"../metadata/platforms-instruments.json\", \"r\") as f:\n",
    "    platforms_instruments = load(f)\n",
    "display([p['ShortName'] for p in platforms_instruments])"
   ]
  },
  {
   "cell_type": "code",
   "execution_count": 5,
   "metadata": {
    "ExecuteTime": {
     "end_time": "2020-08-06T10:54:42.644946Z",
     "start_time": "2020-08-06T10:54:42.642751Z"
    },
    "init_cell": true
   },
   "outputs": [],
   "source": [
    "#print(dumps(platforms_instruments[0], indent=2))"
   ]
  },
  {
   "cell_type": "markdown",
   "metadata": {},
   "source": [
    "## collections"
   ]
  },
  {
   "cell_type": "code",
   "execution_count": 6,
   "metadata": {
    "ExecuteTime": {
     "end_time": "2020-08-06T10:54:42.653286Z",
     "start_time": "2020-08-06T10:54:42.646896Z"
    },
    "hide_input": true,
    "init_cell": true
   },
   "outputs": [
    {
     "data": {
      "text/plain": [
       "['metadata/ummc/ECCO_L4_ATM_PROPERTIES_05DEG_DAILY_V4R4.json',\n",
       " 'metadata/ummc/ECCO_L4_ATM_PROPERTIES_05DEG_MONTHLY_V4R4.json',\n",
       " 'metadata/ummc/ECCO_L4_ATM_PROPERTIES_LLC0090GRID_DAILY_V4R4.json',\n",
       " 'metadata/ummc/ECCO_L4_ATM_PROPERTIES_LLC0090GRID_MONTHLY_V4R4.json',\n",
       " 'metadata/ummc/ECCO_L4_ATM_PROPERTIES_LLC0090GRID_SNAPSHOT_V4R4.json',\n",
       " 'metadata/ummc/ECCO_L4_BOLUS_05DEG_DAILY_V4R4.json',\n",
       " 'metadata/ummc/ECCO_L4_BOLUS_05DEG_MONTHLY_V4R4.json',\n",
       " 'metadata/ummc/ECCO_L4_BOLUS_LLC0090GRID_DAILY_V4R4.json',\n",
       " 'metadata/ummc/ECCO_L4_BOLUS_LLC0090GRID_MONTHLY_V4R4.json',\n",
       " 'metadata/ummc/ECCO_L4_BOLUS_LLC0090GRID_SNAPSHOT_V4R4.json',\n",
       " 'metadata/ummc/ECCO_L4_DENSE_05DEG_DAILY_V4R4.json',\n",
       " 'metadata/ummc/ECCO_L4_DENSE_05DEG_MONTHLY_V4R4.json',\n",
       " 'metadata/ummc/ECCO_L4_DENSE_LLC0090GRID_DAILY_V4R4.json',\n",
       " 'metadata/ummc/ECCO_L4_DENSE_LLC0090GRID_MONTHLY_V4R4.json',\n",
       " 'metadata/ummc/ECCO_L4_DENSE_LLC0090GRID_SNAPSHOT_V4R4.json',\n",
       " 'metadata/ummc/ECCO_L4_FRESH_FLUX_05DEG_DAILY_V4R4.json',\n",
       " 'metadata/ummc/ECCO_L4_FRESH_FLUX_05DEG_MONTHLY_V4R4.json',\n",
       " 'metadata/ummc/ECCO_L4_FRESH_FLUX_LLC0090GRID_DAILY_V4R4.json',\n",
       " 'metadata/ummc/ECCO_L4_FRESH_FLUX_LLC0090GRID_MONTHLY_V4R4.json',\n",
       " 'metadata/ummc/ECCO_L4_FRESH_FLUX_LLC0090GRID_SNAPSHOT_V4R4.json',\n",
       " 'metadata/ummc/ECCO_L4_GMSL_05DEG_DAILY_V4R4.json',\n",
       " 'metadata/ummc/ECCO_L4_GMSL_05DEG_MONTHLY_V4R4.json',\n",
       " 'metadata/ummc/ECCO_L4_GMSL_LLC0090GRID_DAILY_V4R4.json',\n",
       " 'metadata/ummc/ECCO_L4_GMSL_LLC0090GRID_MONTHLY_V4R4.json',\n",
       " 'metadata/ummc/ECCO_L4_GMSL_LLC0090GRID_SNAPSHOT_V4R4.json',\n",
       " 'metadata/ummc/ECCO_L4_HEAT_FLUX_05DEG_DAILY_V4R4.json',\n",
       " 'metadata/ummc/ECCO_L4_HEAT_FLUX_05DEG_MONTHLY_V4R4.json',\n",
       " 'metadata/ummc/ECCO_L4_HEAT_FLUX_LLC0090GRID_DAILY_V4R4.json',\n",
       " 'metadata/ummc/ECCO_L4_HEAT_FLUX_LLC0090GRID_MONTHLY_V4R4.json',\n",
       " 'metadata/ummc/ECCO_L4_HEAT_FLUX_LLC0090GRID_SNAPSHOT_V4R4.json',\n",
       " 'metadata/ummc/ECCO_L4_MIXED_LAYER_DEPTH_05DEG_DAILY_V4R4.json',\n",
       " 'metadata/ummc/ECCO_L4_MIXED_LAYER_DEPTH_05DEG_MONTHLY_V4R4.json',\n",
       " 'metadata/ummc/ECCO_L4_MIXED_LAYER_DEPTH_LLC0090GRID_DAILY_V4R4.json',\n",
       " 'metadata/ummc/ECCO_L4_MIXED_LAYER_DEPTH_LLC0090GRID_MONTHLY_V4R4.json',\n",
       " 'metadata/ummc/ECCO_L4_MIXED_LAYER_DEPTH_LLC0090GRID_SNAPSHOT_V4R4.json',\n",
       " 'metadata/ummc/ECCO_L4_OBP_05DEG_DAILY_V4R4.json',\n",
       " 'metadata/ummc/ECCO_L4_OBP_05DEG_MONTHLY_V4R4.json',\n",
       " 'metadata/ummc/ECCO_L4_OBP_LLC0090GRID_DAILY_V4R4.json',\n",
       " 'metadata/ummc/ECCO_L4_OBP_LLC0090GRID_MONTHLY_V4R4.json',\n",
       " 'metadata/ummc/ECCO_L4_OBP_LLC0090GRID_SNAPSHOT_V4R4.json',\n",
       " 'metadata/ummc/ECCO_L4_OCEAN_TEMP_SALINITY_05DEG_DAILY_V4R4.json',\n",
       " 'metadata/ummc/ECCO_L4_OCEAN_TEMP_SALINITY_05DEG_MONTHLY_V4R4.json',\n",
       " 'metadata/ummc/ECCO_L4_OCEAN_TEMP_SALINITY_LLC0090GRID_DAILY_V4R4.json',\n",
       " 'metadata/ummc/ECCO_L4_OCEAN_TEMP_SALINITY_LLC0090GRID_MONTHLY_V4R4.json',\n",
       " 'metadata/ummc/ECCO_L4_OCEAN_TEMP_SALINITY_LLC0090GRID_SNAPSHOT_V4R4.json',\n",
       " 'metadata/ummc/ECCO_L4_OCEAN_VEL_05DEG_DAILY_V4R4.json',\n",
       " 'metadata/ummc/ECCO_L4_OCEAN_VEL_05DEG_MONTHLY_V4R4.json',\n",
       " 'metadata/ummc/ECCO_L4_OCEAN_VEL_LLC0090GRID_DAILY_V4R4.json',\n",
       " 'metadata/ummc/ECCO_L4_OCEAN_VEL_LLC0090GRID_MONTHLY_V4R4.json',\n",
       " 'metadata/ummc/ECCO_L4_OCEAN_VEL_LLC0090GRID_SNAPSHOT_V4R4.json',\n",
       " 'metadata/ummc/ECCO_L4_SEA_ICE_CONCENTRATION_05DEG_DAILY_V4R4.json',\n",
       " 'metadata/ummc/ECCO_L4_SEA_ICE_CONCENTRATION_05DEG_MONTHLY_V4R4.json',\n",
       " 'metadata/ummc/ECCO_L4_SEA_ICE_CONCENTRATION_LLC0090GRID_DAILY_V4R4.json',\n",
       " 'metadata/ummc/ECCO_L4_SEA_ICE_CONCENTRATION_LLC0090GRID_MONTHLY_V4R4.json',\n",
       " 'metadata/ummc/ECCO_L4_SEA_ICE_CONCENTRATION_LLC0090GRID_SNAPSHOT_V4R4.json',\n",
       " 'metadata/ummc/ECCO_L4_SSH_05DEG_DAILY_V4R4.json',\n",
       " 'metadata/ummc/ECCO_L4_SSH_05DEG_MONTHLY_V4R4.json',\n",
       " 'metadata/ummc/ECCO_L4_SSH_LLC0090GRID_DAILY_V4R4.json',\n",
       " 'metadata/ummc/ECCO_L4_SSH_LLC0090GRID_MONTHLY_V4R4.json',\n",
       " 'metadata/ummc/ECCO_L4_SSH_LLC0090GRID_SNAPSHOT_V4R4.json',\n",
       " 'metadata/ummc/ECCO_L4_SURFACE_STRESS_05DEG_DAILY_V4R4.json',\n",
       " 'metadata/ummc/ECCO_L4_SURFACE_STRESS_05DEG_MONTHLY_V4R4.json',\n",
       " 'metadata/ummc/ECCO_L4_SURFACE_STRESS_LLC0090GRID_DAILY_V4R4.json',\n",
       " 'metadata/ummc/ECCO_L4_SURFACE_STRESS_LLC0090GRID_MONTHLY_V4R4.json',\n",
       " 'metadata/ummc/ECCO_L4_SURFACE_STRESS_LLC0090GRID_SNAPSHOT_V4R4.json']"
      ]
     },
     "execution_count": 6,
     "metadata": {},
     "output_type": "execute_result"
    }
   ],
   "source": [
    "list(sorted([f\"../metadata/ummc/{f}\"[3:] for f in listdir(\"../metadata/ummc\") if not f.startswith(\".\")]))"
   ]
  },
  {
   "cell_type": "markdown",
   "metadata": {},
   "source": [
    "## variables"
   ]
  },
  {
   "cell_type": "code",
   "execution_count": 7,
   "metadata": {
    "ExecuteTime": {
     "end_time": "2020-08-06T10:54:42.661828Z",
     "start_time": "2020-08-06T10:54:42.655978Z"
    },
    "hide_input": true,
    "init_cell": true,
    "scrolled": false
   },
   "outputs": [
    {
     "data": {
      "text/plain": [
       "['metadata/ummvar/ECCO_L4_ATM_PROPERTIES_05DEG_DAILY_V4R4-EXFaqh.json',\n",
       " 'metadata/ummvar/ECCO_L4_ATM_PROPERTIES_05DEG_DAILY_V4R4-EXFatemp.json',\n",
       " 'metadata/ummvar/ECCO_L4_ATM_PROPERTIES_05DEG_DAILY_V4R4-EXFewind.json',\n",
       " 'metadata/ummvar/ECCO_L4_ATM_PROPERTIES_05DEG_DAILY_V4R4-EXFnwind.json',\n",
       " 'metadata/ummvar/ECCO_L4_ATM_PROPERTIES_05DEG_DAILY_V4R4-EXFpress.json',\n",
       " 'metadata/ummvar/ECCO_L4_ATM_PROPERTIES_05DEG_DAILY_V4R4-EXFwspee.json',\n",
       " 'metadata/ummvar/ECCO_L4_ATM_PROPERTIES_05DEG_MONTHLY_V4R4-EXFaqh.json',\n",
       " 'metadata/ummvar/ECCO_L4_ATM_PROPERTIES_05DEG_MONTHLY_V4R4-EXFatemp.json',\n",
       " 'metadata/ummvar/ECCO_L4_ATM_PROPERTIES_05DEG_MONTHLY_V4R4-EXFewind.json',\n",
       " 'metadata/ummvar/ECCO_L4_ATM_PROPERTIES_05DEG_MONTHLY_V4R4-EXFnwind.json',\n",
       " 'metadata/ummvar/ECCO_L4_ATM_PROPERTIES_05DEG_MONTHLY_V4R4-EXFpress.json',\n",
       " 'metadata/ummvar/ECCO_L4_ATM_PROPERTIES_05DEG_MONTHLY_V4R4-EXFwspee.json',\n",
       " 'metadata/ummvar/ECCO_L4_BOLUS_05DEG_DAILY_V4R4-EVELSTAR.json',\n",
       " 'metadata/ummvar/ECCO_L4_BOLUS_05DEG_DAILY_V4R4-NVELSTAR.json',\n",
       " 'metadata/ummvar/ECCO_L4_BOLUS_05DEG_DAILY_V4R4-WVELSTAR.json',\n",
       " 'metadata/ummvar/ECCO_L4_BOLUS_05DEG_MONTHLY_V4R4-EVELSTAR.json',\n",
       " 'metadata/ummvar/ECCO_L4_BOLUS_05DEG_MONTHLY_V4R4-NVELSTAR.json',\n",
       " 'metadata/ummvar/ECCO_L4_BOLUS_05DEG_MONTHLY_V4R4-WVELSTAR.json',\n",
       " 'metadata/ummvar/ECCO_L4_DENSE_05DEG_DAILY_V4R4-DRHODR.json',\n",
       " 'metadata/ummvar/ECCO_L4_DENSE_05DEG_DAILY_V4R4-PHIHYD.json',\n",
       " 'metadata/ummvar/ECCO_L4_DENSE_05DEG_DAILY_V4R4-RHOAnoma.json',\n",
       " 'metadata/ummvar/ECCO_L4_DENSE_05DEG_MONTHLY_V4R4-DRHODR.json',\n",
       " 'metadata/ummvar/ECCO_L4_DENSE_05DEG_MONTHLY_V4R4-PHIHYD.json',\n",
       " 'metadata/ummvar/ECCO_L4_DENSE_05DEG_MONTHLY_V4R4-RHOAnoma.json',\n",
       " 'metadata/ummvar/ECCO_L4_FRESH_FLUX_05DEG_DAILY_V4R4-EXFempmr.json',\n",
       " 'metadata/ummvar/ECCO_L4_FRESH_FLUX_05DEG_DAILY_V4R4-EXFevap.json',\n",
       " 'metadata/ummvar/ECCO_L4_FRESH_FLUX_05DEG_DAILY_V4R4-EXFpreci.json',\n",
       " 'metadata/ummvar/ECCO_L4_FRESH_FLUX_05DEG_DAILY_V4R4-EXFroff.json',\n",
       " 'metadata/ummvar/ECCO_L4_FRESH_FLUX_05DEG_DAILY_V4R4-SFLUX.json',\n",
       " 'metadata/ummvar/ECCO_L4_FRESH_FLUX_05DEG_DAILY_V4R4-SIacSubl.json',\n",
       " 'metadata/ummvar/ECCO_L4_FRESH_FLUX_05DEG_DAILY_V4R4-SIatmFW.json',\n",
       " 'metadata/ummvar/ECCO_L4_FRESH_FLUX_05DEG_DAILY_V4R4-SIfwThru.json',\n",
       " 'metadata/ummvar/ECCO_L4_FRESH_FLUX_05DEG_DAILY_V4R4-SIrsSubl.json',\n",
       " 'metadata/ummvar/ECCO_L4_FRESH_FLUX_05DEG_DAILY_V4R4-SIsnPrcp.json',\n",
       " 'metadata/ummvar/ECCO_L4_FRESH_FLUX_05DEG_DAILY_V4R4-oceFWflx.json',\n",
       " 'metadata/ummvar/ECCO_L4_FRESH_FLUX_05DEG_MONTHLY_V4R4-EXFempmr.json',\n",
       " 'metadata/ummvar/ECCO_L4_FRESH_FLUX_05DEG_MONTHLY_V4R4-EXFevap.json',\n",
       " 'metadata/ummvar/ECCO_L4_FRESH_FLUX_05DEG_MONTHLY_V4R4-EXFpreci.json',\n",
       " 'metadata/ummvar/ECCO_L4_FRESH_FLUX_05DEG_MONTHLY_V4R4-EXFroff.json',\n",
       " 'metadata/ummvar/ECCO_L4_FRESH_FLUX_05DEG_MONTHLY_V4R4-SFLUX.json',\n",
       " 'metadata/ummvar/ECCO_L4_FRESH_FLUX_05DEG_MONTHLY_V4R4-SIacSubl.json',\n",
       " 'metadata/ummvar/ECCO_L4_FRESH_FLUX_05DEG_MONTHLY_V4R4-SIatmFW.json',\n",
       " 'metadata/ummvar/ECCO_L4_FRESH_FLUX_05DEG_MONTHLY_V4R4-SIfwThru.json',\n",
       " 'metadata/ummvar/ECCO_L4_FRESH_FLUX_05DEG_MONTHLY_V4R4-SIrsSubl.json',\n",
       " 'metadata/ummvar/ECCO_L4_FRESH_FLUX_05DEG_MONTHLY_V4R4-SIsnPrcp.json',\n",
       " 'metadata/ummvar/ECCO_L4_FRESH_FLUX_05DEG_MONTHLY_V4R4-oceFWflx.json',\n",
       " 'metadata/ummvar/ECCO_L4_HEAT_FLUX_05DEG_DAILY_V4R4-EXFhl.json',\n",
       " 'metadata/ummvar/ECCO_L4_HEAT_FLUX_05DEG_DAILY_V4R4-EXFhs.json',\n",
       " 'metadata/ummvar/ECCO_L4_HEAT_FLUX_05DEG_DAILY_V4R4-EXFlwdn.json',\n",
       " 'metadata/ummvar/ECCO_L4_HEAT_FLUX_05DEG_DAILY_V4R4-EXFlwnet.json',\n",
       " 'metadata/ummvar/ECCO_L4_HEAT_FLUX_05DEG_DAILY_V4R4-EXFqnet.json',\n",
       " 'metadata/ummvar/ECCO_L4_HEAT_FLUX_05DEG_DAILY_V4R4-EXFswdn.json',\n",
       " 'metadata/ummvar/ECCO_L4_HEAT_FLUX_05DEG_DAILY_V4R4-EXFswnet.json',\n",
       " 'metadata/ummvar/ECCO_L4_HEAT_FLUX_05DEG_DAILY_V4R4-SIaaflux.json',\n",
       " 'metadata/ummvar/ECCO_L4_HEAT_FLUX_05DEG_DAILY_V4R4-SIatmQnt.json',\n",
       " 'metadata/ummvar/ECCO_L4_HEAT_FLUX_05DEG_DAILY_V4R4-TFLUX.json',\n",
       " 'metadata/ummvar/ECCO_L4_HEAT_FLUX_05DEG_DAILY_V4R4-oceQnet.json',\n",
       " 'metadata/ummvar/ECCO_L4_HEAT_FLUX_05DEG_DAILY_V4R4-oceQsw.json',\n",
       " 'metadata/ummvar/ECCO_L4_HEAT_FLUX_05DEG_MONTHLY_V4R4-EXFhl.json',\n",
       " 'metadata/ummvar/ECCO_L4_HEAT_FLUX_05DEG_MONTHLY_V4R4-EXFhs.json',\n",
       " 'metadata/ummvar/ECCO_L4_HEAT_FLUX_05DEG_MONTHLY_V4R4-EXFlwdn.json',\n",
       " 'metadata/ummvar/ECCO_L4_HEAT_FLUX_05DEG_MONTHLY_V4R4-EXFlwnet.json',\n",
       " 'metadata/ummvar/ECCO_L4_HEAT_FLUX_05DEG_MONTHLY_V4R4-EXFqnet.json',\n",
       " 'metadata/ummvar/ECCO_L4_HEAT_FLUX_05DEG_MONTHLY_V4R4-EXFswdn.json',\n",
       " 'metadata/ummvar/ECCO_L4_HEAT_FLUX_05DEG_MONTHLY_V4R4-EXFswnet.json',\n",
       " 'metadata/ummvar/ECCO_L4_HEAT_FLUX_05DEG_MONTHLY_V4R4-SIaaflux.json',\n",
       " 'metadata/ummvar/ECCO_L4_HEAT_FLUX_05DEG_MONTHLY_V4R4-SIatmQnt.json',\n",
       " 'metadata/ummvar/ECCO_L4_HEAT_FLUX_05DEG_MONTHLY_V4R4-TFLUX.json',\n",
       " 'metadata/ummvar/ECCO_L4_HEAT_FLUX_05DEG_MONTHLY_V4R4-oceQnet.json',\n",
       " 'metadata/ummvar/ECCO_L4_HEAT_FLUX_05DEG_MONTHLY_V4R4-oceQsw.json',\n",
       " 'metadata/ummvar/ECCO_L4_MIXED_LAYER_DEPTH_05DEG_DAILY_V4R4-MXLDEPTH.json',\n",
       " 'metadata/ummvar/ECCO_L4_MIXED_LAYER_DEPTH_05DEG_MONTHLY_V4R4-MXLDEPTH.json',\n",
       " 'metadata/ummvar/ECCO_L4_OCEAN_TEMP_SALINITY_05DEG_DAILY_V4R4-SALT.json',\n",
       " 'metadata/ummvar/ECCO_L4_OCEAN_TEMP_SALINITY_05DEG_DAILY_V4R4-THETA.json',\n",
       " 'metadata/ummvar/ECCO_L4_OCEAN_TEMP_SALINITY_05DEG_MONTHLY_V4R4-SALT.json',\n",
       " 'metadata/ummvar/ECCO_L4_OCEAN_TEMP_SALINITY_05DEG_MONTHLY_V4R4-THETA.json',\n",
       " 'metadata/ummvar/ECCO_L4_OCEAN_VEL_05DEG_DAILY_V4R4-EVEL.json',\n",
       " 'metadata/ummvar/ECCO_L4_OCEAN_VEL_05DEG_DAILY_V4R4-NVEL.json',\n",
       " 'metadata/ummvar/ECCO_L4_OCEAN_VEL_05DEG_DAILY_V4R4-WVELMASS.json',\n",
       " 'metadata/ummvar/ECCO_L4_OCEAN_VEL_05DEG_MONTHLY_V4R4-EVEL.json',\n",
       " 'metadata/ummvar/ECCO_L4_OCEAN_VEL_05DEG_MONTHLY_V4R4-NVEL.json',\n",
       " 'metadata/ummvar/ECCO_L4_OCEAN_VEL_05DEG_MONTHLY_V4R4-WVELMASS.json',\n",
       " 'metadata/ummvar/ECCO_L4_SEA_ICE_CONCENTRATION_05DEG_DAILY_V4R4-SIarea.json',\n",
       " 'metadata/ummvar/ECCO_L4_SEA_ICE_CONCENTRATION_05DEG_DAILY_V4R4-SIeice.json',\n",
       " 'metadata/ummvar/ECCO_L4_SEA_ICE_CONCENTRATION_05DEG_DAILY_V4R4-SIheff.json',\n",
       " 'metadata/ummvar/ECCO_L4_SEA_ICE_CONCENTRATION_05DEG_DAILY_V4R4-SIhsnow.json',\n",
       " 'metadata/ummvar/ECCO_L4_SEA_ICE_CONCENTRATION_05DEG_DAILY_V4R4-SInice.json',\n",
       " 'metadata/ummvar/ECCO_L4_SEA_ICE_CONCENTRATION_05DEG_DAILY_V4R4-sIceLoad.json',\n",
       " 'metadata/ummvar/ECCO_L4_SEA_ICE_CONCENTRATION_05DEG_MONTHLY_V4R4-SIarea.json',\n",
       " 'metadata/ummvar/ECCO_L4_SEA_ICE_CONCENTRATION_05DEG_MONTHLY_V4R4-SIeice.json',\n",
       " 'metadata/ummvar/ECCO_L4_SEA_ICE_CONCENTRATION_05DEG_MONTHLY_V4R4-SIheff.json',\n",
       " 'metadata/ummvar/ECCO_L4_SEA_ICE_CONCENTRATION_05DEG_MONTHLY_V4R4-SIhsnow.json',\n",
       " 'metadata/ummvar/ECCO_L4_SEA_ICE_CONCENTRATION_05DEG_MONTHLY_V4R4-SInice.json',\n",
       " 'metadata/ummvar/ECCO_L4_SEA_ICE_CONCENTRATION_05DEG_MONTHLY_V4R4-sIceLoad.json',\n",
       " 'metadata/ummvar/ECCO_L4_SURFACE_STRESS_05DEG_DAILY_V4R4-EXFtaue.json',\n",
       " 'metadata/ummvar/ECCO_L4_SURFACE_STRESS_05DEG_DAILY_V4R4-EXFtaun.json',\n",
       " 'metadata/ummvar/ECCO_L4_SURFACE_STRESS_05DEG_DAILY_V4R4-oceTAUE.json',\n",
       " 'metadata/ummvar/ECCO_L4_SURFACE_STRESS_05DEG_DAILY_V4R4-oceTAUN.json',\n",
       " 'metadata/ummvar/ECCO_L4_SURFACE_STRESS_05DEG_MONTHLY_V4R4-EXFtaue.json',\n",
       " 'metadata/ummvar/ECCO_L4_SURFACE_STRESS_05DEG_MONTHLY_V4R4-EXFtaun.json',\n",
       " 'metadata/ummvar/ECCO_L4_SURFACE_STRESS_05DEG_MONTHLY_V4R4-oceTAUE.json',\n",
       " 'metadata/ummvar/ECCO_L4_SURFACE_STRESS_05DEG_MONTHLY_V4R4-oceTAUN.json']"
      ]
     },
     "execution_count": 7,
     "metadata": {},
     "output_type": "execute_result"
    }
   ],
   "source": [
    "list(sorted([f\"../metadata/ummvar/{f}\"[3:] for f in listdir(\"../metadata/ummvar\") if not f.startswith(\".\")]))"
   ]
  },
  {
   "cell_type": "code",
   "execution_count": null,
   "metadata": {},
   "outputs": [],
   "source": []
  }
 ],
 "metadata": {
  "celltoolbar": "Initialization Cell",
  "kernelspec": {
   "display_name": "Python 3.8.2 64-bit ('geo': conda)",
   "language": "python",
   "name": "python38264bitgeoconda68469ab7a3c44e969080e19c63965fc7"
  },
  "language_info": {
   "codemirror_mode": {
    "name": "ipython",
    "version": 3
   },
   "file_extension": ".py",
   "mimetype": "text/x-python",
   "name": "python",
   "nbconvert_exporter": "python",
   "pygments_lexer": "ipython3",
   "version": "3.8.2"
  },
  "toc": {
   "base_numbering": 1,
   "nav_menu": {},
   "number_sections": false,
   "sideBar": false,
   "skip_h1_title": false,
   "title_cell": "Table of Contents",
   "title_sidebar": "Contents",
   "toc_cell": false,
   "toc_position": {},
   "toc_section_display": false,
   "toc_window_display": false
  }
 },
 "nbformat": 4,
 "nbformat_minor": 4
}
