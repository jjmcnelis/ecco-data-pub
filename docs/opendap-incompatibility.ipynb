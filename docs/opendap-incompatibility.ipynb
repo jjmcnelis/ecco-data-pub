{
 "cells": [
  {
   "cell_type": "markdown",
   "metadata": {
    "toc": true
   },
   "source": [
    "<h1>Table of Contents<span class=\"tocSkip\"></span></h1>\n",
    "<div class=\"toc\"><ul class=\"toc-item\"><li><span><a href=\"#Create-xarray-dataset-with-dummy-data\" data-toc-modified-id=\"Create-xarray-dataset-with-dummy-data-1\"><span class=\"toc-item-num\">1&nbsp;&nbsp;</span>Create xarray dataset with dummy data</a></span></li><li><span><a href=\"#Print-the-help-for-the-netCDF-writer-method:\" data-toc-modified-id=\"Print-the-help-for-the-netCDF-writer-method:-2\"><span class=\"toc-item-num\">2&nbsp;&nbsp;</span>Print the help for the netCDF writer method:</a></span></li><li><span><a href=\"#No-encoding-options-are-set-by-default\" data-toc-modified-id=\"No-encoding-options-are-set-by-default-3\"><span class=\"toc-item-num\">3&nbsp;&nbsp;</span>No encoding options are set by default</a></span></li><li><span><a href=\"#Setting-fletcher32-to-True\" data-toc-modified-id=\"Setting-fletcher32-to-True-4\"><span class=\"toc-item-num\">4&nbsp;&nbsp;</span>Setting <code>fletcher32</code> to <code>True</code></a></span></li><li><span><a href=\"#Write-to-disk-(test.nc)\" data-toc-modified-id=\"Write-to-disk-(test.nc)-5\"><span class=\"toc-item-num\">5&nbsp;&nbsp;</span>Write to disk (<code>test.nc</code>)</a></span></li><li><span><a href=\"#Test-with-docker-OPeNDAP-via-hyrax\" data-toc-modified-id=\"Test-with-docker-OPeNDAP-via-hyrax-6\"><span class=\"toc-item-num\">6&nbsp;&nbsp;</span>Test with docker OPeNDAP via hyrax</a></span></li><li><span><a href=\"#OTHER-CHECKS->>>\" data-toc-modified-id=\"OTHER-CHECKS->>>-7\"><span class=\"toc-item-num\">7&nbsp;&nbsp;</span>OTHER CHECKS &gt;&gt;&gt;</a></span></li></ul></div>"
   ]
  },
  {
   "cell_type": "markdown",
   "metadata": {},
   "source": [
    "#### Create xarray dataset with dummy data"
   ]
  },
  {
   "cell_type": "markdown",
   "metadata": {
    "ExecuteTime": {
     "end_time": "2020-07-23T08:39:13.579234Z",
     "start_time": "2020-07-23T08:39:13.574599Z"
    }
   },
   "source": [
    "Make an xarray dataset with one variable. \n",
    "\n",
    "`100^3`, hopefully that's big enough to trigger the `fletcher32` filter, whatever that is."
   ]
  },
  {
   "cell_type": "code",
   "execution_count": 1,
   "metadata": {
    "ExecuteTime": {
     "end_time": "2020-07-23T14:02:54.415219Z",
     "start_time": "2020-07-23T14:02:53.921953Z"
    }
   },
   "outputs": [
    {
     "data": {
      "text/html": [
       "<div><svg style=\"position: absolute; width: 0; height: 0; overflow: hidden\">\n",
       "<defs>\n",
       "<symbol id=\"icon-database\" viewBox=\"0 0 32 32\">\n",
       "<title>Show/Hide data repr</title>\n",
       "<path d=\"M16 0c-8.837 0-16 2.239-16 5v4c0 2.761 7.163 5 16 5s16-2.239 16-5v-4c0-2.761-7.163-5-16-5z\"></path>\n",
       "<path d=\"M16 17c-8.837 0-16-2.239-16-5v6c0 2.761 7.163 5 16 5s16-2.239 16-5v-6c0 2.761-7.163 5-16 5z\"></path>\n",
       "<path d=\"M16 26c-8.837 0-16-2.239-16-5v6c0 2.761 7.163 5 16 5s16-2.239 16-5v-6c0 2.761-7.163 5-16 5z\"></path>\n",
       "</symbol>\n",
       "<symbol id=\"icon-file-text2\" viewBox=\"0 0 32 32\">\n",
       "<title>Show/Hide attributes</title>\n",
       "<path d=\"M28.681 7.159c-0.694-0.947-1.662-2.053-2.724-3.116s-2.169-2.030-3.116-2.724c-1.612-1.182-2.393-1.319-2.841-1.319h-15.5c-1.378 0-2.5 1.121-2.5 2.5v27c0 1.378 1.122 2.5 2.5 2.5h23c1.378 0 2.5-1.122 2.5-2.5v-19.5c0-0.448-0.137-1.23-1.319-2.841zM24.543 5.457c0.959 0.959 1.712 1.825 2.268 2.543h-4.811v-4.811c0.718 0.556 1.584 1.309 2.543 2.268zM28 29.5c0 0.271-0.229 0.5-0.5 0.5h-23c-0.271 0-0.5-0.229-0.5-0.5v-27c0-0.271 0.229-0.5 0.5-0.5 0 0 15.499-0 15.5 0v7c0 0.552 0.448 1 1 1h7v19.5z\"></path>\n",
       "<path d=\"M23 26h-14c-0.552 0-1-0.448-1-1s0.448-1 1-1h14c0.552 0 1 0.448 1 1s-0.448 1-1 1z\"></path>\n",
       "<path d=\"M23 22h-14c-0.552 0-1-0.448-1-1s0.448-1 1-1h14c0.552 0 1 0.448 1 1s-0.448 1-1 1z\"></path>\n",
       "<path d=\"M23 18h-14c-0.552 0-1-0.448-1-1s0.448-1 1-1h14c0.552 0 1 0.448 1 1s-0.448 1-1 1z\"></path>\n",
       "</symbol>\n",
       "</defs>\n",
       "</svg>\n",
       "<style>/* CSS stylesheet for displaying xarray objects in jupyterlab.\n",
       " *\n",
       " */\n",
       "\n",
       ":root {\n",
       "  --xr-font-color0: var(--jp-content-font-color0, rgba(0, 0, 0, 1));\n",
       "  --xr-font-color2: var(--jp-content-font-color2, rgba(0, 0, 0, 0.54));\n",
       "  --xr-font-color3: var(--jp-content-font-color3, rgba(0, 0, 0, 0.38));\n",
       "  --xr-border-color: var(--jp-border-color2, #e0e0e0);\n",
       "  --xr-disabled-color: var(--jp-layout-color3, #bdbdbd);\n",
       "  --xr-background-color: var(--jp-layout-color0, white);\n",
       "  --xr-background-color-row-even: var(--jp-layout-color1, white);\n",
       "  --xr-background-color-row-odd: var(--jp-layout-color2, #eeeeee);\n",
       "}\n",
       "\n",
       ".xr-wrap {\n",
       "  min-width: 300px;\n",
       "  max-width: 700px;\n",
       "}\n",
       "\n",
       ".xr-header {\n",
       "  padding-top: 6px;\n",
       "  padding-bottom: 6px;\n",
       "  margin-bottom: 4px;\n",
       "  border-bottom: solid 1px var(--xr-border-color);\n",
       "}\n",
       "\n",
       ".xr-header > div,\n",
       ".xr-header > ul {\n",
       "  display: inline;\n",
       "  margin-top: 0;\n",
       "  margin-bottom: 0;\n",
       "}\n",
       "\n",
       ".xr-obj-type,\n",
       ".xr-array-name {\n",
       "  margin-left: 2px;\n",
       "  margin-right: 10px;\n",
       "}\n",
       "\n",
       ".xr-obj-type {\n",
       "  color: var(--xr-font-color2);\n",
       "}\n",
       "\n",
       ".xr-sections {\n",
       "  padding-left: 0 !important;\n",
       "  display: grid;\n",
       "  grid-template-columns: 150px auto auto 1fr 20px 20px;\n",
       "}\n",
       "\n",
       ".xr-section-item {\n",
       "  display: contents;\n",
       "}\n",
       "\n",
       ".xr-section-item input {\n",
       "  display: none;\n",
       "}\n",
       "\n",
       ".xr-section-item input + label {\n",
       "  color: var(--xr-disabled-color);\n",
       "}\n",
       "\n",
       ".xr-section-item input:enabled + label {\n",
       "  cursor: pointer;\n",
       "  color: var(--xr-font-color2);\n",
       "}\n",
       "\n",
       ".xr-section-item input:enabled + label:hover {\n",
       "  color: var(--xr-font-color0);\n",
       "}\n",
       "\n",
       ".xr-section-summary {\n",
       "  grid-column: 1;\n",
       "  color: var(--xr-font-color2);\n",
       "  font-weight: 500;\n",
       "}\n",
       "\n",
       ".xr-section-summary > span {\n",
       "  display: inline-block;\n",
       "  padding-left: 0.5em;\n",
       "}\n",
       "\n",
       ".xr-section-summary-in:disabled + label {\n",
       "  color: var(--xr-font-color2);\n",
       "}\n",
       "\n",
       ".xr-section-summary-in + label:before {\n",
       "  display: inline-block;\n",
       "  content: '►';\n",
       "  font-size: 11px;\n",
       "  width: 15px;\n",
       "  text-align: center;\n",
       "}\n",
       "\n",
       ".xr-section-summary-in:disabled + label:before {\n",
       "  color: var(--xr-disabled-color);\n",
       "}\n",
       "\n",
       ".xr-section-summary-in:checked + label:before {\n",
       "  content: '▼';\n",
       "}\n",
       "\n",
       ".xr-section-summary-in:checked + label > span {\n",
       "  display: none;\n",
       "}\n",
       "\n",
       ".xr-section-summary,\n",
       ".xr-section-inline-details {\n",
       "  padding-top: 4px;\n",
       "  padding-bottom: 4px;\n",
       "}\n",
       "\n",
       ".xr-section-inline-details {\n",
       "  grid-column: 2 / -1;\n",
       "}\n",
       "\n",
       ".xr-section-details {\n",
       "  display: none;\n",
       "  grid-column: 1 / -1;\n",
       "  margin-bottom: 5px;\n",
       "}\n",
       "\n",
       ".xr-section-summary-in:checked ~ .xr-section-details {\n",
       "  display: contents;\n",
       "}\n",
       "\n",
       ".xr-array-wrap {\n",
       "  grid-column: 1 / -1;\n",
       "  display: grid;\n",
       "  grid-template-columns: 20px auto;\n",
       "}\n",
       "\n",
       ".xr-array-wrap > label {\n",
       "  grid-column: 1;\n",
       "  vertical-align: top;\n",
       "}\n",
       "\n",
       ".xr-preview {\n",
       "  color: var(--xr-font-color3);\n",
       "}\n",
       "\n",
       ".xr-array-preview,\n",
       ".xr-array-data {\n",
       "  padding: 0 5px !important;\n",
       "  grid-column: 2;\n",
       "}\n",
       "\n",
       ".xr-array-data,\n",
       ".xr-array-in:checked ~ .xr-array-preview {\n",
       "  display: none;\n",
       "}\n",
       "\n",
       ".xr-array-in:checked ~ .xr-array-data,\n",
       ".xr-array-preview {\n",
       "  display: inline-block;\n",
       "}\n",
       "\n",
       ".xr-dim-list {\n",
       "  display: inline-block !important;\n",
       "  list-style: none;\n",
       "  padding: 0 !important;\n",
       "  margin: 0;\n",
       "}\n",
       "\n",
       ".xr-dim-list li {\n",
       "  display: inline-block;\n",
       "  padding: 0;\n",
       "  margin: 0;\n",
       "}\n",
       "\n",
       ".xr-dim-list:before {\n",
       "  content: '(';\n",
       "}\n",
       "\n",
       ".xr-dim-list:after {\n",
       "  content: ')';\n",
       "}\n",
       "\n",
       ".xr-dim-list li:not(:last-child):after {\n",
       "  content: ',';\n",
       "  padding-right: 5px;\n",
       "}\n",
       "\n",
       ".xr-has-index {\n",
       "  font-weight: bold;\n",
       "}\n",
       "\n",
       ".xr-var-list,\n",
       ".xr-var-item {\n",
       "  display: contents;\n",
       "}\n",
       "\n",
       ".xr-var-item > div,\n",
       ".xr-var-item label,\n",
       ".xr-var-item > .xr-var-name span {\n",
       "  background-color: var(--xr-background-color-row-even);\n",
       "  margin-bottom: 0;\n",
       "}\n",
       "\n",
       ".xr-var-item > .xr-var-name:hover span {\n",
       "  padding-right: 5px;\n",
       "}\n",
       "\n",
       ".xr-var-list > li:nth-child(odd) > div,\n",
       ".xr-var-list > li:nth-child(odd) > label,\n",
       ".xr-var-list > li:nth-child(odd) > .xr-var-name span {\n",
       "  background-color: var(--xr-background-color-row-odd);\n",
       "}\n",
       "\n",
       ".xr-var-name {\n",
       "  grid-column: 1;\n",
       "}\n",
       "\n",
       ".xr-var-dims {\n",
       "  grid-column: 2;\n",
       "}\n",
       "\n",
       ".xr-var-dtype {\n",
       "  grid-column: 3;\n",
       "  text-align: right;\n",
       "  color: var(--xr-font-color2);\n",
       "}\n",
       "\n",
       ".xr-var-preview {\n",
       "  grid-column: 4;\n",
       "}\n",
       "\n",
       ".xr-var-name,\n",
       ".xr-var-dims,\n",
       ".xr-var-dtype,\n",
       ".xr-preview,\n",
       ".xr-attrs dt {\n",
       "  white-space: nowrap;\n",
       "  overflow: hidden;\n",
       "  text-overflow: ellipsis;\n",
       "  padding-right: 10px;\n",
       "}\n",
       "\n",
       ".xr-var-name:hover,\n",
       ".xr-var-dims:hover,\n",
       ".xr-var-dtype:hover,\n",
       ".xr-attrs dt:hover {\n",
       "  overflow: visible;\n",
       "  width: auto;\n",
       "  z-index: 1;\n",
       "}\n",
       "\n",
       ".xr-var-attrs,\n",
       ".xr-var-data {\n",
       "  display: none;\n",
       "  background-color: var(--xr-background-color) !important;\n",
       "  padding-bottom: 5px !important;\n",
       "}\n",
       "\n",
       ".xr-var-attrs-in:checked ~ .xr-var-attrs,\n",
       ".xr-var-data-in:checked ~ .xr-var-data {\n",
       "  display: block;\n",
       "}\n",
       "\n",
       ".xr-var-data > table {\n",
       "  float: right;\n",
       "}\n",
       "\n",
       ".xr-var-name span,\n",
       ".xr-var-data,\n",
       ".xr-attrs {\n",
       "  padding-left: 25px !important;\n",
       "}\n",
       "\n",
       ".xr-attrs,\n",
       ".xr-var-attrs,\n",
       ".xr-var-data {\n",
       "  grid-column: 1 / -1;\n",
       "}\n",
       "\n",
       "dl.xr-attrs {\n",
       "  padding: 0;\n",
       "  margin: 0;\n",
       "  display: grid;\n",
       "  grid-template-columns: 125px auto;\n",
       "}\n",
       "\n",
       ".xr-attrs dt, dd {\n",
       "  padding: 0;\n",
       "  margin: 0;\n",
       "  float: left;\n",
       "  padding-right: 10px;\n",
       "  width: auto;\n",
       "}\n",
       "\n",
       ".xr-attrs dt {\n",
       "  font-weight: normal;\n",
       "  grid-column: 1;\n",
       "}\n",
       "\n",
       ".xr-attrs dt:hover span {\n",
       "  display: inline-block;\n",
       "  background: var(--xr-background-color);\n",
       "  padding-right: 10px;\n",
       "}\n",
       "\n",
       ".xr-attrs dd {\n",
       "  grid-column: 2;\n",
       "  white-space: pre-wrap;\n",
       "  word-break: break-all;\n",
       "}\n",
       "\n",
       ".xr-icon-database,\n",
       ".xr-icon-file-text2 {\n",
       "  display: inline-block;\n",
       "  vertical-align: middle;\n",
       "  width: 1em;\n",
       "  height: 1.5em !important;\n",
       "  stroke-width: 0;\n",
       "  stroke: currentColor;\n",
       "  fill: currentColor;\n",
       "}\n",
       "</style><div class='xr-wrap'><div class='xr-header'><div class='xr-obj-type'>xarray.Dataset</div></div><ul class='xr-sections'><li class='xr-section-item'><input id='section-cf271dfe-37b3-47b0-95cc-432bb3efa574' class='xr-section-summary-in' type='checkbox' disabled ><label for='section-cf271dfe-37b3-47b0-95cc-432bb3efa574' class='xr-section-summary'  title='Expand/collapse section'>Dimensions:</label><div class='xr-section-inline-details'><ul class='xr-dim-list'><li><span class='xr-has-index'>time</span>: 100</li><li><span class='xr-has-index'>x</span>: 100</li><li><span class='xr-has-index'>y</span>: 100</li></ul></div><div class='xr-section-details'></div></li><li class='xr-section-item'><input id='section-d0a3e18d-6960-4233-9ec7-212ce6161c53' class='xr-section-summary-in' type='checkbox'  checked><label for='section-d0a3e18d-6960-4233-9ec7-212ce6161c53' class='xr-section-summary' >Coordinates: <span>(3)</span></label><div class='xr-section-inline-details'></div><div class='xr-section-details'><ul class='xr-var-list'><li class='xr-var-item'><div class='xr-var-name'><span class='xr-has-index'>x</span></div><div class='xr-var-dims'>(x)</div><div class='xr-var-dtype'>int64</div><div class='xr-var-preview xr-preview'>0 1 2 3 4 5 6 ... 94 95 96 97 98 99</div><input id='attrs-2b8bc533-dd50-4919-bdcb-b822e9e77358' class='xr-var-attrs-in' type='checkbox' disabled><label for='attrs-2b8bc533-dd50-4919-bdcb-b822e9e77358' title='Show/Hide attributes'><svg class='icon xr-icon-file-text2'><use xlink:href='#icon-file-text2'></use></svg></label><input id='data-57ca178b-b77d-4285-9926-9d8a141c67cd' class='xr-var-data-in' type='checkbox'><label for='data-57ca178b-b77d-4285-9926-9d8a141c67cd' title='Show/Hide data repr'><svg class='icon xr-icon-database'><use xlink:href='#icon-database'></use></svg></label><div class='xr-var-attrs'><dl class='xr-attrs'></dl></div><pre class='xr-var-data'>array([ 0,  1,  2,  3,  4,  5,  6,  7,  8,  9, 10, 11, 12, 13, 14, 15, 16, 17,\n",
       "       18, 19, 20, 21, 22, 23, 24, 25, 26, 27, 28, 29, 30, 31, 32, 33, 34, 35,\n",
       "       36, 37, 38, 39, 40, 41, 42, 43, 44, 45, 46, 47, 48, 49, 50, 51, 52, 53,\n",
       "       54, 55, 56, 57, 58, 59, 60, 61, 62, 63, 64, 65, 66, 67, 68, 69, 70, 71,\n",
       "       72, 73, 74, 75, 76, 77, 78, 79, 80, 81, 82, 83, 84, 85, 86, 87, 88, 89,\n",
       "       90, 91, 92, 93, 94, 95, 96, 97, 98, 99])</pre></li><li class='xr-var-item'><div class='xr-var-name'><span class='xr-has-index'>y</span></div><div class='xr-var-dims'>(y)</div><div class='xr-var-dtype'>int64</div><div class='xr-var-preview xr-preview'>0 1 2 3 4 5 6 ... 94 95 96 97 98 99</div><input id='attrs-8e0de872-f3ce-47a3-be8a-2341dfd5482a' class='xr-var-attrs-in' type='checkbox' disabled><label for='attrs-8e0de872-f3ce-47a3-be8a-2341dfd5482a' title='Show/Hide attributes'><svg class='icon xr-icon-file-text2'><use xlink:href='#icon-file-text2'></use></svg></label><input id='data-ef21c345-daa4-4b08-a972-f010eea035c9' class='xr-var-data-in' type='checkbox'><label for='data-ef21c345-daa4-4b08-a972-f010eea035c9' title='Show/Hide data repr'><svg class='icon xr-icon-database'><use xlink:href='#icon-database'></use></svg></label><div class='xr-var-attrs'><dl class='xr-attrs'></dl></div><pre class='xr-var-data'>array([ 0,  1,  2,  3,  4,  5,  6,  7,  8,  9, 10, 11, 12, 13, 14, 15, 16, 17,\n",
       "       18, 19, 20, 21, 22, 23, 24, 25, 26, 27, 28, 29, 30, 31, 32, 33, 34, 35,\n",
       "       36, 37, 38, 39, 40, 41, 42, 43, 44, 45, 46, 47, 48, 49, 50, 51, 52, 53,\n",
       "       54, 55, 56, 57, 58, 59, 60, 61, 62, 63, 64, 65, 66, 67, 68, 69, 70, 71,\n",
       "       72, 73, 74, 75, 76, 77, 78, 79, 80, 81, 82, 83, 84, 85, 86, 87, 88, 89,\n",
       "       90, 91, 92, 93, 94, 95, 96, 97, 98, 99])</pre></li><li class='xr-var-item'><div class='xr-var-name'><span class='xr-has-index'>time</span></div><div class='xr-var-dims'>(time)</div><div class='xr-var-dtype'>datetime64[ns]</div><div class='xr-var-preview xr-preview'>2000-01-01 ... 2000-04-09</div><input id='attrs-285df4f4-13e5-4468-be39-1f0bc069ae58' class='xr-var-attrs-in' type='checkbox' disabled><label for='attrs-285df4f4-13e5-4468-be39-1f0bc069ae58' title='Show/Hide attributes'><svg class='icon xr-icon-file-text2'><use xlink:href='#icon-file-text2'></use></svg></label><input id='data-092c740c-449b-4ad5-a4cc-df0a0aa8584d' class='xr-var-data-in' type='checkbox'><label for='data-092c740c-449b-4ad5-a4cc-df0a0aa8584d' title='Show/Hide data repr'><svg class='icon xr-icon-database'><use xlink:href='#icon-database'></use></svg></label><div class='xr-var-attrs'><dl class='xr-attrs'></dl></div><pre class='xr-var-data'>array([&#x27;2000-01-01T00:00:00.000000000&#x27;, &#x27;2000-01-02T00:00:00.000000000&#x27;,\n",
       "       &#x27;2000-01-03T00:00:00.000000000&#x27;, &#x27;2000-01-04T00:00:00.000000000&#x27;,\n",
       "       &#x27;2000-01-05T00:00:00.000000000&#x27;, &#x27;2000-01-06T00:00:00.000000000&#x27;,\n",
       "       &#x27;2000-01-07T00:00:00.000000000&#x27;, &#x27;2000-01-08T00:00:00.000000000&#x27;,\n",
       "       &#x27;2000-01-09T00:00:00.000000000&#x27;, &#x27;2000-01-10T00:00:00.000000000&#x27;,\n",
       "       &#x27;2000-01-11T00:00:00.000000000&#x27;, &#x27;2000-01-12T00:00:00.000000000&#x27;,\n",
       "       &#x27;2000-01-13T00:00:00.000000000&#x27;, &#x27;2000-01-14T00:00:00.000000000&#x27;,\n",
       "       &#x27;2000-01-15T00:00:00.000000000&#x27;, &#x27;2000-01-16T00:00:00.000000000&#x27;,\n",
       "       &#x27;2000-01-17T00:00:00.000000000&#x27;, &#x27;2000-01-18T00:00:00.000000000&#x27;,\n",
       "       &#x27;2000-01-19T00:00:00.000000000&#x27;, &#x27;2000-01-20T00:00:00.000000000&#x27;,\n",
       "       &#x27;2000-01-21T00:00:00.000000000&#x27;, &#x27;2000-01-22T00:00:00.000000000&#x27;,\n",
       "       &#x27;2000-01-23T00:00:00.000000000&#x27;, &#x27;2000-01-24T00:00:00.000000000&#x27;,\n",
       "       &#x27;2000-01-25T00:00:00.000000000&#x27;, &#x27;2000-01-26T00:00:00.000000000&#x27;,\n",
       "       &#x27;2000-01-27T00:00:00.000000000&#x27;, &#x27;2000-01-28T00:00:00.000000000&#x27;,\n",
       "       &#x27;2000-01-29T00:00:00.000000000&#x27;, &#x27;2000-01-30T00:00:00.000000000&#x27;,\n",
       "       &#x27;2000-01-31T00:00:00.000000000&#x27;, &#x27;2000-02-01T00:00:00.000000000&#x27;,\n",
       "       &#x27;2000-02-02T00:00:00.000000000&#x27;, &#x27;2000-02-03T00:00:00.000000000&#x27;,\n",
       "       &#x27;2000-02-04T00:00:00.000000000&#x27;, &#x27;2000-02-05T00:00:00.000000000&#x27;,\n",
       "       &#x27;2000-02-06T00:00:00.000000000&#x27;, &#x27;2000-02-07T00:00:00.000000000&#x27;,\n",
       "       &#x27;2000-02-08T00:00:00.000000000&#x27;, &#x27;2000-02-09T00:00:00.000000000&#x27;,\n",
       "       &#x27;2000-02-10T00:00:00.000000000&#x27;, &#x27;2000-02-11T00:00:00.000000000&#x27;,\n",
       "       &#x27;2000-02-12T00:00:00.000000000&#x27;, &#x27;2000-02-13T00:00:00.000000000&#x27;,\n",
       "       &#x27;2000-02-14T00:00:00.000000000&#x27;, &#x27;2000-02-15T00:00:00.000000000&#x27;,\n",
       "       &#x27;2000-02-16T00:00:00.000000000&#x27;, &#x27;2000-02-17T00:00:00.000000000&#x27;,\n",
       "       &#x27;2000-02-18T00:00:00.000000000&#x27;, &#x27;2000-02-19T00:00:00.000000000&#x27;,\n",
       "       &#x27;2000-02-20T00:00:00.000000000&#x27;, &#x27;2000-02-21T00:00:00.000000000&#x27;,\n",
       "       &#x27;2000-02-22T00:00:00.000000000&#x27;, &#x27;2000-02-23T00:00:00.000000000&#x27;,\n",
       "       &#x27;2000-02-24T00:00:00.000000000&#x27;, &#x27;2000-02-25T00:00:00.000000000&#x27;,\n",
       "       &#x27;2000-02-26T00:00:00.000000000&#x27;, &#x27;2000-02-27T00:00:00.000000000&#x27;,\n",
       "       &#x27;2000-02-28T00:00:00.000000000&#x27;, &#x27;2000-02-29T00:00:00.000000000&#x27;,\n",
       "       &#x27;2000-03-01T00:00:00.000000000&#x27;, &#x27;2000-03-02T00:00:00.000000000&#x27;,\n",
       "       &#x27;2000-03-03T00:00:00.000000000&#x27;, &#x27;2000-03-04T00:00:00.000000000&#x27;,\n",
       "       &#x27;2000-03-05T00:00:00.000000000&#x27;, &#x27;2000-03-06T00:00:00.000000000&#x27;,\n",
       "       &#x27;2000-03-07T00:00:00.000000000&#x27;, &#x27;2000-03-08T00:00:00.000000000&#x27;,\n",
       "       &#x27;2000-03-09T00:00:00.000000000&#x27;, &#x27;2000-03-10T00:00:00.000000000&#x27;,\n",
       "       &#x27;2000-03-11T00:00:00.000000000&#x27;, &#x27;2000-03-12T00:00:00.000000000&#x27;,\n",
       "       &#x27;2000-03-13T00:00:00.000000000&#x27;, &#x27;2000-03-14T00:00:00.000000000&#x27;,\n",
       "       &#x27;2000-03-15T00:00:00.000000000&#x27;, &#x27;2000-03-16T00:00:00.000000000&#x27;,\n",
       "       &#x27;2000-03-17T00:00:00.000000000&#x27;, &#x27;2000-03-18T00:00:00.000000000&#x27;,\n",
       "       &#x27;2000-03-19T00:00:00.000000000&#x27;, &#x27;2000-03-20T00:00:00.000000000&#x27;,\n",
       "       &#x27;2000-03-21T00:00:00.000000000&#x27;, &#x27;2000-03-22T00:00:00.000000000&#x27;,\n",
       "       &#x27;2000-03-23T00:00:00.000000000&#x27;, &#x27;2000-03-24T00:00:00.000000000&#x27;,\n",
       "       &#x27;2000-03-25T00:00:00.000000000&#x27;, &#x27;2000-03-26T00:00:00.000000000&#x27;,\n",
       "       &#x27;2000-03-27T00:00:00.000000000&#x27;, &#x27;2000-03-28T00:00:00.000000000&#x27;,\n",
       "       &#x27;2000-03-29T00:00:00.000000000&#x27;, &#x27;2000-03-30T00:00:00.000000000&#x27;,\n",
       "       &#x27;2000-03-31T00:00:00.000000000&#x27;, &#x27;2000-04-01T00:00:00.000000000&#x27;,\n",
       "       &#x27;2000-04-02T00:00:00.000000000&#x27;, &#x27;2000-04-03T00:00:00.000000000&#x27;,\n",
       "       &#x27;2000-04-04T00:00:00.000000000&#x27;, &#x27;2000-04-05T00:00:00.000000000&#x27;,\n",
       "       &#x27;2000-04-06T00:00:00.000000000&#x27;, &#x27;2000-04-07T00:00:00.000000000&#x27;,\n",
       "       &#x27;2000-04-08T00:00:00.000000000&#x27;, &#x27;2000-04-09T00:00:00.000000000&#x27;],\n",
       "      dtype=&#x27;datetime64[ns]&#x27;)</pre></li></ul></div></li><li class='xr-section-item'><input id='section-e07333c3-fb12-4c46-8e6a-5ffa510d08cd' class='xr-section-summary-in' type='checkbox'  checked><label for='section-e07333c3-fb12-4c46-8e6a-5ffa510d08cd' class='xr-section-summary' >Data variables: <span>(1)</span></label><div class='xr-section-inline-details'></div><div class='xr-section-details'><ul class='xr-var-list'><li class='xr-var-item'><div class='xr-var-name'><span>temp</span></div><div class='xr-var-dims'>(x, y, time)</div><div class='xr-var-dtype'>float64</div><div class='xr-var-preview xr-preview'>18.9 2.268 24.99 ... 10.02 4.839</div><input id='attrs-f3231f02-45ce-4ed9-92a1-16e6ffa471aa' class='xr-var-attrs-in' type='checkbox' disabled><label for='attrs-f3231f02-45ce-4ed9-92a1-16e6ffa471aa' title='Show/Hide attributes'><svg class='icon xr-icon-file-text2'><use xlink:href='#icon-file-text2'></use></svg></label><input id='data-d46b43f7-ec41-4623-93ae-ef4af405413a' class='xr-var-data-in' type='checkbox'><label for='data-d46b43f7-ec41-4623-93ae-ef4af405413a' title='Show/Hide data repr'><svg class='icon xr-icon-database'><use xlink:href='#icon-database'></use></svg></label><div class='xr-var-attrs'><dl class='xr-attrs'></dl></div><pre class='xr-var-data'>array([[[18.90050334,  2.26821312, 24.98592721, ..., 17.01225056,\n",
       "         14.38688589, 11.4404305 ],\n",
       "        [22.52286596, 15.36657934, 24.01065466, ..., -3.11249701,\n",
       "         15.96024729, 19.16409313],\n",
       "        [23.51117771, 19.00747967, 13.58146834, ..., 21.5649553 ,\n",
       "         23.90539713, 14.15384094],\n",
       "        ...,\n",
       "        [18.89612874, 20.88809517,  9.44716796, ...,  8.2661152 ,\n",
       "          7.62976775, 15.20194159],\n",
       "        [34.10604347, 15.69144914,  5.2504869 , ...,  8.83324281,\n",
       "          4.40121475, 16.12260306],\n",
       "        [ 6.95872138, 28.80118061,  8.7229275 , ..., 17.19652171,\n",
       "         29.65951074, 24.71487188]],\n",
       "\n",
       "       [[17.10935137, -0.4005698 ,  8.05873306, ..., 24.24619383,\n",
       "         16.26462234, 13.01518055],\n",
       "        [ 1.58970925,  7.55696575, 24.76109481, ..., 12.30965946,\n",
       "         28.10950567, 12.31768311],\n",
       "        [17.84589919, 26.4719374 , 21.78243578, ..., 17.79534261,\n",
       "          6.08388297,  0.24390927],\n",
       "        ...,\n",
       "        [ 7.79177783,  9.78318256, 31.92898887, ..., 10.37499855,\n",
       "         13.23651614,  7.21744353],\n",
       "        [18.4759842 ,  6.9589116 , 14.47798767, ..., 24.99992656,\n",
       "         22.38350815, 34.85959147],\n",
       "        [13.73577118, 19.36889637, 12.8284414 , ..., 10.46480431,\n",
       "         12.35120068, 10.30475486]],\n",
       "\n",
       "       [[15.09845509, 18.00204224, 22.61933502, ..., 12.12960071,\n",
       "         17.76349268,  6.06520399],\n",
       "        [12.86835107, 20.93428452,  3.75230139, ..., -1.45125443,\n",
       "         15.7005094 ,  2.64093933],\n",
       "        [-1.21759339, 26.81183001, 23.99145998, ..., 25.05905564,\n",
       "         10.52013553, 12.46187944],\n",
       "        ...,\n",
       "        [15.56355184, 11.92157359,  5.7338316 , ..., 13.01196224,\n",
       "          8.52961282, 11.44589835],\n",
       "        [10.42457107, 18.6091767 , 16.22671044, ..., 13.97509494,\n",
       "         21.45657981,  3.63140471],\n",
       "        [17.49870646, 21.68310707, 14.70644255, ...,  9.61527896,\n",
       "          7.42715818, 10.1496468 ]],\n",
       "\n",
       "       ...,\n",
       "\n",
       "       [[14.09688017,  5.26336603,  8.01175984, ...,  2.35463063,\n",
       "         17.01081331, 15.96395052],\n",
       "        [ 3.98037779, 37.27487504, 22.983077  , ..., 28.74515889,\n",
       "          7.77180388, 33.21821739],\n",
       "        [22.69184445, 28.01406293, 20.75252042, ...,  8.75033236,\n",
       "         26.80686254, 13.55446385],\n",
       "        ...,\n",
       "        [ 8.92549948, 20.44431331, 13.73762489, ..., 12.74568041,\n",
       "         17.79027952, 22.3163447 ],\n",
       "        [18.23319627, 14.73138364, 18.45898449, ..., 25.17801942,\n",
       "         18.80868557, 16.4394206 ],\n",
       "        [11.02295959,  6.82855249,  6.65926174, ..., 12.37491756,\n",
       "         21.88102957,  8.17646266]],\n",
       "\n",
       "       [[21.07311855, 19.91421948, 21.06634124, ..., 20.50897893,\n",
       "         18.91262923, 29.57634328],\n",
       "        [31.2125646 , 16.03052115, 11.08813239, ..., 13.90758759,\n",
       "         18.92916523, 10.61402038],\n",
       "        [18.66528867, -5.91043739, 20.82285488, ..., 14.94634268,\n",
       "         17.78280131, 17.05543017],\n",
       "        ...,\n",
       "        [27.40888999, 14.89248989, 11.90410887, ..., 24.69343099,\n",
       "         18.91042457,  8.28394474],\n",
       "        [19.67904555, 14.40547582, 21.95552605, ..., 14.17558072,\n",
       "          9.52129472, -0.54117793],\n",
       "        [21.30364848, 15.07390372, 15.80892993, ..., 10.80087347,\n",
       "         24.59454083, 12.69471809]],\n",
       "\n",
       "       [[ 7.69396847, 11.94346176, 23.2824977 , ..., 17.73522386,\n",
       "         29.03182487,  8.97422995],\n",
       "        [15.42595003, 19.85883331, 14.36832872, ..., 30.01340964,\n",
       "         17.06622484, 14.10336555],\n",
       "        [22.9993299 ,  9.62496934, 34.79873433, ..., 22.46648162,\n",
       "         17.05435453, 10.84962274],\n",
       "        ...,\n",
       "        [12.51740044, 12.17109904, 19.61235294, ...,  3.81696753,\n",
       "         23.84377808, 14.60293695],\n",
       "        [26.46956112, 14.6203109 ,  5.25780708, ..., 22.07110564,\n",
       "         17.1159432 , 16.24463854],\n",
       "        [ 8.00151712, 16.01859673, 23.06216374, ..., 21.07332522,\n",
       "         10.02177954,  4.83925266]]])</pre></li></ul></div></li><li class='xr-section-item'><input id='section-8e6a9b94-0645-4a8e-9ba7-0905a8bc3403' class='xr-section-summary-in' type='checkbox' disabled ><label for='section-8e6a9b94-0645-4a8e-9ba7-0905a8bc3403' class='xr-section-summary'  title='Expand/collapse section'>Attributes: <span>(0)</span></label><div class='xr-section-inline-details'></div><div class='xr-section-details'><dl class='xr-attrs'></dl></div></li></ul></div></div>"
      ],
      "text/plain": [
       "<xarray.Dataset>\n",
       "Dimensions:  (time: 100, x: 100, y: 100)\n",
       "Coordinates:\n",
       "  * x        (x) int64 0 1 2 3 4 5 6 7 8 9 10 ... 90 91 92 93 94 95 96 97 98 99\n",
       "  * y        (y) int64 0 1 2 3 4 5 6 7 8 9 10 ... 90 91 92 93 94 95 96 97 98 99\n",
       "  * time     (time) datetime64[ns] 2000-01-01 2000-01-02 ... 2000-04-09\n",
       "Data variables:\n",
       "    temp     (x, y, time) float64 18.9 2.268 24.99 14.09 ... 21.07 10.02 4.839"
      ]
     },
     "execution_count": 1,
     "metadata": {},
     "output_type": "execute_result"
    }
   ],
   "source": [
    "from pandas import date_range, Timestamp\n",
    "from numpy import dtype\n",
    "import xarray as xr\n",
    "\n",
    "temp = 15 + 8 * np.random.randn(100, 100, 100)\n",
    "x = np.arange(0, 100)\n",
    "y = np.arange(0, 100)\n",
    "\n",
    "ds = xr.Dataset(\n",
    "    {\n",
    "        \"temp\": ([\"x\", \"y\", \"time\"], temp),\n",
    "    },\n",
    "    coords={\n",
    "        \"x\": ([\"x\"], x),\n",
    "        \"y\": ([\"y\"], y),\n",
    "        \"time\": date_range(\"2000-01-01\", periods=100),\n",
    "    },\n",
    ")\n",
    "\n",
    "ds"
   ]
  },
  {
   "cell_type": "markdown",
   "metadata": {},
   "source": [
    "#### Print the help for the netCDF writer method:"
   ]
  },
  {
   "cell_type": "code",
   "execution_count": 2,
   "metadata": {
    "ExecuteTime": {
     "end_time": "2020-07-23T14:02:54.418422Z",
     "start_time": "2020-07-23T14:02:54.416748Z"
    },
    "scrolled": true
   },
   "outputs": [],
   "source": [
    "#help(ds.to_netcdf)"
   ]
  },
  {
   "cell_type": "markdown",
   "metadata": {},
   "source": [
    "`scipy` and `h5netcdf` could restrict the encoding options. Not sure. Here are the relevant options from the docstring:\n",
    "\n",
    "```python\n",
    "    engine : {'netcdf4', 'scipy', 'h5netcdf'}, optional\n",
    "        Engine to use when writing netCDF files. If not provided, the\n",
    "        default engine is chosen based on available dependencies, with a\n",
    "        preference for 'netcdf4' if writing to a file on disk.\n",
    "    encoding : dict, optional\n",
    "        Nested dictionary with variable names as keys and dictionaries of\n",
    "        variable specific encodings as values, e.g.,\n",
    "        ``{'my_variable': {'dtype': 'int16', 'scale_factor': 0.1,\n",
    "        'zlib': True}, ...}`\n",
    "```\n",
    "\n",
    "#### No encoding options are set by default\n",
    "\n",
    "Not that `encoding` is set at the variable level, at export or as a python attribute to the xarray variable:"
   ]
  },
  {
   "cell_type": "code",
   "execution_count": 3,
   "metadata": {
    "ExecuteTime": {
     "end_time": "2020-07-23T14:02:54.423314Z",
     "start_time": "2020-07-23T14:02:54.420847Z"
    }
   },
   "outputs": [
    {
     "data": {
      "text/plain": [
       "{}"
      ]
     },
     "execution_count": 3,
     "metadata": {},
     "output_type": "execute_result"
    }
   ],
   "source": [
    "ds.temp.encoding"
   ]
  },
  {
   "cell_type": "markdown",
   "metadata": {},
   "source": [
    "#### Setting `fletcher32` to `True` \n",
    "\n",
    "(and other stuff)"
   ]
  },
  {
   "cell_type": "markdown",
   "metadata": {},
   "source": [
    "This is the recommended way to set encoding options. Test with the temperature variable:"
   ]
  },
  {
   "cell_type": "code",
   "execution_count": 4,
   "metadata": {
    "ExecuteTime": {
     "end_time": "2020-07-23T14:02:54.428562Z",
     "start_time": "2020-07-23T14:02:54.425136Z"
    }
   },
   "outputs": [],
   "source": [
    "# Set integers to 32 bits to agree with OPeNDAP: (xarray defaults to int64)\n",
    "ds.time.encoding = {'dtype': dtype('int32')}\n",
    "ds.x.encoding = {'dtype': dtype('int32')}\n",
    "ds.y.encoding = {'dtype': dtype('int32')}\n",
    "\n",
    "# Set temperature encoding to use problematic fletcher32 property:\n",
    "ds.temp.encoding = {\n",
    "    'zlib': True,\n",
    "    'complevel': 4,\n",
    "    'fletcher32': True,\n",
    "}"
   ]
  },
  {
   "cell_type": "markdown",
   "metadata": {},
   "source": [
    "#### Write to disk (`test.nc`)\n",
    "\n",
    "http://xarray.pydata.org/en/stable/generated/xarray.Dataset.to_netcdf.html#xarray.Dataset.to_netcdf\n",
    "\n",
    "Defaults: \n",
    "\n",
    "* engine=netcdf4 & \n",
    "* encoding=None/Inherited from variable attributes"
   ]
  },
  {
   "cell_type": "code",
   "execution_count": 5,
   "metadata": {
    "ExecuteTime": {
     "end_time": "2020-07-23T14:02:54.431827Z",
     "start_time": "2020-07-23T14:02:54.430374Z"
    }
   },
   "outputs": [],
   "source": [
    "#!mkdir tmp"
   ]
  },
  {
   "cell_type": "code",
   "execution_count": 6,
   "metadata": {
    "ExecuteTime": {
     "end_time": "2020-07-23T14:02:54.938823Z",
     "start_time": "2020-07-23T14:02:54.433107Z"
    }
   },
   "outputs": [],
   "source": [
    "ds.to_netcdf(\"tmp/test-netcdf4.nc\", engine=\"netcdf4\")\n",
    "ds.to_netcdf(\"tmp/test-h5netcdf.nc\", engine=\"h5netcdf\")\n",
    "ds.to_netcdf(\"tmp/test-scipy.nc\", engine=\"scipy\")"
   ]
  },
  {
   "cell_type": "code",
   "execution_count": 7,
   "metadata": {
    "ExecuteTime": {
     "end_time": "2020-07-23T14:02:54.942116Z",
     "start_time": "2020-07-23T14:02:54.940125Z"
    }
   },
   "outputs": [],
   "source": [
    "ds = None"
   ]
  },
  {
   "cell_type": "markdown",
   "metadata": {},
   "source": [
    "#### Test with docker OPeNDAP via hyrax\n",
    "\n",
    "https://hub.docker.com/r/opendap/hyrax\n",
    "\n",
    "Test image can be pulled above. Build an image according to the linked github's instructions:"
   ]
  },
  {
   "cell_type": "code",
   "execution_count": 8,
   "metadata": {
    "ExecuteTime": {
     "end_time": "2020-07-23T14:02:55.453176Z",
     "start_time": "2020-07-23T14:02:54.945111Z"
    }
   },
   "outputs": [
    {
     "name": "stdout",
     "output_type": "stream",
     "text": [
      "740e97e775240c613bbebb89014b74b00b2bc836e4d5e18c2d5e793e68e8ca2e\r\n"
     ]
    }
   ],
   "source": [
    "!docker run \\\n",
    "    -d --rm \\\n",
    "    --publish 8080:8080 \\\n",
    "    --volume ${PWD}/tmp:/usr/share/hyrax \\\n",
    "    opendap/hyrax:latest"
   ]
  },
  {
   "cell_type": "code",
   "execution_count": 9,
   "metadata": {
    "ExecuteTime": {
     "end_time": "2020-07-23T14:02:55.624799Z",
     "start_time": "2020-07-23T14:02:55.455255Z"
    }
   },
   "outputs": [
    {
     "name": "stdout",
     "output_type": "stream",
     "text": [
      "CONTAINER ID        IMAGE                  COMMAND              CREATED                  STATUS                  PORTS                                                    NAMES\r\n",
      "740e97e77524        opendap/hyrax:latest   \"/entrypoint.sh -\"   Less than a second ago   Up Less than a second   8443/tcp, 10022/tcp, 0.0.0.0:8080->8080/tcp, 11002/tcp   nice_nobel\r\n"
     ]
    }
   ],
   "source": [
    "!docker container ls"
   ]
  },
  {
   "cell_type": "markdown",
   "metadata": {},
   "source": [
    "**Click link, cross fingers:**\n",
    "[`http://localhost:8080/opendap`](http://localhost:8080/opendap)"
   ]
  },
  {
   "cell_type": "markdown",
   "metadata": {},
   "source": [
    "```\n",
    "The netCDF handler does not currently support 64 bit integers.\n",
    "```"
   ]
  },
  {
   "cell_type": "code",
   "execution_count": 10,
   "metadata": {
    "ExecuteTime": {
     "end_time": "2020-07-23T14:02:55.804452Z",
     "start_time": "2020-07-23T14:02:55.627208Z"
    }
   },
   "outputs": [
    {
     "name": "stdout",
     "output_type": "stream",
     "text": [
      "Error response from daemon: No such container: 690c7a1aa1a9b1463925cb97a1f1b284643c490d8dff8f9c6c1c8144cb7e0341\r\n"
     ]
    }
   ],
   "source": [
    "!docker stop 690c7a1aa1a9b1463925cb97a1f1b284643c490d8dff8f9c6c1c8144cb7e0341"
   ]
  },
  {
   "cell_type": "markdown",
   "metadata": {},
   "source": [
    "#### OTHER CHECKS >>>"
   ]
  },
  {
   "cell_type": "code",
   "execution_count": 11,
   "metadata": {
    "ExecuteTime": {
     "end_time": "2020-07-23T14:02:55.934686Z",
     "start_time": "2020-07-23T14:02:55.807207Z"
    }
   },
   "outputs": [
    {
     "name": "stdout",
     "output_type": "stream",
     "text": [
      "ECCOv4r4_THETA_SALT_draft_v3_20200707 (2).nc\r\n",
      "test-h5netcdf.nc\r\n",
      "test-netcdf4.nc\r\n",
      "test-scipy.nc\r\n",
      "test.nc\r\n"
     ]
    }
   ],
   "source": [
    "!ls tmp"
   ]
  },
  {
   "cell_type": "code",
   "execution_count": 12,
   "metadata": {
    "ExecuteTime": {
     "end_time": "2020-07-23T14:02:55.945647Z",
     "start_time": "2020-07-23T14:02:55.937624Z"
    }
   },
   "outputs": [
    {
     "data": {
      "text/plain": [
       "['time', 'depth', 'lat', 'lon', 'THETA', 'SALT']"
      ]
     },
     "execution_count": 12,
     "metadata": {},
     "output_type": "execute_result"
    }
   ],
   "source": [
    "from netCDF4 import Dataset\n",
    "ecco = Dataset(\"tmp/ECCOv4r4_THETA_SALT_draft_v3_20200707 (2).nc\", \"r\")\n",
    "list(ecco.variables)"
   ]
  },
  {
   "cell_type": "code",
   "execution_count": 13,
   "metadata": {
    "ExecuteTime": {
     "end_time": "2020-07-23T14:02:55.954516Z",
     "start_time": "2020-07-23T14:02:55.947091Z"
    }
   },
   "outputs": [
    {
     "data": {
      "text/plain": [
       "{'zlib': True, 'shuffle': True, 'complevel': 5, 'fletcher32': True}"
      ]
     },
     "metadata": {},
     "output_type": "display_data"
    },
    {
     "data": {
      "text/plain": [
       "{'zlib': True, 'shuffle': True, 'complevel': 5, 'fletcher32': True}"
      ]
     },
     "metadata": {},
     "output_type": "display_data"
    },
    {
     "data": {
      "text/plain": [
       "{'zlib': True, 'shuffle': True, 'complevel': 5, 'fletcher32': True}"
      ]
     },
     "metadata": {},
     "output_type": "display_data"
    },
    {
     "data": {
      "text/plain": [
       "{'zlib': True, 'shuffle': True, 'complevel': 5, 'fletcher32': True}"
      ]
     },
     "metadata": {},
     "output_type": "display_data"
    },
    {
     "data": {
      "text/plain": [
       "{'zlib': True, 'shuffle': True, 'complevel': 5, 'fletcher32': True}"
      ]
     },
     "metadata": {},
     "output_type": "display_data"
    },
    {
     "data": {
      "text/plain": [
       "{'zlib': True, 'shuffle': True, 'complevel': 5, 'fletcher32': True}"
      ]
     },
     "metadata": {},
     "output_type": "display_data"
    }
   ],
   "source": [
    "for v in list(ecco.variables):\n",
    "    display(ecco[v].filters())"
   ]
  },
  {
   "cell_type": "markdown",
   "metadata": {
    "ExecuteTime": {
     "end_time": "2020-07-23T13:55:37.122805Z",
     "start_time": "2020-07-23T13:55:37.120109Z"
    }
   },
   "source": [
    "Test a hunch about `scipy`:"
   ]
  },
  {
   "cell_type": "code",
   "execution_count": 14,
   "metadata": {
    "ExecuteTime": {
     "end_time": "2020-07-23T14:02:55.973019Z",
     "start_time": "2020-07-23T14:02:55.955944Z"
    }
   },
   "outputs": [
    {
     "data": {
      "text/plain": [
       "{'zlib': True, 'complevel': 4, 'fletcher32': False}"
      ]
     },
     "execution_count": 14,
     "metadata": {},
     "output_type": "execute_result"
    }
   ],
   "source": [
    "ds = xr.load_dataset(\"tmp/test-scipy.nc\")\n",
    "\n",
    "# Set temperature encoding to use problematic fletcher32 property:\n",
    "ds.temp.encoding = {\n",
    "    'zlib': True,\n",
    "    'complevel': 4,\n",
    "    'fletcher32': False,\n",
    "}\n",
    "\n",
    "ds.temp.encoding"
   ]
  },
  {
   "cell_type": "code",
   "execution_count": 15,
   "metadata": {
    "ExecuteTime": {
     "end_time": "2020-07-23T14:02:55.993317Z",
     "start_time": "2020-07-23T14:02:55.974577Z"
    }
   },
   "outputs": [],
   "source": [
    "ds.to_netcdf(\"tmp/test-scipy.nc\", engine=\"scipy\")\n",
    "ds = None"
   ]
  },
  {
   "cell_type": "code",
   "execution_count": 16,
   "metadata": {
    "ExecuteTime": {
     "end_time": "2020-07-23T14:02:55.999481Z",
     "start_time": "2020-07-23T14:02:55.994912Z"
    }
   },
   "outputs": [
    {
     "data": {
      "text/plain": [
       "['temp', 'x', 'y', 'time']"
      ]
     },
     "execution_count": 16,
     "metadata": {},
     "output_type": "execute_result"
    }
   ],
   "source": [
    "from netCDF4 import Dataset\n",
    "test = Dataset(\"tmp/test-scipy.nc\", \"r\")\n",
    "list(test.variables)"
   ]
  },
  {
   "cell_type": "code",
   "execution_count": 17,
   "metadata": {
    "ExecuteTime": {
     "end_time": "2020-07-23T14:02:56.002825Z",
     "start_time": "2020-07-23T14:02:56.000678Z"
    }
   },
   "outputs": [],
   "source": [
    "test['temp'].filters()"
   ]
  },
  {
   "cell_type": "code",
   "execution_count": null,
   "metadata": {},
   "outputs": [],
   "source": []
  }
 ],
 "metadata": {
  "kernelspec": {
   "display_name": "Python 3.8.2 64-bit ('geo': conda)",
   "language": "python",
   "name": "python38264bitgeoconda68469ab7a3c44e969080e19c63965fc7"
  },
  "language_info": {
   "codemirror_mode": {
    "name": "ipython",
    "version": 3
   },
   "file_extension": ".py",
   "mimetype": "text/x-python",
   "name": "python",
   "nbconvert_exporter": "python",
   "pygments_lexer": "ipython3",
   "version": "3.8.2"
  },
  "toc": {
   "base_numbering": 1,
   "nav_menu": {},
   "number_sections": true,
   "sideBar": true,
   "skip_h1_title": true,
   "title_cell": "Table of Contents",
   "title_sidebar": "Contents",
   "toc_cell": true,
   "toc_position": {},
   "toc_section_display": true,
   "toc_window_display": false
  }
 },
 "nbformat": 4,
 "nbformat_minor": 4
}
