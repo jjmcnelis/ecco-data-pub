{
 "cells": [
  {
   "cell_type": "markdown",
   "metadata": {
    "toc": true
   },
   "source": [
    "<h1>Table of Contents<span class=\"tocSkip\"></span></h1>\n",
    "<div class=\"toc\"><ul class=\"toc-item\"></ul></div>"
   ]
  },
  {
   "cell_type": "code",
   "execution_count": 1,
   "metadata": {
    "ExecuteTime": {
     "end_time": "2020-08-06T10:26:07.864198Z",
     "start_time": "2020-08-06T10:26:07.802724Z"
    }
   },
   "outputs": [
    {
     "data": {
      "text/html": [
       "<div>\n",
       "<style scoped>\n",
       "    .dataframe tbody tr th:only-of-type {\n",
       "        vertical-align: middle;\n",
       "    }\n",
       "\n",
       "    .dataframe tbody tr th {\n",
       "        vertical-align: top;\n",
       "    }\n",
       "\n",
       "    .dataframe thead th {\n",
       "        text-align: right;\n",
       "    }\n",
       "</style>\n",
       "<table border=\"1\" class=\"dataframe\">\n",
       "  <thead>\n",
       "    <tr style=\"text-align: right;\">\n",
       "      <th></th>\n",
       "      <th>concept-id</th>\n",
       "      <th>DATASET.LONG_NAME</th>\n",
       "      <th>DATASET.SHORT_NAME</th>\n",
       "      <th>DATASET.FILENAME</th>\n",
       "      <th>DATASET.PERSISTENT_ID</th>\n",
       "      <th>DATASET.DESCRIPTION</th>\n",
       "      <th>DATASET_POLICY.ACCESS_TYPE</th>\n",
       "      <th>DATASET_POLICY.VIEW_ONLINE</th>\n",
       "      <th>DATASET_CITATION.CREATOR</th>\n",
       "      <th>DATASET_CITATION.RELEASE_DATE_LONG</th>\n",
       "      <th>DATASET_CITATION.VERSION</th>\n",
       "      <th>DATASET_LOCATION_POLICY.BASE_PATH</th>\n",
       "      <th>DATASET_LOCATION_POLICY.TYPE</th>\n",
       "    </tr>\n",
       "  </thead>\n",
       "  <tbody>\n",
       "    <tr>\n",
       "      <th>0</th>\n",
       "      <td>C1236799831-POCLOUD</td>\n",
       "      <td>ECCO Ocean and Sea-Ice Surface Freshwater Flux...</td>\n",
       "      <td>ECCO_L4_FRESH_FLUX_05DEG_DAILY_V4R4</td>\n",
       "      <td>OCEAN_SURFACE_FRESHWATER_FLUXES_day_mean_1992-...</td>\n",
       "      <td>PODAAC-ECG5D-FRE44</td>\n",
       "      <td>This dataset provides daily average surface fr...</td>\n",
       "      <td>OPEN</td>\n",
       "      <td>N</td>\n",
       "      <td>ECCO</td>\n",
       "      <td>8/15/2020</td>\n",
       "      <td>V4r4</td>\n",
       "      <td>file:///store/ecco/open/L4/V4/R4/half_deg_grid...</td>\n",
       "      <td>ARCHIVE-OPEN</td>\n",
       "    </tr>\n",
       "    <tr>\n",
       "      <th>1</th>\n",
       "      <td>C1236807469-POCLOUD</td>\n",
       "      <td>ECCO Ocean and Sea-Ice Surface Freshwater Flux...</td>\n",
       "      <td>ECCO_L4_FRESH_FLUX_05DEG_MONTHLY_V4R4</td>\n",
       "      <td>OCEAN_SURFACE_FRESHWATER_FLUXES_mon_mean_1992-...</td>\n",
       "      <td>PODAAC-ECG5M-FRE44</td>\n",
       "      <td>This dataset provides monthly average surface ...</td>\n",
       "      <td>OPEN</td>\n",
       "      <td>N</td>\n",
       "      <td>ECCO</td>\n",
       "      <td>8/15/2020</td>\n",
       "      <td>V4r4</td>\n",
       "      <td>file:///store/ecco/open/L4/V4/R4/half_deg_grid...</td>\n",
       "      <td>ARCHIVE-OPEN</td>\n",
       "    </tr>\n",
       "    <tr>\n",
       "      <th>2</th>\n",
       "      <td>C1236807470-POCLOUD</td>\n",
       "      <td>ECCO Ocean and Sea-Ice Surface Freshwater Flux...</td>\n",
       "      <td>ECCO_L4_FRESH_FLUX_LLC0090GRID_SNAPSHOT_V4R4</td>\n",
       "      <td>OCEAN_SURFACE_FRESHWATER_FLUXES_snap_1992-01-0...</td>\n",
       "      <td>PODAAC-ECL5S-FRE44</td>\n",
       "      <td>This dataset provides a snapshot of  surface f...</td>\n",
       "      <td>OPEN</td>\n",
       "      <td>N</td>\n",
       "      <td>ECCO</td>\n",
       "      <td>8/15/2020</td>\n",
       "      <td>V4r4</td>\n",
       "      <td>file:///store/ecco/open/L4/V4/R4/native_grid_l...</td>\n",
       "      <td>ARCHIVE-OPEN</td>\n",
       "    </tr>\n",
       "    <tr>\n",
       "      <th>3</th>\n",
       "      <td>C1236807471-POCLOUD</td>\n",
       "      <td>ECCO Ocean and Sea-Ice Surface Freshwater Flux...</td>\n",
       "      <td>ECCO_L4_FRESH_FLUX_LLC0090GRID_DAILY_V4R4</td>\n",
       "      <td>OCEAN_SURFACE_FRESHWATER_FLUXES_day_mean_1992-...</td>\n",
       "      <td>PODAAC-ECL5D-FRE44</td>\n",
       "      <td>This dataset provides daily average surface fr...</td>\n",
       "      <td>OPEN</td>\n",
       "      <td>N</td>\n",
       "      <td>ECCO</td>\n",
       "      <td>8/15/2020</td>\n",
       "      <td>V4r4</td>\n",
       "      <td>file:///store/ecco/open/L4/V4/R4/native_grid_l...</td>\n",
       "      <td>ARCHIVE-OPEN</td>\n",
       "    </tr>\n",
       "    <tr>\n",
       "      <th>4</th>\n",
       "      <td>C1236807472-POCLOUD</td>\n",
       "      <td>ECCO Ocean and Sea-Ice Surface Freshwater Flux...</td>\n",
       "      <td>ECCO_L4_FRESH_FLUX_LLC0090GRID_MONTHLY_V4R4</td>\n",
       "      <td>OCEAN_SURFACE_FRESHWATER_FLUXES_mon_mean_1992-...</td>\n",
       "      <td>PODAAC-ECL5M-FRE44</td>\n",
       "      <td>This dataset provides monthly average surface ...</td>\n",
       "      <td>OPEN</td>\n",
       "      <td>N</td>\n",
       "      <td>ECCO</td>\n",
       "      <td>8/15/2020</td>\n",
       "      <td>V4r4</td>\n",
       "      <td>file:///store/ecco/open/L4/V4/R4/native_grid_l...</td>\n",
       "      <td>ARCHIVE-OPEN</td>\n",
       "    </tr>\n",
       "    <tr>\n",
       "      <th>...</th>\n",
       "      <td>...</td>\n",
       "      <td>...</td>\n",
       "      <td>...</td>\n",
       "      <td>...</td>\n",
       "      <td>...</td>\n",
       "      <td>...</td>\n",
       "      <td>...</td>\n",
       "      <td>...</td>\n",
       "      <td>...</td>\n",
       "      <td>...</td>\n",
       "      <td>...</td>\n",
       "      <td>...</td>\n",
       "      <td>...</td>\n",
       "    </tr>\n",
       "    <tr>\n",
       "      <th>60</th>\n",
       "      <td>C1236807528-POCLOUD</td>\n",
       "      <td>ECCO Global Mean Sea Level - Daily Mean 0.5 De...</td>\n",
       "      <td>ECCO_L4_GMSL_05DEG_DAILY_V4R4</td>\n",
       "      <td>GLOBAL_MEAN_SEA_LEVEL_day_mean_1992-01-01_ECCO...</td>\n",
       "      <td>PODAAC-ECG5D-GMS44</td>\n",
       "      <td>This dataset provides daily average global mea...</td>\n",
       "      <td>OPEN</td>\n",
       "      <td>N</td>\n",
       "      <td>ECCO</td>\n",
       "      <td>8/15/2020</td>\n",
       "      <td>V4r4</td>\n",
       "      <td>file:///store/ecco/open/L4/V4/R4/half_deg_grid...</td>\n",
       "      <td>ARCHIVE-OPEN</td>\n",
       "    </tr>\n",
       "    <tr>\n",
       "      <th>61</th>\n",
       "      <td>C1236807529-POCLOUD</td>\n",
       "      <td>ECCO Global Mean Sea Level - Monthly Mean 0.5 ...</td>\n",
       "      <td>ECCO_L4_GMSL_05DEG_MONTHLY_V4R4</td>\n",
       "      <td>GLOBAL_MEAN_SEA_LEVEL_mon_mean_1992-01_ECCO_V4...</td>\n",
       "      <td>PODAAC-ECG5M-GMS44</td>\n",
       "      <td>This dataset provides monthly average global m...</td>\n",
       "      <td>OPEN</td>\n",
       "      <td>N</td>\n",
       "      <td>ECCO</td>\n",
       "      <td>8/15/2020</td>\n",
       "      <td>V4r4</td>\n",
       "      <td>file:///store/ecco/open/L4/V4/R4/half_deg_grid...</td>\n",
       "      <td>ARCHIVE-OPEN</td>\n",
       "    </tr>\n",
       "    <tr>\n",
       "      <th>62</th>\n",
       "      <td>C1236807530-POCLOUD</td>\n",
       "      <td>ECCO Global Mean Sea Level - Snapshot llc90 Gr...</td>\n",
       "      <td>ECCO_L4_GMSL_LLC0090GRID_SNAPSHOT_V4R4</td>\n",
       "      <td>SURFACE_HEAT_FLUXES_snap_1992-01-01_ECCO_V4r4_...</td>\n",
       "      <td>PODAAC-ECL5S-GMS44</td>\n",
       "      <td>This dataset provides a snapshot of  global me...</td>\n",
       "      <td>OPEN</td>\n",
       "      <td>N</td>\n",
       "      <td>ECCO</td>\n",
       "      <td>8/15/2020</td>\n",
       "      <td>V4r4</td>\n",
       "      <td>file:///store/ecco/open/L4/V4/R4/native_grid_l...</td>\n",
       "      <td>ARCHIVE-OPEN</td>\n",
       "    </tr>\n",
       "    <tr>\n",
       "      <th>63</th>\n",
       "      <td>C1236807531-POCLOUD</td>\n",
       "      <td>ECCO Global Mean Sea Level - Daily Mean llc90 ...</td>\n",
       "      <td>ECCO_L4_GMSL_LLC0090GRID_DAILY_V4R4</td>\n",
       "      <td>GLOBAL_MEAN_SEA_LEVEL_day_mean_1992-01-01_ECCO...</td>\n",
       "      <td>PODAAC-ECL5D-GMS44</td>\n",
       "      <td>This dataset provides daily average global mea...</td>\n",
       "      <td>OPEN</td>\n",
       "      <td>N</td>\n",
       "      <td>ECCO</td>\n",
       "      <td>8/15/2020</td>\n",
       "      <td>V4r4</td>\n",
       "      <td>file:///store/ecco/open/L4/V4/R4/native_grid_l...</td>\n",
       "      <td>ARCHIVE-OPEN</td>\n",
       "    </tr>\n",
       "    <tr>\n",
       "      <th>64</th>\n",
       "      <td>C1236807532-POCLOUD</td>\n",
       "      <td>ECCO Global Mean Sea Level - Monthly Mean llc9...</td>\n",
       "      <td>ECCO_L4_GMSL_LLC0090GRID_MONTHLY_V4R4</td>\n",
       "      <td>GLOBAL_MEAN_SEA_LEVEL_mon_mean_1992-01_ECCO_V4...</td>\n",
       "      <td>PODAAC-ECL5M-GMS44</td>\n",
       "      <td>This dataset provides monthly average global m...</td>\n",
       "      <td>OPEN</td>\n",
       "      <td>N</td>\n",
       "      <td>ECCO</td>\n",
       "      <td>8/15/2020</td>\n",
       "      <td>V4r4</td>\n",
       "      <td>file:///store/ecco/open/L4/V4/R4/native_grid_l...</td>\n",
       "      <td>ARCHIVE-OPEN</td>\n",
       "    </tr>\n",
       "  </tbody>\n",
       "</table>\n",
       "<p>65 rows × 13 columns</p>\n",
       "</div>"
      ],
      "text/plain": [
       "             concept-id                                  DATASET.LONG_NAME  \\\n",
       "0   C1236799831-POCLOUD  ECCO Ocean and Sea-Ice Surface Freshwater Flux...   \n",
       "1   C1236807469-POCLOUD  ECCO Ocean and Sea-Ice Surface Freshwater Flux...   \n",
       "2   C1236807470-POCLOUD  ECCO Ocean and Sea-Ice Surface Freshwater Flux...   \n",
       "3   C1236807471-POCLOUD  ECCO Ocean and Sea-Ice Surface Freshwater Flux...   \n",
       "4   C1236807472-POCLOUD  ECCO Ocean and Sea-Ice Surface Freshwater Flux...   \n",
       "..                  ...                                                ...   \n",
       "60  C1236807528-POCLOUD  ECCO Global Mean Sea Level - Daily Mean 0.5 De...   \n",
       "61  C1236807529-POCLOUD  ECCO Global Mean Sea Level - Monthly Mean 0.5 ...   \n",
       "62  C1236807530-POCLOUD  ECCO Global Mean Sea Level - Snapshot llc90 Gr...   \n",
       "63  C1236807531-POCLOUD  ECCO Global Mean Sea Level - Daily Mean llc90 ...   \n",
       "64  C1236807532-POCLOUD  ECCO Global Mean Sea Level - Monthly Mean llc9...   \n",
       "\n",
       "                              DATASET.SHORT_NAME  \\\n",
       "0            ECCO_L4_FRESH_FLUX_05DEG_DAILY_V4R4   \n",
       "1          ECCO_L4_FRESH_FLUX_05DEG_MONTHLY_V4R4   \n",
       "2   ECCO_L4_FRESH_FLUX_LLC0090GRID_SNAPSHOT_V4R4   \n",
       "3      ECCO_L4_FRESH_FLUX_LLC0090GRID_DAILY_V4R4   \n",
       "4    ECCO_L4_FRESH_FLUX_LLC0090GRID_MONTHLY_V4R4   \n",
       "..                                           ...   \n",
       "60                 ECCO_L4_GMSL_05DEG_DAILY_V4R4   \n",
       "61               ECCO_L4_GMSL_05DEG_MONTHLY_V4R4   \n",
       "62        ECCO_L4_GMSL_LLC0090GRID_SNAPSHOT_V4R4   \n",
       "63           ECCO_L4_GMSL_LLC0090GRID_DAILY_V4R4   \n",
       "64         ECCO_L4_GMSL_LLC0090GRID_MONTHLY_V4R4   \n",
       "\n",
       "                                     DATASET.FILENAME DATASET.PERSISTENT_ID  \\\n",
       "0   OCEAN_SURFACE_FRESHWATER_FLUXES_day_mean_1992-...    PODAAC-ECG5D-FRE44   \n",
       "1   OCEAN_SURFACE_FRESHWATER_FLUXES_mon_mean_1992-...    PODAAC-ECG5M-FRE44   \n",
       "2   OCEAN_SURFACE_FRESHWATER_FLUXES_snap_1992-01-0...    PODAAC-ECL5S-FRE44   \n",
       "3   OCEAN_SURFACE_FRESHWATER_FLUXES_day_mean_1992-...    PODAAC-ECL5D-FRE44   \n",
       "4   OCEAN_SURFACE_FRESHWATER_FLUXES_mon_mean_1992-...    PODAAC-ECL5M-FRE44   \n",
       "..                                                ...                   ...   \n",
       "60  GLOBAL_MEAN_SEA_LEVEL_day_mean_1992-01-01_ECCO...    PODAAC-ECG5D-GMS44   \n",
       "61  GLOBAL_MEAN_SEA_LEVEL_mon_mean_1992-01_ECCO_V4...    PODAAC-ECG5M-GMS44   \n",
       "62  SURFACE_HEAT_FLUXES_snap_1992-01-01_ECCO_V4r4_...    PODAAC-ECL5S-GMS44   \n",
       "63  GLOBAL_MEAN_SEA_LEVEL_day_mean_1992-01-01_ECCO...    PODAAC-ECL5D-GMS44   \n",
       "64  GLOBAL_MEAN_SEA_LEVEL_mon_mean_1992-01_ECCO_V4...    PODAAC-ECL5M-GMS44   \n",
       "\n",
       "                                  DATASET.DESCRIPTION  \\\n",
       "0   This dataset provides daily average surface fr...   \n",
       "1   This dataset provides monthly average surface ...   \n",
       "2   This dataset provides a snapshot of  surface f...   \n",
       "3   This dataset provides daily average surface fr...   \n",
       "4   This dataset provides monthly average surface ...   \n",
       "..                                                ...   \n",
       "60  This dataset provides daily average global mea...   \n",
       "61  This dataset provides monthly average global m...   \n",
       "62  This dataset provides a snapshot of  global me...   \n",
       "63  This dataset provides daily average global mea...   \n",
       "64  This dataset provides monthly average global m...   \n",
       "\n",
       "   DATASET_POLICY.ACCESS_TYPE DATASET_POLICY.VIEW_ONLINE  \\\n",
       "0                        OPEN                          N   \n",
       "1                        OPEN                          N   \n",
       "2                        OPEN                          N   \n",
       "3                        OPEN                          N   \n",
       "4                        OPEN                          N   \n",
       "..                        ...                        ...   \n",
       "60                       OPEN                          N   \n",
       "61                       OPEN                          N   \n",
       "62                       OPEN                          N   \n",
       "63                       OPEN                          N   \n",
       "64                       OPEN                          N   \n",
       "\n",
       "   DATASET_CITATION.CREATOR DATASET_CITATION.RELEASE_DATE_LONG  \\\n",
       "0                      ECCO                          8/15/2020   \n",
       "1                      ECCO                          8/15/2020   \n",
       "2                      ECCO                          8/15/2020   \n",
       "3                      ECCO                          8/15/2020   \n",
       "4                      ECCO                          8/15/2020   \n",
       "..                      ...                                ...   \n",
       "60                     ECCO                          8/15/2020   \n",
       "61                     ECCO                          8/15/2020   \n",
       "62                     ECCO                          8/15/2020   \n",
       "63                     ECCO                          8/15/2020   \n",
       "64                     ECCO                          8/15/2020   \n",
       "\n",
       "   DATASET_CITATION.VERSION  \\\n",
       "0                      V4r4   \n",
       "1                      V4r4   \n",
       "2                      V4r4   \n",
       "3                      V4r4   \n",
       "4                      V4r4   \n",
       "..                      ...   \n",
       "60                     V4r4   \n",
       "61                     V4r4   \n",
       "62                     V4r4   \n",
       "63                     V4r4   \n",
       "64                     V4r4   \n",
       "\n",
       "                    DATASET_LOCATION_POLICY.BASE_PATH  \\\n",
       "0   file:///store/ecco/open/L4/V4/R4/half_deg_grid...   \n",
       "1   file:///store/ecco/open/L4/V4/R4/half_deg_grid...   \n",
       "2   file:///store/ecco/open/L4/V4/R4/native_grid_l...   \n",
       "3   file:///store/ecco/open/L4/V4/R4/native_grid_l...   \n",
       "4   file:///store/ecco/open/L4/V4/R4/native_grid_l...   \n",
       "..                                                ...   \n",
       "60  file:///store/ecco/open/L4/V4/R4/half_deg_grid...   \n",
       "61  file:///store/ecco/open/L4/V4/R4/half_deg_grid...   \n",
       "62  file:///store/ecco/open/L4/V4/R4/native_grid_l...   \n",
       "63  file:///store/ecco/open/L4/V4/R4/native_grid_l...   \n",
       "64  file:///store/ecco/open/L4/V4/R4/native_grid_l...   \n",
       "\n",
       "   DATASET_LOCATION_POLICY.TYPE  \n",
       "0                  ARCHIVE-OPEN  \n",
       "1                  ARCHIVE-OPEN  \n",
       "2                  ARCHIVE-OPEN  \n",
       "3                  ARCHIVE-OPEN  \n",
       "4                  ARCHIVE-OPEN  \n",
       "..                          ...  \n",
       "60                 ARCHIVE-OPEN  \n",
       "61                 ARCHIVE-OPEN  \n",
       "62                 ARCHIVE-OPEN  \n",
       "63                 ARCHIVE-OPEN  \n",
       "64                 ARCHIVE-OPEN  \n",
       "\n",
       "[65 rows x 13 columns]"
      ]
     },
     "execution_count": 1,
     "metadata": {},
     "output_type": "execute_result"
    }
   ],
   "source": [
    "from netCDF4 import Dataset\n",
    "from pandas import read_csv\n",
    "\n",
    "dstab = read_csv(\"../metadata/datasets.csv\")\n",
    "dstab"
   ]
  },
  {
   "cell_type": "code",
   "execution_count": 2,
   "metadata": {
    "ExecuteTime": {
     "end_time": "2020-08-06T10:26:08.063197Z",
     "start_time": "2020-08-06T10:26:08.047266Z"
    }
   },
   "outputs": [
    {
     "data": {
      "text/plain": [
       "['ATM_SURFACE_TEMP_HUM_WIND_PRES_day_mean_1992-01-01_ECCO_V4r4_latlon_0p50deg.nc',\n",
       " 'ATM_SURFACE_TEMP_HUM_WIND_PRES_day_mean_1992-01-02_ECCO_V4r4_latlon_0p50deg.nc',\n",
       " 'ATM_SURFACE_TEMP_HUM_WIND_PRES_mon_mean_1992-01_ECCO_V4r4_latlon_0p50deg.nc',\n",
       " 'ATM_SURFACE_TEMP_HUM_WIND_PRES_mon_mean_1992-02_ECCO_V4r4_latlon_0p50deg.nc',\n",
       " 'GM_OCEAN_BOLUS_VELOCITY_day_mean_1992-01-01_ECCO_V4r4_latlon_0p50deg.nc',\n",
       " 'GM_OCEAN_BOLUS_VELOCITY_day_mean_1992-01-02_ECCO_V4r4_latlon_0p50deg.nc',\n",
       " 'GM_OCEAN_BOLUS_VELOCITY_mon_mean_1992-01_ECCO_V4r4_latlon_0p50deg.nc',\n",
       " 'GM_OCEAN_BOLUS_VELOCITY_mon_mean_1992-02_ECCO_V4r4_latlon_0p50deg.nc',\n",
       " 'MIXED_LAYER_DEPTH_day_mean_1992-01-01_ECCO_V4r4_latlon_0p50deg.nc',\n",
       " 'MIXED_LAYER_DEPTH_day_mean_1992-01-02_ECCO_V4r4_latlon_0p50deg.nc',\n",
       " 'MIXED_LAYER_DEPTH_mon_mean_1992-01_ECCO_V4r4_latlon_0p50deg.nc',\n",
       " 'MIXED_LAYER_DEPTH_mon_mean_1992-02_ECCO_V4r4_latlon_0p50deg.nc',\n",
       " 'OCEAN_PRES_DENS_STRAT_day_mean_1992-01-01_ECCO_V4r4_latlon_0p50deg.nc',\n",
       " 'OCEAN_PRES_DENS_STRAT_day_mean_1992-01-02_ECCO_V4r4_latlon_0p50deg.nc',\n",
       " 'OCEAN_PRES_DENS_STRAT_mon_mean_1992-01_ECCO_V4r4_latlon_0p50deg.nc',\n",
       " 'OCEAN_PRES_DENS_STRAT_mon_mean_1992-02_ECCO_V4r4_latlon_0p50deg.nc',\n",
       " 'OCEAN_SURFACE_FRESHWATER_FLUXES_day_mean_1992-01-01_ECCO_V4r4_latlon_0p50deg.nc',\n",
       " 'OCEAN_SURFACE_FRESHWATER_FLUXES_day_mean_1992-01-02_ECCO_V4r4_latlon_0p50deg.nc',\n",
       " 'OCEAN_SURFACE_FRESHWATER_FLUXES_mon_mean_1992-01_ECCO_V4r4_latlon_0p50deg.nc',\n",
       " 'OCEAN_SURFACE_FRESHWATER_FLUXES_mon_mean_1992-02_ECCO_V4r4_latlon_0p50deg.nc',\n",
       " 'OCEAN_SURFACE_STRESS_day_mean_1992-01-01_ECCO_V4r4_latlon_0p50deg.nc',\n",
       " 'OCEAN_SURFACE_STRESS_day_mean_1992-01-02_ECCO_V4r4_latlon_0p50deg.nc',\n",
       " 'OCEAN_SURFACE_STRESS_mon_mean_1992-01_ECCO_V4r4_latlon_0p50deg.nc',\n",
       " 'OCEAN_SURFACE_STRESS_mon_mean_1992-02_ECCO_V4r4_latlon_0p50deg.nc',\n",
       " 'OCEAN_TEMPERATURE_AND_SALT_day_mean_1992-01-01_ECCO_V4r4_latlon_0p50deg.nc',\n",
       " 'OCEAN_TEMPERATURE_AND_SALT_day_mean_1992-01-02_ECCO_V4r4_latlon_0p50deg.nc',\n",
       " 'OCEAN_TEMPERATURE_AND_SALT_mon_mean_1992-01_ECCO_V4r4_latlon_0p50deg.nc',\n",
       " 'OCEAN_TEMPERATURE_AND_SALT_mon_mean_1992-02_ECCO_V4r4_latlon_0p50deg.nc',\n",
       " 'OCEAN_VELOCITY_day_mean_1992-01-01_ECCO_V4r4_latlon_0p50deg.nc',\n",
       " 'OCEAN_VELOCITY_day_mean_1992-01-02_ECCO_V4r4_latlon_0p50deg.nc',\n",
       " 'OCEAN_VELOCITY_mon_mean_1992-01_ECCO_V4r4_latlon_0p50deg.nc',\n",
       " 'OCEAN_VELOCITY_mon_mean_1992-02_ECCO_V4r4_latlon_0p50deg.nc',\n",
       " 'SEA_ICE_AND_SNOW_day_mean_1992-01-01_ECCO_V4r4_latlon_0p50deg.nc',\n",
       " 'SEA_ICE_AND_SNOW_day_mean_1992-01-02_ECCO_V4r4_latlon_0p50deg.nc',\n",
       " 'SEA_ICE_AND_SNOW_mon_mean_1992-01_ECCO_V4r4_latlon_0p50deg.nc',\n",
       " 'SEA_ICE_AND_SNOW_mon_mean_1992-02_ECCO_V4r4_latlon_0p50deg.nc',\n",
       " 'SURFACE_HEAT_FLUXES_day_mean_1992-01-01_ECCO_V4r4_latlon_0p50deg.nc',\n",
       " 'SURFACE_HEAT_FLUXES_day_mean_1992-01-02_ECCO_V4r4_latlon_0p50deg.nc',\n",
       " 'SURFACE_HEAT_FLUXES_mon_mean_1992-01_ECCO_V4r4_latlon_0p50deg.nc',\n",
       " 'SURFACE_HEAT_FLUXES_mon_mean_1992-02_ECCO_V4r4_latlon_0p50deg.nc']"
      ]
     },
     "execution_count": 2,
     "metadata": {},
     "output_type": "execute_result"
    }
   ],
   "source": [
    "data0=\"latlon_dataset_demo_files_20200730/\"\n",
    "latlon=!ls -1 \"{data0}\"\n",
    "latlon"
   ]
  },
  {
   "cell_type": "code",
   "execution_count": 3,
   "metadata": {
    "ExecuteTime": {
     "end_time": "2020-08-06T10:26:08.228149Z",
     "start_time": "2020-08-06T10:26:08.224813Z"
    }
   },
   "outputs": [
    {
     "data": {
      "text/plain": [
       "40"
      ]
     },
     "execution_count": 3,
     "metadata": {},
     "output_type": "execute_result"
    }
   ],
   "source": [
    "len(latlon)"
   ]
  },
  {
   "cell_type": "code",
   "execution_count": 4,
   "metadata": {
    "ExecuteTime": {
     "end_time": "2020-08-06T10:26:08.423863Z",
     "start_time": "2020-08-06T10:26:08.403419Z"
    }
   },
   "outputs": [
    {
     "data": {
      "text/plain": [
       "['ECCO_L4_FRESH_FLUX_05DEG_DAILY_V4R4,latlon_dataset_demo_files_20200730/OCEAN_SURFACE_FRESHWATER_FLUXES_day_mean_1992-01-01_ECCO_V4r4_latlon_0p50deg.nc',\n",
       " 'ECCO_L4_FRESH_FLUX_05DEG_MONTHLY_V4R4,latlon_dataset_demo_files_20200730/OCEAN_SURFACE_FRESHWATER_FLUXES_mon_mean_1992-01_ECCO_V4r4_latlon_0p50deg.nc',\n",
       " 'ECCO_L4_HEAT_FLUX_05DEG_DAILY_V4R4,latlon_dataset_demo_files_20200730/SURFACE_HEAT_FLUXES_day_mean_1992-01-01_ECCO_V4r4_latlon_0p50deg.nc',\n",
       " 'ECCO_L4_HEAT_FLUX_05DEG_MONTHLY_V4R4,latlon_dataset_demo_files_20200730/SURFACE_HEAT_FLUXES_mon_mean_1992-01_ECCO_V4r4_latlon_0p50deg.nc',\n",
       " 'ECCO_L4_SURFACE_STRESS_05DEG_DAILY_V4R4,latlon_dataset_demo_files_20200730/OCEAN_SURFACE_STRESS_day_mean_1992-01-01_ECCO_V4r4_latlon_0p50deg.nc',\n",
       " 'ECCO_L4_SURFACE_STRESS_05DEG_MONTHLY_V4R4,latlon_dataset_demo_files_20200730/OCEAN_SURFACE_STRESS_mon_mean_1992-01_ECCO_V4r4_latlon_0p50deg.nc',\n",
       " 'ECCO_L4_ATM_PROPERTIES_05DEG_DAILY_V4R4,latlon_dataset_demo_files_20200730/ATM_SURFACE_TEMP_HUM_WIND_PRES_day_mean_1992-01-01_ECCO_V4r4_latlon_0p50deg.nc',\n",
       " 'ECCO_L4_ATM_PROPERTIES_05DEG_MONTHLY_V4R4,latlon_dataset_demo_files_20200730/ATM_SURFACE_TEMP_HUM_WIND_PRES_mon_mean_1992-01_ECCO_V4r4_latlon_0p50deg.nc',\n",
       " 'ECCO_L4_BOLUS_05DEG_DAILY_V4R4,latlon_dataset_demo_files_20200730/GM_OCEAN_BOLUS_VELOCITY_day_mean_1992-01-01_ECCO_V4r4_latlon_0p50deg.nc',\n",
       " 'ECCO_L4_BOLUS_05DEG_MONTHLY_V4R4,latlon_dataset_demo_files_20200730/GM_OCEAN_BOLUS_VELOCITY_mon_mean_1992-01_ECCO_V4r4_latlon_0p50deg.nc',\n",
       " 'ECCO_L4_DENSE_05DEG_DAILY_V4R4,latlon_dataset_demo_files_20200730/OCEAN_PRES_DENS_STRAT_day_mean_1992-01-01_ECCO_V4r4_latlon_0p50deg.nc',\n",
       " 'ECCO_L4_DENSE_05DEG_MONTHLY_V4R4,latlon_dataset_demo_files_20200730/OCEAN_PRES_DENS_STRAT_mon_mean_1992-01_ECCO_V4r4_latlon_0p50deg.nc',\n",
       " 'ECCO_L4_MIXED_LAYER_DEPTH_05DEG_DAILY_V4R4,latlon_dataset_demo_files_20200730/MIXED_LAYER_DEPTH_day_mean_1992-01-01_ECCO_V4r4_latlon_0p50deg.nc',\n",
       " 'ECCO_L4_MIXED_LAYER_DEPTH_05DEG_MONTHLY_V4R4,latlon_dataset_demo_files_20200730/MIXED_LAYER_DEPTH_mon_mean_1992-01_ECCO_V4r4_latlon_0p50deg.nc',\n",
       " 'ECCO_L4_OCEAN_TEMP_SALINITY_05DEG_DAILY_V4R4,latlon_dataset_demo_files_20200730/OCEAN_TEMPERATURE_AND_SALT_day_mean_1992-01-01_ECCO_V4r4_latlon_0p50deg.nc',\n",
       " 'ECCO_L4_OCEAN_TEMP_SALINITY_05DEG_MONTHLY_V4R4,latlon_dataset_demo_files_20200730/OCEAN_TEMPERATURE_AND_SALT_mon_mean_1992-01_ECCO_V4r4_latlon_0p50deg.nc',\n",
       " 'ECCO_L4_OCEAN_VEL_05DEG_DAILY_V4R4,latlon_dataset_demo_files_20200730/OCEAN_VELOCITY_day_mean_1992-01-01_ECCO_V4r4_latlon_0p50deg.nc',\n",
       " 'ECCO_L4_OCEAN_VEL_05DEG_MONTHLY_V4R4,latlon_dataset_demo_files_20200730/OCEAN_VELOCITY_mon_mean_1992-01_ECCO_V4r4_latlon_0p50deg.nc',\n",
       " 'ECCO_L4_SEA_ICE_CONCENTRATION_05DEG_DAILY_V4R4,latlon_dataset_demo_files_20200730/SEA_ICE_AND_SNOW_day_mean_1992-01-01_ECCO_V4r4_latlon_0p50deg.nc',\n",
       " 'ECCO_L4_SEA_ICE_CONCENTRATION_05DEG_MONTHLY_V4R4,latlon_dataset_demo_files_20200730/SEA_ICE_AND_SNOW_mon_mean_1992-01_ECCO_V4r4_latlon_0p50deg.nc']"
      ]
     },
     "execution_count": 4,
     "metadata": {},
     "output_type": "execute_result"
    }
   ],
   "source": [
    "pairs = []\n",
    "for i, d in dstab.iterrows():\n",
    "    _file = d['DATASET.FILENAME']\n",
    "    if _file in listdir(\"latlon_dataset_demo_files_20200730/\"):\n",
    "        pairs.append(f\"{d['DATASET.SHORT_NAME']},latlon_dataset_demo_files_20200730/{_file}\")\n",
    "pairs"
   ]
  },
  {
   "cell_type": "code",
   "execution_count": 5,
   "metadata": {
    "ExecuteTime": {
     "end_time": "2020-08-06T10:26:08.694577Z",
     "start_time": "2020-08-06T10:26:08.561921Z"
    }
   },
   "outputs": [
    {
     "name": "stdout",
     "output_type": "stream",
     "text": [
      "\u001b[1m\u001b[31mdaily\u001b[m\u001b[m   \u001b[1m\u001b[31mmonthly\u001b[m\u001b[m\r\n"
     ]
    }
   ],
   "source": [
    "!ls ECCOV4r4_monthly_daily_means_netcdf_datasets"
   ]
  },
  {
   "cell_type": "code",
   "execution_count": 6,
   "metadata": {
    "ExecuteTime": {
     "end_time": "2020-08-06T10:26:08.826292Z",
     "start_time": "2020-08-06T10:26:08.812321Z"
    }
   },
   "outputs": [
    {
     "data": {
      "text/plain": [
       "'ECCOV4r4_monthly_daily_means_netcdf_datasets/daily/ATM_SURFACE_TEMP_HUM_WIND_PRES_day_mean_1992-01-01_ECCO_V4r4_latlon_0p50deg.nc'"
      ]
     },
     "execution_count": 6,
     "metadata": {},
     "output_type": "execute_result"
    }
   ],
   "source": [
    "daynat_ = !ls ECCOV4r4_monthly_daily_means_netcdf_datasets/daily\n",
    "daynat = [f\"ECCOV4r4_monthly_daily_means_netcdf_datasets/daily/{f}\" for f in daynat_]\n",
    "daynat[0]"
   ]
  },
  {
   "cell_type": "code",
   "execution_count": 7,
   "metadata": {
    "ExecuteTime": {
     "end_time": "2020-08-06T10:26:09.130006Z",
     "start_time": "2020-08-06T10:26:09.112544Z"
    }
   },
   "outputs": [
    {
     "data": {
      "text/plain": [
       "'ECCOV4r4_monthly_daily_means_netcdf_datasets/monthly/ATM_SURFACE_TEMP_HUM_WIND_PRES_mon_mean_1992-01_ECCO_V4r4_latlon_0p50deg.nc'"
      ]
     },
     "execution_count": 7,
     "metadata": {},
     "output_type": "execute_result"
    }
   ],
   "source": [
    "monnat_ = !ls ECCOV4r4_monthly_daily_means_netcdf_datasets/monthly\n",
    "monnat = [f\"ECCOV4r4_monthly_daily_means_netcdf_datasets/monthly/{f}\" for f in monnat_]\n",
    "monnat[0]"
   ]
  },
  {
   "cell_type": "code",
   "execution_count": 8,
   "metadata": {
    "ExecuteTime": {
     "end_time": "2020-08-06T10:26:09.543765Z",
     "start_time": "2020-08-06T10:26:09.516036Z"
    }
   },
   "outputs": [
    {
     "data": {
      "text/plain": [
       "['ECCO_L4_FRESH_FLUX_05DEG_DAILY_V4R4,latlon_dataset_demo_files_20200730/OCEAN_SURFACE_FRESHWATER_FLUXES_day_mean_1992-01-01_ECCO_V4r4_latlon_0p50deg.nc',\n",
       " 'ECCO_L4_FRESH_FLUX_05DEG_MONTHLY_V4R4,latlon_dataset_demo_files_20200730/OCEAN_SURFACE_FRESHWATER_FLUXES_mon_mean_1992-01_ECCO_V4r4_latlon_0p50deg.nc',\n",
       " 'ECCO_L4_HEAT_FLUX_05DEG_DAILY_V4R4,latlon_dataset_demo_files_20200730/SURFACE_HEAT_FLUXES_day_mean_1992-01-01_ECCO_V4r4_latlon_0p50deg.nc',\n",
       " 'ECCO_L4_HEAT_FLUX_05DEG_MONTHLY_V4R4,latlon_dataset_demo_files_20200730/SURFACE_HEAT_FLUXES_mon_mean_1992-01_ECCO_V4r4_latlon_0p50deg.nc',\n",
       " 'ECCO_L4_SURFACE_STRESS_05DEG_DAILY_V4R4,latlon_dataset_demo_files_20200730/OCEAN_SURFACE_STRESS_day_mean_1992-01-01_ECCO_V4r4_latlon_0p50deg.nc',\n",
       " 'ECCO_L4_SURFACE_STRESS_05DEG_MONTHLY_V4R4,latlon_dataset_demo_files_20200730/OCEAN_SURFACE_STRESS_mon_mean_1992-01_ECCO_V4r4_latlon_0p50deg.nc',\n",
       " 'ECCO_L4_ATM_PROPERTIES_05DEG_DAILY_V4R4,latlon_dataset_demo_files_20200730/ATM_SURFACE_TEMP_HUM_WIND_PRES_day_mean_1992-01-01_ECCO_V4r4_latlon_0p50deg.nc',\n",
       " 'ECCO_L4_ATM_PROPERTIES_05DEG_MONTHLY_V4R4,latlon_dataset_demo_files_20200730/ATM_SURFACE_TEMP_HUM_WIND_PRES_mon_mean_1992-01_ECCO_V4r4_latlon_0p50deg.nc',\n",
       " 'ECCO_L4_BOLUS_05DEG_DAILY_V4R4,latlon_dataset_demo_files_20200730/GM_OCEAN_BOLUS_VELOCITY_day_mean_1992-01-01_ECCO_V4r4_latlon_0p50deg.nc',\n",
       " 'ECCO_L4_BOLUS_05DEG_MONTHLY_V4R4,latlon_dataset_demo_files_20200730/GM_OCEAN_BOLUS_VELOCITY_mon_mean_1992-01_ECCO_V4r4_latlon_0p50deg.nc',\n",
       " 'ECCO_L4_DENSE_05DEG_DAILY_V4R4,latlon_dataset_demo_files_20200730/OCEAN_PRES_DENS_STRAT_day_mean_1992-01-01_ECCO_V4r4_latlon_0p50deg.nc',\n",
       " 'ECCO_L4_DENSE_05DEG_MONTHLY_V4R4,latlon_dataset_demo_files_20200730/OCEAN_PRES_DENS_STRAT_mon_mean_1992-01_ECCO_V4r4_latlon_0p50deg.nc',\n",
       " 'ECCO_L4_MIXED_LAYER_DEPTH_05DEG_DAILY_V4R4,latlon_dataset_demo_files_20200730/MIXED_LAYER_DEPTH_day_mean_1992-01-01_ECCO_V4r4_latlon_0p50deg.nc',\n",
       " 'ECCO_L4_MIXED_LAYER_DEPTH_05DEG_MONTHLY_V4R4,latlon_dataset_demo_files_20200730/MIXED_LAYER_DEPTH_mon_mean_1992-01_ECCO_V4r4_latlon_0p50deg.nc',\n",
       " 'ECCO_L4_OCEAN_TEMP_SALINITY_05DEG_DAILY_V4R4,latlon_dataset_demo_files_20200730/OCEAN_TEMPERATURE_AND_SALT_day_mean_1992-01-01_ECCO_V4r4_latlon_0p50deg.nc',\n",
       " 'ECCO_L4_OCEAN_TEMP_SALINITY_05DEG_MONTHLY_V4R4,latlon_dataset_demo_files_20200730/OCEAN_TEMPERATURE_AND_SALT_mon_mean_1992-01_ECCO_V4r4_latlon_0p50deg.nc',\n",
       " 'ECCO_L4_OCEAN_VEL_05DEG_DAILY_V4R4,latlon_dataset_demo_files_20200730/OCEAN_VELOCITY_day_mean_1992-01-01_ECCO_V4r4_latlon_0p50deg.nc',\n",
       " 'ECCO_L4_OCEAN_VEL_05DEG_MONTHLY_V4R4,latlon_dataset_demo_files_20200730/OCEAN_VELOCITY_mon_mean_1992-01_ECCO_V4r4_latlon_0p50deg.nc',\n",
       " 'ECCO_L4_SEA_ICE_CONCENTRATION_05DEG_DAILY_V4R4,latlon_dataset_demo_files_20200730/SEA_ICE_AND_SNOW_day_mean_1992-01-01_ECCO_V4r4_latlon_0p50deg.nc',\n",
       " 'ECCO_L4_SEA_ICE_CONCENTRATION_05DEG_MONTHLY_V4R4,latlon_dataset_demo_files_20200730/SEA_ICE_AND_SNOW_mon_mean_1992-01_ECCO_V4r4_latlon_0p50deg.nc']"
      ]
     },
     "execution_count": 8,
     "metadata": {},
     "output_type": "execute_result"
    }
   ],
   "source": [
    "for i, d in dstab.iterrows():\n",
    "    _file = d['DATASET.FILENAME']\n",
    "    if _file not in listdir(\"latlon_dataset_demo_files_20200730/\"):\n",
    "        if _file in daynat:\n",
    "            pairs.append(f\"{d['DATASET.SHORT_NAME']},ECCOV4r4_monthly_daily_means_netcdf_datasets/daily/{d['DATASET.FILENAME']}\")\n",
    "        if _file in monnat:\n",
    "            pairs.append(f\"{d['DATASET.SHORT_NAME']},ECCOV4r4_monthly_daily_means_netcdf_datasets/monthly/{d['DATASET.FILENAME']}\")\n",
    "\n",
    "pairs"
   ]
  },
  {
   "cell_type": "code",
   "execution_count": 9,
   "metadata": {
    "ExecuteTime": {
     "end_time": "2020-08-06T10:26:09.897769Z",
     "start_time": "2020-08-06T10:26:09.895086Z"
    }
   },
   "outputs": [],
   "source": [
    "with open(\"dataset-variables.csv\", \"w\") as f:\n",
    "    f.write(\"\\n\".join(pairs))"
   ]
  },
  {
   "cell_type": "code",
   "execution_count": 10,
   "metadata": {
    "ExecuteTime": {
     "end_time": "2020-08-06T10:26:10.351118Z",
     "start_time": "2020-08-06T10:26:10.339092Z"
    }
   },
   "outputs": [
    {
     "data": {
      "text/html": [
       "<div>\n",
       "<style scoped>\n",
       "    .dataframe tbody tr th:only-of-type {\n",
       "        vertical-align: middle;\n",
       "    }\n",
       "\n",
       "    .dataframe tbody tr th {\n",
       "        vertical-align: top;\n",
       "    }\n",
       "\n",
       "    .dataframe thead th {\n",
       "        text-align: right;\n",
       "    }\n",
       "</style>\n",
       "<table border=\"1\" class=\"dataframe\">\n",
       "  <thead>\n",
       "    <tr style=\"text-align: right;\">\n",
       "      <th></th>\n",
       "      <th>shortname</th>\n",
       "      <th>testnc</th>\n",
       "    </tr>\n",
       "  </thead>\n",
       "  <tbody>\n",
       "    <tr>\n",
       "      <th>0</th>\n",
       "      <td>ECCO_L4_FRESH_FLUX_05DEG_DAILY_V4R4</td>\n",
       "      <td>latlon_dataset_demo_files_20200730/OCEAN_SURFA...</td>\n",
       "    </tr>\n",
       "    <tr>\n",
       "      <th>1</th>\n",
       "      <td>ECCO_L4_FRESH_FLUX_05DEG_MONTHLY_V4R4</td>\n",
       "      <td>latlon_dataset_demo_files_20200730/OCEAN_SURFA...</td>\n",
       "    </tr>\n",
       "    <tr>\n",
       "      <th>2</th>\n",
       "      <td>ECCO_L4_HEAT_FLUX_05DEG_DAILY_V4R4</td>\n",
       "      <td>latlon_dataset_demo_files_20200730/SURFACE_HEA...</td>\n",
       "    </tr>\n",
       "    <tr>\n",
       "      <th>3</th>\n",
       "      <td>ECCO_L4_HEAT_FLUX_05DEG_MONTHLY_V4R4</td>\n",
       "      <td>latlon_dataset_demo_files_20200730/SURFACE_HEA...</td>\n",
       "    </tr>\n",
       "    <tr>\n",
       "      <th>4</th>\n",
       "      <td>ECCO_L4_SURFACE_STRESS_05DEG_DAILY_V4R4</td>\n",
       "      <td>latlon_dataset_demo_files_20200730/OCEAN_SURFA...</td>\n",
       "    </tr>\n",
       "    <tr>\n",
       "      <th>5</th>\n",
       "      <td>ECCO_L4_SURFACE_STRESS_05DEG_MONTHLY_V4R4</td>\n",
       "      <td>latlon_dataset_demo_files_20200730/OCEAN_SURFA...</td>\n",
       "    </tr>\n",
       "    <tr>\n",
       "      <th>6</th>\n",
       "      <td>ECCO_L4_ATM_PROPERTIES_05DEG_DAILY_V4R4</td>\n",
       "      <td>latlon_dataset_demo_files_20200730/ATM_SURFACE...</td>\n",
       "    </tr>\n",
       "    <tr>\n",
       "      <th>7</th>\n",
       "      <td>ECCO_L4_ATM_PROPERTIES_05DEG_MONTHLY_V4R4</td>\n",
       "      <td>latlon_dataset_demo_files_20200730/ATM_SURFACE...</td>\n",
       "    </tr>\n",
       "    <tr>\n",
       "      <th>8</th>\n",
       "      <td>ECCO_L4_BOLUS_05DEG_DAILY_V4R4</td>\n",
       "      <td>latlon_dataset_demo_files_20200730/GM_OCEAN_BO...</td>\n",
       "    </tr>\n",
       "    <tr>\n",
       "      <th>9</th>\n",
       "      <td>ECCO_L4_BOLUS_05DEG_MONTHLY_V4R4</td>\n",
       "      <td>latlon_dataset_demo_files_20200730/GM_OCEAN_BO...</td>\n",
       "    </tr>\n",
       "    <tr>\n",
       "      <th>10</th>\n",
       "      <td>ECCO_L4_DENSE_05DEG_DAILY_V4R4</td>\n",
       "      <td>latlon_dataset_demo_files_20200730/OCEAN_PRES_...</td>\n",
       "    </tr>\n",
       "    <tr>\n",
       "      <th>11</th>\n",
       "      <td>ECCO_L4_DENSE_05DEG_MONTHLY_V4R4</td>\n",
       "      <td>latlon_dataset_demo_files_20200730/OCEAN_PRES_...</td>\n",
       "    </tr>\n",
       "    <tr>\n",
       "      <th>12</th>\n",
       "      <td>ECCO_L4_MIXED_LAYER_DEPTH_05DEG_DAILY_V4R4</td>\n",
       "      <td>latlon_dataset_demo_files_20200730/MIXED_LAYER...</td>\n",
       "    </tr>\n",
       "    <tr>\n",
       "      <th>13</th>\n",
       "      <td>ECCO_L4_MIXED_LAYER_DEPTH_05DEG_MONTHLY_V4R4</td>\n",
       "      <td>latlon_dataset_demo_files_20200730/MIXED_LAYER...</td>\n",
       "    </tr>\n",
       "    <tr>\n",
       "      <th>14</th>\n",
       "      <td>ECCO_L4_OCEAN_TEMP_SALINITY_05DEG_DAILY_V4R4</td>\n",
       "      <td>latlon_dataset_demo_files_20200730/OCEAN_TEMPE...</td>\n",
       "    </tr>\n",
       "    <tr>\n",
       "      <th>15</th>\n",
       "      <td>ECCO_L4_OCEAN_TEMP_SALINITY_05DEG_MONTHLY_V4R4</td>\n",
       "      <td>latlon_dataset_demo_files_20200730/OCEAN_TEMPE...</td>\n",
       "    </tr>\n",
       "    <tr>\n",
       "      <th>16</th>\n",
       "      <td>ECCO_L4_OCEAN_VEL_05DEG_DAILY_V4R4</td>\n",
       "      <td>latlon_dataset_demo_files_20200730/OCEAN_VELOC...</td>\n",
       "    </tr>\n",
       "    <tr>\n",
       "      <th>17</th>\n",
       "      <td>ECCO_L4_OCEAN_VEL_05DEG_MONTHLY_V4R4</td>\n",
       "      <td>latlon_dataset_demo_files_20200730/OCEAN_VELOC...</td>\n",
       "    </tr>\n",
       "    <tr>\n",
       "      <th>18</th>\n",
       "      <td>ECCO_L4_SEA_ICE_CONCENTRATION_05DEG_DAILY_V4R4</td>\n",
       "      <td>latlon_dataset_demo_files_20200730/SEA_ICE_AND...</td>\n",
       "    </tr>\n",
       "    <tr>\n",
       "      <th>19</th>\n",
       "      <td>ECCO_L4_SEA_ICE_CONCENTRATION_05DEG_MONTHLY_V4R4</td>\n",
       "      <td>latlon_dataset_demo_files_20200730/SEA_ICE_AND...</td>\n",
       "    </tr>\n",
       "  </tbody>\n",
       "</table>\n",
       "</div>"
      ],
      "text/plain": [
       "                                           shortname  \\\n",
       "0                ECCO_L4_FRESH_FLUX_05DEG_DAILY_V4R4   \n",
       "1              ECCO_L4_FRESH_FLUX_05DEG_MONTHLY_V4R4   \n",
       "2                 ECCO_L4_HEAT_FLUX_05DEG_DAILY_V4R4   \n",
       "3               ECCO_L4_HEAT_FLUX_05DEG_MONTHLY_V4R4   \n",
       "4            ECCO_L4_SURFACE_STRESS_05DEG_DAILY_V4R4   \n",
       "5          ECCO_L4_SURFACE_STRESS_05DEG_MONTHLY_V4R4   \n",
       "6            ECCO_L4_ATM_PROPERTIES_05DEG_DAILY_V4R4   \n",
       "7          ECCO_L4_ATM_PROPERTIES_05DEG_MONTHLY_V4R4   \n",
       "8                     ECCO_L4_BOLUS_05DEG_DAILY_V4R4   \n",
       "9                   ECCO_L4_BOLUS_05DEG_MONTHLY_V4R4   \n",
       "10                    ECCO_L4_DENSE_05DEG_DAILY_V4R4   \n",
       "11                  ECCO_L4_DENSE_05DEG_MONTHLY_V4R4   \n",
       "12        ECCO_L4_MIXED_LAYER_DEPTH_05DEG_DAILY_V4R4   \n",
       "13      ECCO_L4_MIXED_LAYER_DEPTH_05DEG_MONTHLY_V4R4   \n",
       "14      ECCO_L4_OCEAN_TEMP_SALINITY_05DEG_DAILY_V4R4   \n",
       "15    ECCO_L4_OCEAN_TEMP_SALINITY_05DEG_MONTHLY_V4R4   \n",
       "16                ECCO_L4_OCEAN_VEL_05DEG_DAILY_V4R4   \n",
       "17              ECCO_L4_OCEAN_VEL_05DEG_MONTHLY_V4R4   \n",
       "18    ECCO_L4_SEA_ICE_CONCENTRATION_05DEG_DAILY_V4R4   \n",
       "19  ECCO_L4_SEA_ICE_CONCENTRATION_05DEG_MONTHLY_V4R4   \n",
       "\n",
       "                                               testnc  \n",
       "0   latlon_dataset_demo_files_20200730/OCEAN_SURFA...  \n",
       "1   latlon_dataset_demo_files_20200730/OCEAN_SURFA...  \n",
       "2   latlon_dataset_demo_files_20200730/SURFACE_HEA...  \n",
       "3   latlon_dataset_demo_files_20200730/SURFACE_HEA...  \n",
       "4   latlon_dataset_demo_files_20200730/OCEAN_SURFA...  \n",
       "5   latlon_dataset_demo_files_20200730/OCEAN_SURFA...  \n",
       "6   latlon_dataset_demo_files_20200730/ATM_SURFACE...  \n",
       "7   latlon_dataset_demo_files_20200730/ATM_SURFACE...  \n",
       "8   latlon_dataset_demo_files_20200730/GM_OCEAN_BO...  \n",
       "9   latlon_dataset_demo_files_20200730/GM_OCEAN_BO...  \n",
       "10  latlon_dataset_demo_files_20200730/OCEAN_PRES_...  \n",
       "11  latlon_dataset_demo_files_20200730/OCEAN_PRES_...  \n",
       "12  latlon_dataset_demo_files_20200730/MIXED_LAYER...  \n",
       "13  latlon_dataset_demo_files_20200730/MIXED_LAYER...  \n",
       "14  latlon_dataset_demo_files_20200730/OCEAN_TEMPE...  \n",
       "15  latlon_dataset_demo_files_20200730/OCEAN_TEMPE...  \n",
       "16  latlon_dataset_demo_files_20200730/OCEAN_VELOC...  \n",
       "17  latlon_dataset_demo_files_20200730/OCEAN_VELOC...  \n",
       "18  latlon_dataset_demo_files_20200730/SEA_ICE_AND...  \n",
       "19  latlon_dataset_demo_files_20200730/SEA_ICE_AND...  "
      ]
     },
     "execution_count": 10,
     "metadata": {},
     "output_type": "execute_result"
    }
   ],
   "source": [
    "from pandas import read_csv, DataFrame\n",
    "dsvars = read_csv(\"dataset-variables.csv\", index_col=False, names=['shortname', 'testnc'])\n",
    "dsvars"
   ]
  },
  {
   "cell_type": "code",
   "execution_count": 11,
   "metadata": {
    "ExecuteTime": {
     "end_time": "2020-08-06T10:26:34.865709Z",
     "start_time": "2020-08-06T10:26:11.006029Z"
    }
   },
   "outputs": [
    {
     "name": "stdout",
     "output_type": "stream",
     "text": [
      "latlon_dataset_demo_files_20200730/OCEAN_SURFACE_FRESHWATER_FLUXES_day_mean_1992-01-01_ECCO_V4r4_latlon_0p50deg.nc\n",
      "latlon_dataset_demo_files_20200730/OCEAN_SURFACE_FRESHWATER_FLUXES_mon_mean_1992-01_ECCO_V4r4_latlon_0p50deg.nc\n",
      "latlon_dataset_demo_files_20200730/SURFACE_HEAT_FLUXES_day_mean_1992-01-01_ECCO_V4r4_latlon_0p50deg.nc\n",
      "latlon_dataset_demo_files_20200730/SURFACE_HEAT_FLUXES_mon_mean_1992-01_ECCO_V4r4_latlon_0p50deg.nc\n",
      "latlon_dataset_demo_files_20200730/OCEAN_SURFACE_STRESS_day_mean_1992-01-01_ECCO_V4r4_latlon_0p50deg.nc\n",
      "latlon_dataset_demo_files_20200730/OCEAN_SURFACE_STRESS_mon_mean_1992-01_ECCO_V4r4_latlon_0p50deg.nc\n",
      "latlon_dataset_demo_files_20200730/ATM_SURFACE_TEMP_HUM_WIND_PRES_day_mean_1992-01-01_ECCO_V4r4_latlon_0p50deg.nc\n",
      "latlon_dataset_demo_files_20200730/ATM_SURFACE_TEMP_HUM_WIND_PRES_mon_mean_1992-01_ECCO_V4r4_latlon_0p50deg.nc\n",
      "latlon_dataset_demo_files_20200730/GM_OCEAN_BOLUS_VELOCITY_day_mean_1992-01-01_ECCO_V4r4_latlon_0p50deg.nc\n",
      "latlon_dataset_demo_files_20200730/GM_OCEAN_BOLUS_VELOCITY_mon_mean_1992-01_ECCO_V4r4_latlon_0p50deg.nc\n",
      "latlon_dataset_demo_files_20200730/OCEAN_PRES_DENS_STRAT_day_mean_1992-01-01_ECCO_V4r4_latlon_0p50deg.nc\n",
      "latlon_dataset_demo_files_20200730/OCEAN_PRES_DENS_STRAT_mon_mean_1992-01_ECCO_V4r4_latlon_0p50deg.nc\n",
      "latlon_dataset_demo_files_20200730/MIXED_LAYER_DEPTH_day_mean_1992-01-01_ECCO_V4r4_latlon_0p50deg.nc\n",
      "latlon_dataset_demo_files_20200730/MIXED_LAYER_DEPTH_mon_mean_1992-01_ECCO_V4r4_latlon_0p50deg.nc\n",
      "latlon_dataset_demo_files_20200730/OCEAN_TEMPERATURE_AND_SALT_day_mean_1992-01-01_ECCO_V4r4_latlon_0p50deg.nc\n",
      "latlon_dataset_demo_files_20200730/OCEAN_TEMPERATURE_AND_SALT_mon_mean_1992-01_ECCO_V4r4_latlon_0p50deg.nc\n",
      "latlon_dataset_demo_files_20200730/OCEAN_VELOCITY_day_mean_1992-01-01_ECCO_V4r4_latlon_0p50deg.nc\n",
      "latlon_dataset_demo_files_20200730/OCEAN_VELOCITY_mon_mean_1992-01_ECCO_V4r4_latlon_0p50deg.nc\n",
      "latlon_dataset_demo_files_20200730/SEA_ICE_AND_SNOW_day_mean_1992-01-01_ECCO_V4r4_latlon_0p50deg.nc\n",
      "latlon_dataset_demo_files_20200730/SEA_ICE_AND_SNOW_mon_mean_1992-01_ECCO_V4r4_latlon_0p50deg.nc\n"
     ]
    },
    {
     "data": {
      "text/html": [
       "<div>\n",
       "<style scoped>\n",
       "    .dataframe tbody tr th:only-of-type {\n",
       "        vertical-align: middle;\n",
       "    }\n",
       "\n",
       "    .dataframe tbody tr th {\n",
       "        vertical-align: top;\n",
       "    }\n",
       "\n",
       "    .dataframe thead th {\n",
       "        text-align: right;\n",
       "    }\n",
       "</style>\n",
       "<table border=\"1\" class=\"dataframe\">\n",
       "  <thead>\n",
       "    <tr style=\"text-align: right;\">\n",
       "      <th></th>\n",
       "      <th>shortname</th>\n",
       "      <th>testnc</th>\n",
       "      <th>ummvar</th>\n",
       "    </tr>\n",
       "  </thead>\n",
       "  <tbody>\n",
       "    <tr>\n",
       "      <th>0</th>\n",
       "      <td>ECCO_L4_FRESH_FLUX_05DEG_DAILY_V4R4</td>\n",
       "      <td>latlon_dataset_demo_files_20200730/OCEAN_SURFA...</td>\n",
       "      <td>[{\"Name\": \"time\",\"LongName\": \"center time of a...</td>\n",
       "    </tr>\n",
       "    <tr>\n",
       "      <th>1</th>\n",
       "      <td>ECCO_L4_FRESH_FLUX_05DEG_MONTHLY_V4R4</td>\n",
       "      <td>latlon_dataset_demo_files_20200730/OCEAN_SURFA...</td>\n",
       "      <td>[{\"Name\": \"time\",\"LongName\": \"center time of a...</td>\n",
       "    </tr>\n",
       "    <tr>\n",
       "      <th>2</th>\n",
       "      <td>ECCO_L4_HEAT_FLUX_05DEG_DAILY_V4R4</td>\n",
       "      <td>latlon_dataset_demo_files_20200730/SURFACE_HEA...</td>\n",
       "      <td>[{\"Name\": \"time\",\"LongName\": \"center time of a...</td>\n",
       "    </tr>\n",
       "    <tr>\n",
       "      <th>3</th>\n",
       "      <td>ECCO_L4_HEAT_FLUX_05DEG_MONTHLY_V4R4</td>\n",
       "      <td>latlon_dataset_demo_files_20200730/SURFACE_HEA...</td>\n",
       "      <td>[{\"Name\": \"time\",\"LongName\": \"center time of a...</td>\n",
       "    </tr>\n",
       "    <tr>\n",
       "      <th>4</th>\n",
       "      <td>ECCO_L4_SURFACE_STRESS_05DEG_DAILY_V4R4</td>\n",
       "      <td>latlon_dataset_demo_files_20200730/OCEAN_SURFA...</td>\n",
       "      <td>[{\"Name\": \"time\",\"LongName\": \"center time of a...</td>\n",
       "    </tr>\n",
       "    <tr>\n",
       "      <th>5</th>\n",
       "      <td>ECCO_L4_SURFACE_STRESS_05DEG_MONTHLY_V4R4</td>\n",
       "      <td>latlon_dataset_demo_files_20200730/OCEAN_SURFA...</td>\n",
       "      <td>[{\"Name\": \"time\",\"LongName\": \"center time of a...</td>\n",
       "    </tr>\n",
       "    <tr>\n",
       "      <th>6</th>\n",
       "      <td>ECCO_L4_ATM_PROPERTIES_05DEG_DAILY_V4R4</td>\n",
       "      <td>latlon_dataset_demo_files_20200730/ATM_SURFACE...</td>\n",
       "      <td>[{\"Name\": \"time\",\"LongName\": \"center time of a...</td>\n",
       "    </tr>\n",
       "    <tr>\n",
       "      <th>7</th>\n",
       "      <td>ECCO_L4_ATM_PROPERTIES_05DEG_MONTHLY_V4R4</td>\n",
       "      <td>latlon_dataset_demo_files_20200730/ATM_SURFACE...</td>\n",
       "      <td>[{\"Name\": \"time\",\"LongName\": \"center time of a...</td>\n",
       "    </tr>\n",
       "    <tr>\n",
       "      <th>8</th>\n",
       "      <td>ECCO_L4_BOLUS_05DEG_DAILY_V4R4</td>\n",
       "      <td>latlon_dataset_demo_files_20200730/GM_OCEAN_BO...</td>\n",
       "      <td>[{\"Name\": \"time\",\"LongName\": \"center time of a...</td>\n",
       "    </tr>\n",
       "    <tr>\n",
       "      <th>9</th>\n",
       "      <td>ECCO_L4_BOLUS_05DEG_MONTHLY_V4R4</td>\n",
       "      <td>latlon_dataset_demo_files_20200730/GM_OCEAN_BO...</td>\n",
       "      <td>[{\"Name\": \"time\",\"LongName\": \"center time of a...</td>\n",
       "    </tr>\n",
       "    <tr>\n",
       "      <th>10</th>\n",
       "      <td>ECCO_L4_DENSE_05DEG_DAILY_V4R4</td>\n",
       "      <td>latlon_dataset_demo_files_20200730/OCEAN_PRES_...</td>\n",
       "      <td>[{\"Name\": \"time\",\"LongName\": \"center time of a...</td>\n",
       "    </tr>\n",
       "    <tr>\n",
       "      <th>11</th>\n",
       "      <td>ECCO_L4_DENSE_05DEG_MONTHLY_V4R4</td>\n",
       "      <td>latlon_dataset_demo_files_20200730/OCEAN_PRES_...</td>\n",
       "      <td>[{\"Name\": \"time\",\"LongName\": \"center time of a...</td>\n",
       "    </tr>\n",
       "    <tr>\n",
       "      <th>12</th>\n",
       "      <td>ECCO_L4_MIXED_LAYER_DEPTH_05DEG_DAILY_V4R4</td>\n",
       "      <td>latlon_dataset_demo_files_20200730/MIXED_LAYER...</td>\n",
       "      <td>[{\"Name\": \"time\",\"LongName\": \"center time of a...</td>\n",
       "    </tr>\n",
       "    <tr>\n",
       "      <th>13</th>\n",
       "      <td>ECCO_L4_MIXED_LAYER_DEPTH_05DEG_MONTHLY_V4R4</td>\n",
       "      <td>latlon_dataset_demo_files_20200730/MIXED_LAYER...</td>\n",
       "      <td>[{\"Name\": \"time\",\"LongName\": \"center time of a...</td>\n",
       "    </tr>\n",
       "    <tr>\n",
       "      <th>14</th>\n",
       "      <td>ECCO_L4_OCEAN_TEMP_SALINITY_05DEG_DAILY_V4R4</td>\n",
       "      <td>latlon_dataset_demo_files_20200730/OCEAN_TEMPE...</td>\n",
       "      <td>[{\"Name\": \"time\",\"LongName\": \"center time of a...</td>\n",
       "    </tr>\n",
       "    <tr>\n",
       "      <th>15</th>\n",
       "      <td>ECCO_L4_OCEAN_TEMP_SALINITY_05DEG_MONTHLY_V4R4</td>\n",
       "      <td>latlon_dataset_demo_files_20200730/OCEAN_TEMPE...</td>\n",
       "      <td>[{\"Name\": \"time\",\"LongName\": \"center time of a...</td>\n",
       "    </tr>\n",
       "    <tr>\n",
       "      <th>16</th>\n",
       "      <td>ECCO_L4_OCEAN_VEL_05DEG_DAILY_V4R4</td>\n",
       "      <td>latlon_dataset_demo_files_20200730/OCEAN_VELOC...</td>\n",
       "      <td>[{\"Name\": \"time\",\"LongName\": \"center time of a...</td>\n",
       "    </tr>\n",
       "    <tr>\n",
       "      <th>17</th>\n",
       "      <td>ECCO_L4_OCEAN_VEL_05DEG_MONTHLY_V4R4</td>\n",
       "      <td>latlon_dataset_demo_files_20200730/OCEAN_VELOC...</td>\n",
       "      <td>[{\"Name\": \"time\",\"LongName\": \"center time of a...</td>\n",
       "    </tr>\n",
       "    <tr>\n",
       "      <th>18</th>\n",
       "      <td>ECCO_L4_SEA_ICE_CONCENTRATION_05DEG_DAILY_V4R4</td>\n",
       "      <td>latlon_dataset_demo_files_20200730/SEA_ICE_AND...</td>\n",
       "      <td>[{\"Name\": \"time\",\"LongName\": \"center time of a...</td>\n",
       "    </tr>\n",
       "    <tr>\n",
       "      <th>19</th>\n",
       "      <td>ECCO_L4_SEA_ICE_CONCENTRATION_05DEG_MONTHLY_V4R4</td>\n",
       "      <td>latlon_dataset_demo_files_20200730/SEA_ICE_AND...</td>\n",
       "      <td>[{\"Name\": \"time\",\"LongName\": \"center time of a...</td>\n",
       "    </tr>\n",
       "  </tbody>\n",
       "</table>\n",
       "</div>"
      ],
      "text/plain": [
       "                                           shortname  \\\n",
       "0                ECCO_L4_FRESH_FLUX_05DEG_DAILY_V4R4   \n",
       "1              ECCO_L4_FRESH_FLUX_05DEG_MONTHLY_V4R4   \n",
       "2                 ECCO_L4_HEAT_FLUX_05DEG_DAILY_V4R4   \n",
       "3               ECCO_L4_HEAT_FLUX_05DEG_MONTHLY_V4R4   \n",
       "4            ECCO_L4_SURFACE_STRESS_05DEG_DAILY_V4R4   \n",
       "5          ECCO_L4_SURFACE_STRESS_05DEG_MONTHLY_V4R4   \n",
       "6            ECCO_L4_ATM_PROPERTIES_05DEG_DAILY_V4R4   \n",
       "7          ECCO_L4_ATM_PROPERTIES_05DEG_MONTHLY_V4R4   \n",
       "8                     ECCO_L4_BOLUS_05DEG_DAILY_V4R4   \n",
       "9                   ECCO_L4_BOLUS_05DEG_MONTHLY_V4R4   \n",
       "10                    ECCO_L4_DENSE_05DEG_DAILY_V4R4   \n",
       "11                  ECCO_L4_DENSE_05DEG_MONTHLY_V4R4   \n",
       "12        ECCO_L4_MIXED_LAYER_DEPTH_05DEG_DAILY_V4R4   \n",
       "13      ECCO_L4_MIXED_LAYER_DEPTH_05DEG_MONTHLY_V4R4   \n",
       "14      ECCO_L4_OCEAN_TEMP_SALINITY_05DEG_DAILY_V4R4   \n",
       "15    ECCO_L4_OCEAN_TEMP_SALINITY_05DEG_MONTHLY_V4R4   \n",
       "16                ECCO_L4_OCEAN_VEL_05DEG_DAILY_V4R4   \n",
       "17              ECCO_L4_OCEAN_VEL_05DEG_MONTHLY_V4R4   \n",
       "18    ECCO_L4_SEA_ICE_CONCENTRATION_05DEG_DAILY_V4R4   \n",
       "19  ECCO_L4_SEA_ICE_CONCENTRATION_05DEG_MONTHLY_V4R4   \n",
       "\n",
       "                                               testnc  \\\n",
       "0   latlon_dataset_demo_files_20200730/OCEAN_SURFA...   \n",
       "1   latlon_dataset_demo_files_20200730/OCEAN_SURFA...   \n",
       "2   latlon_dataset_demo_files_20200730/SURFACE_HEA...   \n",
       "3   latlon_dataset_demo_files_20200730/SURFACE_HEA...   \n",
       "4   latlon_dataset_demo_files_20200730/OCEAN_SURFA...   \n",
       "5   latlon_dataset_demo_files_20200730/OCEAN_SURFA...   \n",
       "6   latlon_dataset_demo_files_20200730/ATM_SURFACE...   \n",
       "7   latlon_dataset_demo_files_20200730/ATM_SURFACE...   \n",
       "8   latlon_dataset_demo_files_20200730/GM_OCEAN_BO...   \n",
       "9   latlon_dataset_demo_files_20200730/GM_OCEAN_BO...   \n",
       "10  latlon_dataset_demo_files_20200730/OCEAN_PRES_...   \n",
       "11  latlon_dataset_demo_files_20200730/OCEAN_PRES_...   \n",
       "12  latlon_dataset_demo_files_20200730/MIXED_LAYER...   \n",
       "13  latlon_dataset_demo_files_20200730/MIXED_LAYER...   \n",
       "14  latlon_dataset_demo_files_20200730/OCEAN_TEMPE...   \n",
       "15  latlon_dataset_demo_files_20200730/OCEAN_TEMPE...   \n",
       "16  latlon_dataset_demo_files_20200730/OCEAN_VELOC...   \n",
       "17  latlon_dataset_demo_files_20200730/OCEAN_VELOC...   \n",
       "18  latlon_dataset_demo_files_20200730/SEA_ICE_AND...   \n",
       "19  latlon_dataset_demo_files_20200730/SEA_ICE_AND...   \n",
       "\n",
       "                                               ummvar  \n",
       "0   [{\"Name\": \"time\",\"LongName\": \"center time of a...  \n",
       "1   [{\"Name\": \"time\",\"LongName\": \"center time of a...  \n",
       "2   [{\"Name\": \"time\",\"LongName\": \"center time of a...  \n",
       "3   [{\"Name\": \"time\",\"LongName\": \"center time of a...  \n",
       "4   [{\"Name\": \"time\",\"LongName\": \"center time of a...  \n",
       "5   [{\"Name\": \"time\",\"LongName\": \"center time of a...  \n",
       "6   [{\"Name\": \"time\",\"LongName\": \"center time of a...  \n",
       "7   [{\"Name\": \"time\",\"LongName\": \"center time of a...  \n",
       "8   [{\"Name\": \"time\",\"LongName\": \"center time of a...  \n",
       "9   [{\"Name\": \"time\",\"LongName\": \"center time of a...  \n",
       "10  [{\"Name\": \"time\",\"LongName\": \"center time of a...  \n",
       "11  [{\"Name\": \"time\",\"LongName\": \"center time of a...  \n",
       "12  [{\"Name\": \"time\",\"LongName\": \"center time of a...  \n",
       "13  [{\"Name\": \"time\",\"LongName\": \"center time of a...  \n",
       "14  [{\"Name\": \"time\",\"LongName\": \"center time of a...  \n",
       "15  [{\"Name\": \"time\",\"LongName\": \"center time of a...  \n",
       "16  [{\"Name\": \"time\",\"LongName\": \"center time of a...  \n",
       "17  [{\"Name\": \"time\",\"LongName\": \"center time of a...  \n",
       "18  [{\"Name\": \"time\",\"LongName\": \"center time of a...  \n",
       "19  [{\"Name\": \"time\",\"LongName\": \"center time of a...  "
      ]
     },
     "execution_count": 11,
     "metadata": {},
     "output_type": "execute_result"
    }
   ],
   "source": [
    "def ummvar(f):\n",
    "    print(f)\n",
    "    ummvar_lines = !./umm/umm.py umm/umm-var-json-schema.json $f\n",
    "    ummvar_mdata = \"\".join([l.strip() for l in ummvar_lines])\n",
    "    return ummvar_mdata\n",
    "\n",
    "dsvars['ummvar'] = dsvars.testnc.apply(ummvar)\n",
    "dsvars"
   ]
  },
  {
   "cell_type": "code",
   "execution_count": 12,
   "metadata": {
    "ExecuteTime": {
     "end_time": "2020-08-06T10:26:34.918658Z",
     "start_time": "2020-08-06T10:26:34.867640Z"
    }
   },
   "outputs": [
    {
     "data": {
      "text/html": [
       "<div>\n",
       "<style scoped>\n",
       "    .dataframe tbody tr th:only-of-type {\n",
       "        vertical-align: middle;\n",
       "    }\n",
       "\n",
       "    .dataframe tbody tr th {\n",
       "        vertical-align: top;\n",
       "    }\n",
       "\n",
       "    .dataframe thead th {\n",
       "        text-align: right;\n",
       "    }\n",
       "</style>\n",
       "<table border=\"1\" class=\"dataframe\">\n",
       "  <thead>\n",
       "    <tr style=\"text-align: right;\">\n",
       "      <th></th>\n",
       "      <th>shortname</th>\n",
       "      <th>testnc</th>\n",
       "      <th>ummvar</th>\n",
       "      <th>concept-id</th>\n",
       "    </tr>\n",
       "  </thead>\n",
       "  <tbody>\n",
       "    <tr>\n",
       "      <th>0</th>\n",
       "      <td>ECCO_L4_FRESH_FLUX_05DEG_DAILY_V4R4</td>\n",
       "      <td>latlon_dataset_demo_files_20200730/OCEAN_SURFA...</td>\n",
       "      <td>[{\"Name\": \"time\",\"LongName\": \"center time of a...</td>\n",
       "      <td>C1236799831-POCLOUD</td>\n",
       "    </tr>\n",
       "    <tr>\n",
       "      <th>1</th>\n",
       "      <td>ECCO_L4_FRESH_FLUX_05DEG_MONTHLY_V4R4</td>\n",
       "      <td>latlon_dataset_demo_files_20200730/OCEAN_SURFA...</td>\n",
       "      <td>[{\"Name\": \"time\",\"LongName\": \"center time of a...</td>\n",
       "      <td>C1236807469-POCLOUD</td>\n",
       "    </tr>\n",
       "    <tr>\n",
       "      <th>2</th>\n",
       "      <td>ECCO_L4_HEAT_FLUX_05DEG_DAILY_V4R4</td>\n",
       "      <td>latlon_dataset_demo_files_20200730/SURFACE_HEA...</td>\n",
       "      <td>[{\"Name\": \"time\",\"LongName\": \"center time of a...</td>\n",
       "      <td>C1236807473-POCLOUD</td>\n",
       "    </tr>\n",
       "    <tr>\n",
       "      <th>3</th>\n",
       "      <td>ECCO_L4_HEAT_FLUX_05DEG_MONTHLY_V4R4</td>\n",
       "      <td>latlon_dataset_demo_files_20200730/SURFACE_HEA...</td>\n",
       "      <td>[{\"Name\": \"time\",\"LongName\": \"center time of a...</td>\n",
       "      <td>C1236807474-POCLOUD</td>\n",
       "    </tr>\n",
       "    <tr>\n",
       "      <th>4</th>\n",
       "      <td>ECCO_L4_SURFACE_STRESS_05DEG_DAILY_V4R4</td>\n",
       "      <td>latlon_dataset_demo_files_20200730/OCEAN_SURFA...</td>\n",
       "      <td>[{\"Name\": \"time\",\"LongName\": \"center time of a...</td>\n",
       "      <td>C1236807478-POCLOUD</td>\n",
       "    </tr>\n",
       "  </tbody>\n",
       "</table>\n",
       "</div>"
      ],
      "text/plain": [
       "                                 shortname  \\\n",
       "0      ECCO_L4_FRESH_FLUX_05DEG_DAILY_V4R4   \n",
       "1    ECCO_L4_FRESH_FLUX_05DEG_MONTHLY_V4R4   \n",
       "2       ECCO_L4_HEAT_FLUX_05DEG_DAILY_V4R4   \n",
       "3     ECCO_L4_HEAT_FLUX_05DEG_MONTHLY_V4R4   \n",
       "4  ECCO_L4_SURFACE_STRESS_05DEG_DAILY_V4R4   \n",
       "\n",
       "                                              testnc  \\\n",
       "0  latlon_dataset_demo_files_20200730/OCEAN_SURFA...   \n",
       "1  latlon_dataset_demo_files_20200730/OCEAN_SURFA...   \n",
       "2  latlon_dataset_demo_files_20200730/SURFACE_HEA...   \n",
       "3  latlon_dataset_demo_files_20200730/SURFACE_HEA...   \n",
       "4  latlon_dataset_demo_files_20200730/OCEAN_SURFA...   \n",
       "\n",
       "                                              ummvar           concept-id  \n",
       "0  [{\"Name\": \"time\",\"LongName\": \"center time of a...  C1236799831-POCLOUD  \n",
       "1  [{\"Name\": \"time\",\"LongName\": \"center time of a...  C1236807469-POCLOUD  \n",
       "2  [{\"Name\": \"time\",\"LongName\": \"center time of a...  C1236807473-POCLOUD  \n",
       "3  [{\"Name\": \"time\",\"LongName\": \"center time of a...  C1236807474-POCLOUD  \n",
       "4  [{\"Name\": \"time\",\"LongName\": \"center time of a...  C1236807478-POCLOUD  "
      ]
     },
     "execution_count": 12,
     "metadata": {},
     "output_type": "execute_result"
    }
   ],
   "source": [
    "def _pair_ccid(x):\n",
    "    for ix, row in dstab.iterrows():\n",
    "        if x == row['DATASET.SHORT_NAME']:\n",
    "            return row['concept-id']\n",
    "\n",
    "dsvars['concept-id'] = dsvars.shortname.apply(_pair_ccid)\n",
    "dsvars.head()"
   ]
  },
  {
   "cell_type": "code",
   "execution_count": 13,
   "metadata": {
    "ExecuteTime": {
     "end_time": "2020-08-06T10:37:12.244480Z",
     "start_time": "2020-08-06T10:37:12.228829Z"
    }
   },
   "outputs": [],
   "source": [
    "dsvars['nc'] = dsvars['testnc'].copy()\n",
    "dsvars['ShortName'] = dsvars['shortname'].copy()\n",
    "dsvars[[\n",
    "    'concept-id',\n",
    "    'ShortName',\n",
    "    'nc',\n",
    "    'ummvar',\n",
    "]].to_csv(\"../metadata/variables.csv\", index=False)"
   ]
  },
  {
   "cell_type": "code",
   "execution_count": 14,
   "metadata": {
    "ExecuteTime": {
     "end_time": "2020-08-06T10:37:13.522673Z",
     "start_time": "2020-08-06T10:37:13.518640Z"
    }
   },
   "outputs": [
    {
     "data": {
      "text/plain": [
       "'[{\"Name\": \"time\",\"LongName\": \"center time of averaging period or time of snapshot\",\"Definition\": \"center time of averaging period or time of snapshot\",\"Units\": \"days since 1992-01-01 12:00:00\",\"DataType\": \"int32\",\"Dimensions\": [{\"Name\": \"time\",\"Size\": 1,\"Type\": \"TIME_DIMENSION\"}],\"ValidRanges\": [{\"Min\": -2147483648,\"Max\": 2147483647}],\"Scale\": 1.0,\"Offset\": 0.0,\"VariableType\": \"OTHER\",\"Characteristics\": {\"GroupPath\": \"/time\",\"IndexRanges\": {\"LatRange\": [-90.0,90.0],\"LonRange\": [-180.0,180.0]}},\"Sets\": [{\"Name\": \"time\",\"Type\": \"General\",\"Size\": 1,\"Index\": 1}]},{\"Name\": \"latitude\",\"LongName\": \"latitude\",\"Definition\": \"latitude\",\"Units\": \"degrees_north\",\"DataType\": \"float32\",\"Dimensions\": [{\"Name\": \"latitude\",\"Size\": 360,\"Type\": \"LATITUDE_DIMENSION\"}],\"ValidRanges\": [{\"Min\": -3.4028234663852886e+38,\"Max\": 3.4028234663852886e+38}],\"Scale\": 1.0,\"Offset\": 0.0,\"VariableType\": \"OTHER\",\"Characteristics\": {\"GroupPath\": \"/latitude\",\"IndexRanges\": {\"LatRange\": [-90.0,90.0],\"LonRange\": [-180.0,180.0]}},\"Sets\": [{\"Name\": \"latitude\",\"Type\": \"General\",\"Size\": 1,\"Index\": 1}]},{\"Name\": \"longitude\",\"LongName\": \"longitude\",\"Definition\": \"longitude\",\"Units\": \"degrees_east\",\"DataType\": \"float32\",\"Dimensions\": [{\"Name\": \"longitude\",\"Size\": 720,\"Type\": \"LONGITUDE_DIMENSION\"}],\"ValidRanges\": [{\"Min\": -3.4028234663852886e+38,\"Max\": 3.4028234663852886e+38}],\"Scale\": 1.0,\"Offset\": 0.0,\"VariableType\": \"OTHER\",\"Characteristics\": {\"GroupPath\": \"/longitude\",\"IndexRanges\": {\"LatRange\": [-90.0,90.0],\"LonRange\": [-180.0,180.0]}},\"Sets\": [{\"Name\": \"longitude\",\"Type\": \"General\",\"Size\": 1,\"Index\": 1}]},{\"Name\": \"time_step\",\"LongName\": \"model time step [hours since 1992-01-01T12:00:00\",\"Definition\": \"model time step [hours since 1992-01-01T12:00:00\",\"Units\": \"hours\",\"DataType\": \"int32\",\"Dimensions\": [{\"Name\": \"time\",\"Size\": 1,\"Type\": \"TIME_DIMENSION\"}],\"ValidRanges\": [{\"Min\": -2147483648,\"Max\": 2147483647}],\"Scale\": 1.0,\"Offset\": 0.0,\"VariableType\": \"OTHER\",\"Characteristics\": {\"GroupPath\": \"/time_step\",\"IndexRanges\": {\"LatRange\": [-90.0,90.0],\"LonRange\": [-180.0,180.0]}},\"Sets\": [{\"Name\": \"time_step\",\"Type\": \"General\",\"Size\": 1,\"Index\": 1}]},{\"Name\": \"EXFpreci\",\"LongName\": \"Precipitation rate\",\"Definition\": \"Precipitation rate\",\"Units\": \"m s-1\",\"DataType\": \"float32\",\"Dimensions\": [{\"Name\": \"time\",\"Size\": 1,\"Type\": \"TIME_DIMENSION\"},{\"Name\": \"latitude\",\"Size\": 360,\"Type\": \"LATITUDE_DIMENSION\"},{\"Name\": \"longitude\",\"Size\": 720,\"Type\": \"LONGITUDE_DIMENSION\"}],\"ValidRanges\": [{\"Min\": -3.4028234663852886e+38,\"Max\": 3.4028234663852886e+38}],\"Scale\": 1.0,\"Offset\": 0.0,\"FillValues\": [{\"Value\": 9.969209968386869e+36,\"Type\": \"SCIENCE_FILLVALUE\"}],\"VariableType\": \"SCIENCE_VARIABLE\",\"Characteristics\": {\"GroupPath\": \"/EXFpreci\",\"IndexRanges\": {\"LatRange\": [-90.0,90.0],\"LonRange\": [-180.0,180.0]}},\"Sets\": [{\"Name\": \"EXFpreci\",\"Type\": \"General\",\"Size\": 1,\"Index\": 1}]},{\"Name\": \"latitude_bnds\",\"LongName\": \"latitude bounds of lat-lon grid cells\",\"Definition\": \"latitude bounds of lat-lon grid cells\",\"DataType\": \"float32\",\"Dimensions\": [{\"Name\": \"latitude\",\"Size\": 360,\"Type\": \"LATITUDE_DIMENSION\"},{\"Name\": \"nv\",\"Size\": 2,\"Type\": \"OTHER\"}],\"ValidRanges\": [{\"Min\": -3.4028234663852886e+38,\"Max\": 3.4028234663852886e+38}],\"Scale\": 1.0,\"Offset\": 0.0,\"VariableType\": \"OTHER\",\"Characteristics\": {\"GroupPath\": \"/latitude_bnds\",\"IndexRanges\": {\"LatRange\": [-90.0,90.0],\"LonRange\": [-180.0,180.0]}},\"Sets\": [{\"Name\": \"latitude_bnds\",\"Type\": \"General\",\"Size\": 1,\"Index\": 1}]},{\"Name\": \"longitude_bnds\",\"LongName\": \"longitude bounds of lat-lon grid cells\",\"Definition\": \"longitude bounds of lat-lon grid cells\",\"DataType\": \"float32\",\"Dimensions\": [{\"Name\": \"longitude\",\"Size\": 720,\"Type\": \"LONGITUDE_DIMENSION\"},{\"Name\": \"nv\",\"Size\": 2,\"Type\": \"OTHER\"}],\"ValidRanges\": [{\"Min\": -3.4028234663852886e+38,\"Max\": 3.4028234663852886e+38}],\"Scale\": 1.0,\"Offset\": 0.0,\"VariableType\": \"OTHER\",\"Characteristics\": {\"GroupPath\": \"/longitude_bnds\",\"IndexRanges\": {\"LatRange\": [-90.0,90.0],\"LonRange\": [-180.0,180.0]}},\"Sets\": [{\"Name\": \"longitude_bnds\",\"Type\": \"General\",\"Size\": 1,\"Index\": 1}]},{\"Name\": \"time_bnds\",\"LongName\": \"start and stop time of period or time of snapshot\",\"Definition\": \"start and stop time of period or time of snapshot\",\"Units\": \"days since 1992-01-01 00:00:00\",\"DataType\": \"int32\",\"Dimensions\": [{\"Name\": \"time\",\"Size\": 1,\"Type\": \"TIME_DIMENSION\"},{\"Name\": \"nv\",\"Size\": 2,\"Type\": \"OTHER\"}],\"ValidRanges\": [{\"Min\": -2147483648,\"Max\": 2147483647}],\"Scale\": 1.0,\"Offset\": 0.0,\"VariableType\": \"OTHER\",\"Characteristics\": {\"GroupPath\": \"/time_bnds\",\"IndexRanges\": {\"LatRange\": [-90.0,90.0],\"LonRange\": [-180.0,180.0]}},\"Sets\": [{\"Name\": \"time_bnds\",\"Type\": \"General\",\"Size\": 1,\"Index\": 1}]},{\"Name\": \"EXFevap\",\"LongName\": \"Evaporation rate\",\"Definition\": \"Evaporation rate\",\"Units\": \"m s-1\",\"DataType\": \"float32\",\"Dimensions\": [{\"Name\": \"time\",\"Size\": 1,\"Type\": \"TIME_DIMENSION\"},{\"Name\": \"latitude\",\"Size\": 360,\"Type\": \"LATITUDE_DIMENSION\"},{\"Name\": \"longitude\",\"Size\": 720,\"Type\": \"LONGITUDE_DIMENSION\"}],\"ValidRanges\": [{\"Min\": -3.4028234663852886e+38,\"Max\": 3.4028234663852886e+38}],\"Scale\": 1.0,\"Offset\": 0.0,\"FillValues\": [{\"Value\": 9.969209968386869e+36,\"Type\": \"SCIENCE_FILLVALUE\"}],\"VariableType\": \"SCIENCE_VARIABLE\",\"Characteristics\": {\"GroupPath\": \"/EXFevap\",\"IndexRanges\": {\"LatRange\": [-90.0,90.0],\"LonRange\": [-180.0,180.0]}},\"Sets\": [{\"Name\": \"EXFevap\",\"Type\": \"General\",\"Size\": 1,\"Index\": 1}]},{\"Name\": \"EXFroff\",\"LongName\": \"River runoff\",\"Definition\": \"River runoff\",\"Units\": \"m s-1\",\"DataType\": \"float32\",\"Dimensions\": [{\"Name\": \"time\",\"Size\": 1,\"Type\": \"TIME_DIMENSION\"},{\"Name\": \"latitude\",\"Size\": 360,\"Type\": \"LATITUDE_DIMENSION\"},{\"Name\": \"longitude\",\"Size\": 720,\"Type\": \"LONGITUDE_DIMENSION\"}],\"ValidRanges\": [{\"Min\": -3.4028234663852886e+38,\"Max\": 3.4028234663852886e+38}],\"Scale\": 1.0,\"Offset\": 0.0,\"FillValues\": [{\"Value\": 9.969209968386869e+36,\"Type\": \"SCIENCE_FILLVALUE\"}],\"VariableType\": \"SCIENCE_VARIABLE\",\"Characteristics\": {\"GroupPath\": \"/EXFroff\",\"IndexRanges\": {\"LatRange\": [-90.0,90.0],\"LonRange\": [-180.0,180.0]}},\"Sets\": [{\"Name\": \"EXFroff\",\"Type\": \"General\",\"Size\": 1,\"Index\": 1}]},{\"Name\": \"SIsnPrcp\",\"LongName\": \"Snow precipitation on sea-ice\",\"Definition\": \"Snow precipitation on sea-ice\",\"Units\": \"kg m-2 s-1\",\"DataType\": \"float32\",\"Dimensions\": [{\"Name\": \"time\",\"Size\": 1,\"Type\": \"TIME_DIMENSION\"},{\"Name\": \"latitude\",\"Size\": 360,\"Type\": \"LATITUDE_DIMENSION\"},{\"Name\": \"longitude\",\"Size\": 720,\"Type\": \"LONGITUDE_DIMENSION\"}],\"ValidRanges\": [{\"Min\": -3.4028234663852886e+38,\"Max\": 3.4028234663852886e+38}],\"Scale\": 1.0,\"Offset\": 0.0,\"FillValues\": [{\"Value\": 9.969209968386869e+36,\"Type\": \"SCIENCE_FILLVALUE\"}],\"VariableType\": \"SCIENCE_VARIABLE\",\"Characteristics\": {\"GroupPath\": \"/SIsnPrcp\",\"IndexRanges\": {\"LatRange\": [-90.0,90.0],\"LonRange\": [-180.0,180.0]}},\"Sets\": [{\"Name\": \"SIsnPrcp\",\"Type\": \"General\",\"Size\": 1,\"Index\": 1}]},{\"Name\": \"EXFempmr\",\"LongName\": \"Net freshwater flux out of the ocean from precipitation, evaporation, and runoff\",\"Definition\": \"Net freshwater flux out of the ocean from precipitation, evaporation, and runoff\",\"Units\": \"m s-1\",\"DataType\": \"float32\",\"Dimensions\": [{\"Name\": \"time\",\"Size\": 1,\"Type\": \"TIME_DIMENSION\"},{\"Name\": \"latitude\",\"Size\": 360,\"Type\": \"LATITUDE_DIMENSION\"},{\"Name\": \"longitude\",\"Size\": 720,\"Type\": \"LONGITUDE_DIMENSION\"}],\"ValidRanges\": [{\"Min\": -3.4028234663852886e+38,\"Max\": 3.4028234663852886e+38}],\"Scale\": 1.0,\"Offset\": 0.0,\"FillValues\": [{\"Value\": 9.969209968386869e+36,\"Type\": \"SCIENCE_FILLVALUE\"}],\"VariableType\": \"SCIENCE_VARIABLE\",\"Characteristics\": {\"GroupPath\": \"/EXFempmr\",\"IndexRanges\": {\"LatRange\": [-90.0,90.0],\"LonRange\": [-180.0,180.0]}},\"Sets\": [{\"Name\": \"EXFempmr\",\"Type\": \"General\",\"Size\": 1,\"Index\": 1}]},{\"Name\": \"oceFWflx\",\"LongName\": \"Net freshwater flux into the ocean\",\"Definition\": \"Net freshwater flux into the ocean\",\"Units\": \"kg m-2 s-1\",\"DataType\": \"float32\",\"Dimensions\": [{\"Name\": \"time\",\"Size\": 1,\"Type\": \"TIME_DIMENSION\"},{\"Name\": \"latitude\",\"Size\": 360,\"Type\": \"LATITUDE_DIMENSION\"},{\"Name\": \"longitude\",\"Size\": 720,\"Type\": \"LONGITUDE_DIMENSION\"}],\"ValidRanges\": [{\"Min\": -3.4028234663852886e+38,\"Max\": 3.4028234663852886e+38}],\"Scale\": 1.0,\"Offset\": 0.0,\"FillValues\": [{\"Value\": 9.969209968386869e+36,\"Type\": \"SCIENCE_FILLVALUE\"}],\"VariableType\": \"SCIENCE_VARIABLE\",\"Characteristics\": {\"GroupPath\": \"/oceFWflx\",\"IndexRanges\": {\"LatRange\": [-90.0,90.0],\"LonRange\": [-180.0,180.0]}},\"Sets\": [{\"Name\": \"oceFWflx\",\"Type\": \"General\",\"Size\": 1,\"Index\": 1}]},{\"Name\": \"SIatmFW\",\"LongName\": \"Net freshwater flux into the open ocean, sea-ice, and snow\",\"Definition\": \"Net freshwater flux into the open ocean, sea-ice, and snow\",\"Units\": \"kg m-2 s-1\",\"DataType\": \"float32\",\"Dimensions\": [{\"Name\": \"time\",\"Size\": 1,\"Type\": \"TIME_DIMENSION\"},{\"Name\": \"latitude\",\"Size\": 360,\"Type\": \"LATITUDE_DIMENSION\"},{\"Name\": \"longitude\",\"Size\": 720,\"Type\": \"LONGITUDE_DIMENSION\"}],\"ValidRanges\": [{\"Min\": -3.4028234663852886e+38,\"Max\": 3.4028234663852886e+38}],\"Scale\": 1.0,\"Offset\": 0.0,\"FillValues\": [{\"Value\": 9.969209968386869e+36,\"Type\": \"SCIENCE_FILLVALUE\"}],\"VariableType\": \"SCIENCE_VARIABLE\",\"Characteristics\": {\"GroupPath\": \"/SIatmFW\",\"IndexRanges\": {\"LatRange\": [-90.0,90.0],\"LonRange\": [-180.0,180.0]}},\"Sets\": [{\"Name\": \"SIatmFW\",\"Type\": \"General\",\"Size\": 1,\"Index\": 1}]},{\"Name\": \"SFLUX\",\"LongName\": \"Rate of change of total ocean salinity per m2 accounting for mass fluxes.\",\"Definition\": \"Rate of change of total ocean salinity per m2 accounting for mass fluxes.\",\"Units\": \"g m-2 s-1\",\"DataType\": \"float32\",\"Dimensions\": [{\"Name\": \"time\",\"Size\": 1,\"Type\": \"TIME_DIMENSION\"},{\"Name\": \"latitude\",\"Size\": 360,\"Type\": \"LATITUDE_DIMENSION\"},{\"Name\": \"longitude\",\"Size\": 720,\"Type\": \"LONGITUDE_DIMENSION\"}],\"ValidRanges\": [{\"Min\": -3.4028234663852886e+38,\"Max\": 3.4028234663852886e+38}],\"Scale\": 1.0,\"Offset\": 0.0,\"FillValues\": [{\"Value\": 9.969209968386869e+36,\"Type\": \"SCIENCE_FILLVALUE\"}],\"VariableType\": \"SCIENCE_VARIABLE\",\"Characteristics\": {\"GroupPath\": \"/SFLUX\",\"IndexRanges\": {\"LatRange\": [-90.0,90.0],\"LonRange\": [-180.0,180.0]}},\"Sets\": [{\"Name\": \"SFLUX\",\"Type\": \"General\",\"Size\": 1,\"Index\": 1}]},{\"Name\": \"SIacSubl\",\"LongName\": \"Freshwater flux to the atmosphere due to sublimation-deposition of snow or ice\",\"Definition\": \"Freshwater flux to the atmosphere due to sublimation-deposition of snow or ice\",\"Units\": \"kg m-2 s-1\",\"DataType\": \"float32\",\"Dimensions\": [{\"Name\": \"time\",\"Size\": 1,\"Type\": \"TIME_DIMENSION\"},{\"Name\": \"latitude\",\"Size\": 360,\"Type\": \"LATITUDE_DIMENSION\"},{\"Name\": \"longitude\",\"Size\": 720,\"Type\": \"LONGITUDE_DIMENSION\"}],\"ValidRanges\": [{\"Min\": -3.4028234663852886e+38,\"Max\": 3.4028234663852886e+38}],\"Scale\": 1.0,\"Offset\": 0.0,\"FillValues\": [{\"Value\": 9.969209968386869e+36,\"Type\": \"SCIENCE_FILLVALUE\"}],\"VariableType\": \"SCIENCE_VARIABLE\",\"Characteristics\": {\"GroupPath\": \"/SIacSubl\",\"IndexRanges\": {\"LatRange\": [-90.0,90.0],\"LonRange\": [-180.0,180.0]}},\"Sets\": [{\"Name\": \"SIacSubl\",\"Type\": \"General\",\"Size\": 1,\"Index\": 1}]},{\"Name\": \"SIrsSubl\",\"LongName\": \"Residual sublimation freshwater flux\",\"Definition\": \"Residual sublimation freshwater flux\",\"Units\": \"kg m-2 s-1\",\"DataType\": \"float32\",\"Dimensions\": [{\"Name\": \"time\",\"Size\": 1,\"Type\": \"TIME_DIMENSION\"},{\"Name\": \"latitude\",\"Size\": 360,\"Type\": \"LATITUDE_DIMENSION\"},{\"Name\": \"longitude\",\"Size\": 720,\"Type\": \"LONGITUDE_DIMENSION\"}],\"ValidRanges\": [{\"Min\": -3.4028234663852886e+38,\"Max\": 3.4028234663852886e+38}],\"Scale\": 1.0,\"Offset\": 0.0,\"FillValues\": [{\"Value\": 9.969209968386869e+36,\"Type\": \"SCIENCE_FILLVALUE\"}],\"VariableType\": \"SCIENCE_VARIABLE\",\"Characteristics\": {\"GroupPath\": \"/SIrsSubl\",\"IndexRanges\": {\"LatRange\": [-90.0,90.0],\"LonRange\": [-180.0,180.0]}},\"Sets\": [{\"Name\": \"SIrsSubl\",\"Type\": \"General\",\"Size\": 1,\"Index\": 1}]},{\"Name\": \"SIfwThru\",\"LongName\": \"Precipitation through sea-ice\",\"Definition\": \"Precipitation through sea-ice\",\"Units\": \"kg m-2 s-1\",\"DataType\": \"float32\",\"Dimensions\": [{\"Name\": \"time\",\"Size\": 1,\"Type\": \"TIME_DIMENSION\"},{\"Name\": \"latitude\",\"Size\": 360,\"Type\": \"LATITUDE_DIMENSION\"},{\"Name\": \"longitude\",\"Size\": 720,\"Type\": \"LONGITUDE_DIMENSION\"}],\"ValidRanges\": [{\"Min\": -3.4028234663852886e+38,\"Max\": 3.4028234663852886e+38}],\"Scale\": 1.0,\"Offset\": 0.0,\"FillValues\": [{\"Value\": 9.969209968386869e+36,\"Type\": \"SCIENCE_FILLVALUE\"}],\"VariableType\": \"SCIENCE_VARIABLE\",\"Characteristics\": {\"GroupPath\": \"/SIfwThru\",\"IndexRanges\": {\"LatRange\": [-90.0,90.0],\"LonRange\": [-180.0,180.0]}},\"Sets\": [{\"Name\": \"SIfwThru\",\"Type\": \"General\",\"Size\": 1,\"Index\": 1}]}]'"
      ]
     },
     "execution_count": 14,
     "metadata": {},
     "output_type": "execute_result"
    }
   ],
   "source": [
    "dsvars.ummvar.iloc[0]"
   ]
  },
  {
   "cell_type": "code",
   "execution_count": 25,
   "metadata": {
    "ExecuteTime": {
     "end_time": "2020-08-06T10:46:52.035804Z",
     "start_time": "2020-08-06T10:46:51.894328Z"
    }
   },
   "outputs": [],
   "source": [
    "#!rm ../metadata/ummvar/*.json"
   ]
  },
  {
   "cell_type": "code",
   "execution_count": 26,
   "metadata": {
    "ExecuteTime": {
     "end_time": "2020-08-06T10:47:42.789667Z",
     "start_time": "2020-08-06T10:47:42.648127Z"
    }
   },
   "outputs": [],
   "source": [
    "for i, r in dsvars.iterrows():\n",
    "    rmeta = loads(r['ummvar'])\n",
    "    for v in rmeta:\n",
    "        if v['Name'].startswith((\"latitude\", \"longitude\", \"time\", \"Z\")):\n",
    "            rname = f\".{r['shortname']}-{v['Name']}\"\n",
    "        else:\n",
    "            rname = f\"{r['shortname']}-{v['Name']}\"\n",
    "        with open(f\"../metadata/ummvar/{rname}.json\", \"w\") as f:\n",
    "            f.write(dumps(v, indent=2))"
   ]
  },
  {
   "cell_type": "code",
   "execution_count": 34,
   "metadata": {
    "ExecuteTime": {
     "end_time": "2020-08-06T10:49:23.628973Z",
     "start_time": "2020-08-06T10:49:23.609804Z"
    }
   },
   "outputs": [
    {
     "data": {
      "text/plain": [
       "['../metadata/ummvar/ECCO_L4_ATM_PROPERTIES_05DEG_DAILY_V4R4-EXFaqh.json',\n",
       " '../metadata/ummvar/ECCO_L4_ATM_PROPERTIES_05DEG_DAILY_V4R4-EXFatemp.json',\n",
       " '../metadata/ummvar/ECCO_L4_ATM_PROPERTIES_05DEG_DAILY_V4R4-EXFewind.json',\n",
       " '../metadata/ummvar/ECCO_L4_ATM_PROPERTIES_05DEG_DAILY_V4R4-EXFnwind.json',\n",
       " '../metadata/ummvar/ECCO_L4_ATM_PROPERTIES_05DEG_DAILY_V4R4-EXFpress.json']"
      ]
     },
     "execution_count": 34,
     "metadata": {},
     "output_type": "execute_result"
    }
   ],
   "source": [
    "science_vars=!ls ../metadata/ummvar/*.json\n",
    "len(science_vars)\n",
    "science_vars[:5]"
   ]
  },
  {
   "cell_type": "code",
   "execution_count": 35,
   "metadata": {
    "ExecuteTime": {
     "end_time": "2020-08-06T10:49:34.296575Z",
     "start_time": "2020-08-06T10:49:34.272616Z"
    }
   },
   "outputs": [
    {
     "data": {
      "text/plain": [
       "['../metadata/ummvar/.ECCO_L4_ATM_PROPERTIES_05DEG_DAILY_V4R4-latitude.json',\n",
       " '../metadata/ummvar/.ECCO_L4_ATM_PROPERTIES_05DEG_DAILY_V4R4-latitude_bnds.json',\n",
       " '../metadata/ummvar/.ECCO_L4_ATM_PROPERTIES_05DEG_DAILY_V4R4-longitude.json',\n",
       " '../metadata/ummvar/.ECCO_L4_ATM_PROPERTIES_05DEG_DAILY_V4R4-longitude_bnds.json',\n",
       " '../metadata/ummvar/.ECCO_L4_ATM_PROPERTIES_05DEG_DAILY_V4R4-time.json']"
      ]
     },
     "execution_count": 35,
     "metadata": {},
     "output_type": "execute_result"
    }
   ],
   "source": [
    "coords_vars=!ls ../metadata/ummvar/.*.json\n",
    "len(coords_vars)\n",
    "coords_vars[:5]"
   ]
  },
  {
   "cell_type": "code",
   "execution_count": null,
   "metadata": {},
   "outputs": [],
   "source": []
  }
 ],
 "metadata": {
  "kernelspec": {
   "display_name": "Python 3.8.2 64-bit ('geo': conda)",
   "language": "python",
   "name": "python38264bitgeoconda68469ab7a3c44e969080e19c63965fc7"
  },
  "language_info": {
   "codemirror_mode": {
    "name": "ipython",
    "version": 3
   },
   "file_extension": ".py",
   "mimetype": "text/x-python",
   "name": "python",
   "nbconvert_exporter": "python",
   "pygments_lexer": "ipython3",
   "version": "3.8.2"
  },
  "toc": {
   "base_numbering": 1,
   "nav_menu": {},
   "number_sections": true,
   "sideBar": true,
   "skip_h1_title": true,
   "title_cell": "Table of Contents",
   "title_sidebar": "Contents",
   "toc_cell": true,
   "toc_position": {
    "height": "calc(100% - 180px)",
    "left": "10px",
    "top": "150px",
    "width": "165px"
   },
   "toc_section_display": true,
   "toc_window_display": true
  }
 },
 "nbformat": 4,
 "nbformat_minor": 4
}
